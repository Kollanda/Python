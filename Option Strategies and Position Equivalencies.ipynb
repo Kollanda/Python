{
 "cells": [
  {
   "cell_type": "code",
   "execution_count": 107,
   "metadata": {},
   "outputs": [],
   "source": [
    "import numpy as np \n",
    "import matplotlib.pyplot as plt\n",
    "from ipywidgets import interact, interactive, fixed, interact_manual\n",
    "import ipywidgets as widgets\n",
    "from scipy.stats import norm\n",
    "%matplotlib inline\n",
    "\n",
    "from IPython.display import HTML"
   ]
  },
  {
   "cell_type": "code",
   "execution_count": 108,
   "metadata": {},
   "outputs": [
    {
     "data": {
      "text/html": [
       "<script>\n",
       "code_show=true; \n",
       "function code_toggle() {\n",
       " if (code_show){\n",
       " $('div.input').hide();\n",
       " } else {\n",
       " $('div.input').show();\n",
       " }\n",
       " code_show = !code_show\n",
       "} \n",
       "$( document ).ready(code_toggle);\n",
       "</script>\n",
       "The raw code for this IPython notebook is by default hidden for easier reading.\n",
       "To toggle on/off the raw code, click <a href=\"javascript:code_toggle()\">here</a>."
      ],
      "text/plain": [
       "<IPython.core.display.HTML object>"
      ]
     },
     "execution_count": 108,
     "metadata": {},
     "output_type": "execute_result"
    }
   ],
   "source": [
    "HTML('''<script>\n",
    "code_show=true; \n",
    "function code_toggle() {\n",
    " if (code_show){\n",
    " $('div.input').hide();\n",
    " } else {\n",
    " $('div.input').show();\n",
    " }\n",
    " code_show = !code_show\n",
    "} \n",
    "$( document ).ready(code_toggle);\n",
    "</script>\n",
    "The raw code for this IPython notebook is by default hidden for easier reading.\n",
    "To toggle on/off the raw code, click <a href=\"javascript:code_toggle()\">here</a>.''')"
   ]
  },
  {
   "cell_type": "code",
   "execution_count": 101,
   "metadata": {},
   "outputs": [],
   "source": [
    "def call(strike_call,premium_call):\n",
    "    price = np.arange(110,230,1) # the stock price at expiration date\n",
    "    # the payoff of Long Call position: max(S-X,0) where we include the premium here\n",
    "    payoff_long_call = [max(0, (i - strike_call))-premium_call for i in price]\n",
    "    \n",
    "    fig, (ax1, ax2) = plt.subplots(ncols=2, sharex=False, sharey=False,figsize=(15,5))\n",
    "    \n",
    "    plt.style.use('dark_background')\n",
    "    ax1.plot(price, payoff_long_call, label = 'Long Call',linewidth=5) \n",
    "    # get line at origin\n",
    "    ax1.axhline(linewidth=2, color='b')\n",
    "    #plt.legend(fontsize = 12)\n",
    "    ax1.set_title('Long Call Strategy',fontsize = 12, color = 'w')\n",
    "    ax1.grid(True,linewidth=0.2)\n",
    "    ax1.set_xlabel('Price of Underlying at Expiry', fontsize = 12)\n",
    "    ax1.set_ylabel('Payoff',fontsize = 12)\n",
    "    \n",
    "    # define distribution \n",
    "    x = np.linspace(0,200,1000)\n",
    "    y = norm.pdf(x, loc=100, scale=25)    # pass the mean and standard deviation as loc and scale\n",
    "    ax2.plot(x,y)\n",
    "    ax2.fill_between(x,y, where = x >=strike_call, color='r')\n",
    "    ax2.fill_between(x,y, where = x <=45, color='g')\n",
    "    ax2.fill_between(x,y, where = (x<=75) & (x>=45), color='y')\n",
    "    "
   ]
  },
  {
   "cell_type": "code",
   "execution_count": null,
   "metadata": {},
   "outputs": [],
   "source": []
  },
  {
   "cell_type": "code",
   "execution_count": 102,
   "metadata": {},
   "outputs": [],
   "source": [
    "def option_type(*args):\n",
    "    for x in args:\n",
    "        return(interact(x,\n",
    "                strike_call = widgets.FloatSlider(value=150.0,\n",
    "                                                   min=95.0,\n",
    "                                                   max=200.0,\n",
    "                                                   step=5.0\n",
    "                                                   ),\n",
    "                strike_put = widgets.FloatSlider(value=150,\n",
    "                                                   min=95.0,\n",
    "                                                   max=200.0,\n",
    "                                                   step=5.0),\n",
    "                premium_call = widgets.FloatSlider(value=15,\n",
    "                                                   min=1,\n",
    "                                                   max=50,\n",
    "                                                   step=0.5),\n",
    "                premium_put = widgets.FloatSlider(value=7.5,\n",
    "                                                   min=1,\n",
    "                                                   max=50,\n",
    "                                                   step=0.5)))"
   ]
  },
  {
   "cell_type": "code",
   "execution_count": 104,
   "metadata": {},
   "outputs": [
    {
     "data": {
      "application/vnd.jupyter.widget-view+json": {
       "model_id": "35a124249d8549ad85caaa62eaea815c",
       "version_major": 2,
       "version_minor": 0
      },
      "text/plain": [
       "interactive(children=(FloatSlider(value=150.0, description='strike_call', max=200.0, min=95.0, step=5.0), Floa…"
      ]
     },
     "metadata": {},
     "output_type": "display_data"
    },
    {
     "data": {
      "text/plain": [
       "<function __main__.call(strike_call, premium_call)>"
      ]
     },
     "execution_count": 104,
     "metadata": {},
     "output_type": "execute_result"
    }
   ],
   "source": [
    "option_type(call)"
   ]
  },
  {
   "cell_type": "code",
   "execution_count": 97,
   "metadata": {},
   "outputs": [],
   "source": [
    "def rr(strike_call, strike_put,premium_call,premium_put): \n",
    "    price = np.arange(70,230,1) # the stock price at expiration date\n",
    "# payoff for the long call\n",
    "    payoff_long_call = [max(0, (i - strike_call))-premium_call for i in price]\n",
    "# payoff for the long put\n",
    "    call_put_flag = -1\n",
    "    payoff_short_put = [min(0, (i - strike_put))-premium_put*call_put_flag for i in price]\n",
    "    payoff = np.sum([payoff_long_call, payoff_short_put], axis=0)\n",
    "    plt.figure(figsize=(15,10))\n",
    "    plt.plot(price, payoff_long_call, label = 'Long Call',linewidth=5)\n",
    "    plt.plot(price, payoff_short_put, label = 'Long put',linewidth=5)\n",
    "    plt.plot(price, payoff, label = 'Risk Reversal',linewidth=8, linestyle='dashed')\n",
    "    plt.legend(fontsize = 20)\n",
    "    plt.xlabel('Price of Underlying at Expiry',fontsize = 15)\n",
    "    plt.ylabel('Payoff',fontsize = 15)\n",
    "    plt.title('Risk Reversal Payoff',fontsize = 20)\n",
    "    plt.grid(True,linewidth=0.2)"
   ]
  },
  {
   "cell_type": "code",
   "execution_count": null,
   "metadata": {},
   "outputs": [],
   "source": []
  },
  {
   "cell_type": "code",
   "execution_count": null,
   "metadata": {},
   "outputs": [],
   "source": []
  }
 ],
 "metadata": {
  "kernelspec": {
   "display_name": "Python 3",
   "language": "python",
   "name": "python3"
  },
  "language_info": {
   "codemirror_mode": {
    "name": "ipython",
    "version": 3
   },
   "file_extension": ".py",
   "mimetype": "text/x-python",
   "name": "python",
   "nbconvert_exporter": "python",
   "pygments_lexer": "ipython3",
   "version": "3.6.5"
  }
 },
 "nbformat": 4,
 "nbformat_minor": 2
}
