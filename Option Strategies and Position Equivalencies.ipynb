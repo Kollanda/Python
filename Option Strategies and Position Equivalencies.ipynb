{
 "cells": [
  {
   "cell_type": "markdown",
   "metadata": {},
   "source": [
    "# Option Strategies and Position Equivalencies"
   ]
  },
  {
   "cell_type": "code",
   "execution_count": 33,
   "metadata": {},
   "outputs": [],
   "source": [
    "# Import all relevant packages \n",
    "import math\n",
    "import numpy as np \n",
    "import matplotlib.pyplot as plt\n",
    "from ipywidgets import interact, interactive, fixed, interact_manual\n",
    "import ipywidgets as widgets\n",
    "from scipy.stats import norm\n",
    "%matplotlib inline\n",
    "\n",
    "from IPython.display import HTML"
   ]
  },
  {
   "cell_type": "code",
   "execution_count": 2,
   "metadata": {},
   "outputs": [
    {
     "data": {
      "text/html": [
       "<script>\n",
       "code_show=true; \n",
       "function code_toggle() {\n",
       " if (code_show){\n",
       " $('div.input').hide();\n",
       " } else {\n",
       " $('div.input').show();\n",
       " }\n",
       " code_show = !code_show\n",
       "} \n",
       "$( document ).ready(code_toggle);\n",
       "</script>\n",
       "The raw code for this IPython notebook is by default hidden for easier reading.\n",
       "To toggle on/off the raw code, click <a href=\"javascript:code_toggle()\">here</a>."
      ],
      "text/plain": [
       "<IPython.core.display.HTML object>"
      ]
     },
     "execution_count": 2,
     "metadata": {},
     "output_type": "execute_result"
    }
   ],
   "source": [
    "# used to hide the code afterwards \n",
    "HTML('''<script>\n",
    "code_show=true; \n",
    "function code_toggle() {\n",
    " if (code_show){\n",
    " $('div.input').hide();\n",
    " } else {\n",
    " $('div.input').show();\n",
    " }\n",
    " code_show = !code_show\n",
    "} \n",
    "$( document ).ready(code_toggle);\n",
    "</script>\n",
    "The raw code for this IPython notebook is by default hidden for easier reading.\n",
    "To toggle on/off the raw code, click <a href=\"javascript:code_toggle()\">here</a>.''')"
   ]
  },
  {
   "cell_type": "markdown",
   "metadata": {},
   "source": [
    "### Some lines of code that will help visualize the payoff of strategies "
   ]
  },
  {
   "cell_type": "code",
   "execution_count": 2,
   "metadata": {},
   "outputs": [],
   "source": [
    "def call(strike, premium_call):\n",
    "    price = np.arange(110,230,1) # the stock price at expiration date\n",
    "    # the payoff of Long Call position: max(S-X,0) where we include the premium here\n",
    "    \n",
    "    payoff_long_call = [max(0, (i - strike)) - premium_call for i in price]\n",
    "    payoff_short_call = [min(0, (strike - i)) + premium_call for i in price]\n",
    "    \n",
    "    fig, (ax1, ax2) = plt.subplots(ncols=2, sharex=False, sharey=False,figsize=(15,5))\n",
    "    \n",
    "    plt.style.use('dark_background')\n",
    "    ax1.plot(price, payoff_long_call, label = 'Long Call',linewidth=3)\n",
    "    ax1.plot(price, payoff_short_call, label = 'Short Call',linewidth=3)\n",
    "    \n",
    "    # get line at origin\n",
    "    ax1.axhline(linewidth=2, color='b')\n",
    "    ax1.legend(fontsize = 12)\n",
    "    ax1.set_title('Long & Short Call Payoff',fontsize = 12, color = 'w')\n",
    "    ax1.grid(True,linewidth=0.2)\n",
    "    ax1.set_xlabel('Price of Underlying at Expiry', fontsize = 12)\n",
    "    ax1.set_ylabel('Payoff',fontsize = 12)\n",
    "    bbox_props1 = dict(boxstyle=\"Darrow,pad=0.1\", fc=\"b\", ec=\"b\")\n",
    "    bbox_props2 = dict(boxstyle=\"Darrow,pad=0.1\", fc=\"g\", ec=\"g\")\n",
    "    bbox_props3 = dict(boxstyle=\"Darrow,pad=0.1\", fc=\"none\", ec=\"y\")\n",
    "    ax1.text(strike - 3.5, -20, \"Out of the Money (OTM)\", ha=\"right\", va=\"center\", \n",
    "            size=12,\n",
    "            bbox=bbox_props1)\n",
    "    ax1.text(strike + 3, -20, \"In the Money (ITM)\", ha=\"left\", va=\"center\", color=\"w\",\n",
    "            size=12,\n",
    "            bbox=bbox_props2)\n",
    "    ax1.text(strike, -25, \"ATM\", ha=\"center\", va=\"top\", rotation=90,\n",
    "            size=12,\n",
    "            bbox=bbox_props3)\n",
    "# define distribution \n",
    "    x = np.linspace(120,220,1000)\n",
    "    y = norm.pdf(x, loc=170, scale=15)    # pass the mean and standard deviation as loc and scale\n",
    "    ax2.plot(x,y)\n",
    "    ax2.fill_between(x,y, where = x <=strike, color='r') \n",
    "    ax2.set_title('Return Distribution associated with the underlying',fontsize = 12, color = 'w')\n",
    "    ax2.set_xlabel('Price of Underlying at Expiry', fontsize = 12)\n",
    "    ax2.set_ylabel('Probability',fontsize = 12)"
   ]
  },
  {
   "cell_type": "code",
   "execution_count": 3,
   "metadata": {},
   "outputs": [],
   "source": [
    "def put(strike, premium_put): \n",
    "    price = np.arange(110,230,1) # the stock price at expiration date\n",
    "    # the payoff of Long Put position: max(X-S,0) where we include the premium here\n",
    "\n",
    "    # payoff_long_put = [max(0, (strike - i)) - premium for i in price]\n",
    "    payoff_long_put = [max(0, (strike - i)) - premium_put for i in price]\n",
    "    payoff_short_put = [min(0, (i - strike)) + premium_put for i in price]\n",
    "\n",
    "    fig, (ax1, ax2) = plt.subplots(ncols=2, sharex=False, sharey=False,figsize=(15,5))\n",
    "    \n",
    "    plt.style.use('dark_background')\n",
    "    ax1.plot(price, payoff_long_put, label = 'Long Put',linewidth=3)\n",
    "    ax1.plot(price, payoff_short_put, label = 'Short Put',linewidth=3)\n",
    "    \n",
    "    # get line at origin\n",
    "    ax1.axhline(linewidth=2, color='b')\n",
    "    ax1.legend(fontsize = 12)\n",
    "    ax1.set_title('Long & Short Put Payoff',fontsize = 12, color = 'w')\n",
    "    ax1.grid(True,linewidth=0.2)\n",
    "    ax1.set_xlabel('Price of Underlying at Expiry', fontsize = 12)\n",
    "    ax1.set_ylabel('Payoff',fontsize = 12)\n",
    "    bbox_props1 = dict(boxstyle=\"Darrow,pad=0.1\", fc=\"b\", ec=\"b\")\n",
    "    bbox_props2 = dict(boxstyle=\"Darrow,pad=0.1\", fc=\"g\", ec=\"g\")\n",
    "    bbox_props3 = dict(boxstyle=\"Darrow,pad=0.1\", fc=\"none\", ec=\"y\")\n",
    "    ax1.text(strike - 3, -20, \"In the Money (ITM)\", ha=\"right\", va=\"center\", \n",
    "            size=12,\n",
    "            bbox=bbox_props1)\n",
    "    ax1.text(strike + 3, -20, \"Out of the Money (OTM)\", ha=\"left\", va=\"center\", color=\"w\",\n",
    "            size=12,\n",
    "            bbox=bbox_props2)\n",
    "    ax1.text(strike, -25, \"ATM\", ha=\"center\", va=\"top\", rotation=90,\n",
    "            size=12,\n",
    "            bbox=bbox_props3)\n",
    "# define distribution \n",
    "    x = np.linspace(120,220,1000)\n",
    "    y = norm.pdf(x, loc=170, scale=15)    # pass the mean and standard deviation as loc and scale\n",
    "    ax2.plot(x,y)\n",
    "    ax2.fill_between(x,y, where = x >=strike, color='r') \n",
    "    ax2.set_title('Return Distribution associated with the underlying',fontsize = 12, color = 'w')\n",
    "    ax2.set_xlabel('Price of Underlying at Expiry', fontsize = 12)\n",
    "    ax2.set_ylabel('Probability',fontsize = 12)"
   ]
  },
  {
   "cell_type": "code",
   "execution_count": 4,
   "metadata": {},
   "outputs": [],
   "source": [
    "def synthetic_long_underlying(strike_atm, premium_atm, underlying):\n",
    "    price = np.arange(110,230,1)\n",
    "    payoff_long_call = [max(0, (i - strike_atm)) - premium_atm for i in price]\n",
    "    payoff_short_put = [min(0, (i - strike_atm)) + premium_atm for i in price]\n",
    "    payoff = np.sum([payoff_long_call, payoff_short_put], axis=0)\n",
    "    #\n",
    "    payoff_long_stock = [i - underlying for i in price]\n",
    "    \n",
    "    plt.style.use('dark_background')\n",
    "    plt.figure(figsize=(12,7))\n",
    "    plt.plot(price, payoff_long_call, label = 'Long Call',linewidth=1)\n",
    "    plt.plot(price, payoff_short_put, label = 'Short Put',linewidth=1)\n",
    "    plt.plot(price, payoff_long_stock, label = 'Long Underlying',linewidth =1)\n",
    "    \n",
    "    plt.plot(price, payoff, label = 'Synthetic Long', color='r', linewidth=5, linestyle='dashed')\n",
    "    plt.axhline(linewidth=2, color='b')\n",
    "    plt.legend(fontsize = 12)\n",
    "    plt.title('Synthethic Long Asset',fontsize = 12, color = 'w')\n",
    "    plt.grid(True,linewidth=0.2)\n",
    "    plt.xlabel('Price of Underlying at Expiry', fontsize = 12)\n",
    "    plt.ylabel('Payoff',fontsize = 12)"
   ]
  },
  {
   "cell_type": "code",
   "execution_count": 5,
   "metadata": {},
   "outputs": [],
   "source": [
    "def synthetic_short_underlying(strike_atm, premium_atm, underlying):\n",
    "    price = np.arange(110,230,1)\n",
    "    payoff_short_call = [min(0, (strike_atm - i)) + premium_atm for i in price]\n",
    "    payoff_long_put = [max(0, (strike_atm - i)) - premium_atm for i in price]\n",
    "    payoff = np.sum([payoff_long_put, payoff_short_call], axis=0)\n",
    "    #\n",
    "    payoff_short_stock = [-i + underlying for i in price]\n",
    "    \n",
    "    plt.style.use('dark_background')\n",
    "    plt.figure(figsize=(12,7))\n",
    "    plt.plot(price, payoff_long_put, label = 'Long Put',linewidth=1)\n",
    "    plt.plot(price, payoff_short_call, label = 'Short Call',linewidth=1)\n",
    "    plt.plot(price, payoff_short_stock, label = 'Short Underlying',linewidth =1)\n",
    "    \n",
    "    plt.plot(price, payoff, label = 'Synthetic Long', color='r', linewidth=5, linestyle='dashed')\n",
    "    plt.axhline(linewidth=2, color='b')\n",
    "    plt.legend(fontsize = 12)\n",
    "    plt.title('Synthethic Long Asset',fontsize = 12, color = 'w')\n",
    "    plt.grid(True,linewidth=0.2)\n",
    "    plt.xlabel('Price of Underlying at Expiry', fontsize = 12)\n",
    "    plt.ylabel('Payoff',fontsize = 12)"
   ]
  },
  {
   "cell_type": "code",
   "execution_count": 6,
   "metadata": {},
   "outputs": [],
   "source": [
    "def synthetic_put(strike_atm, premium_atm, underlying):\n",
    "    price = np.arange(110,230,1)\n",
    "    payoff_long_call = [max(0, (i - strike_atm)) - premium_atm for i in price]\n",
    "    payoff_short_stock = [-i + underlying for i in price]\n",
    "    payoff = np.sum([payoff_long_call, payoff_short_stock], axis=0)\n",
    "    #\n",
    "    \n",
    "    \n",
    "    plt.style.use('dark_background')\n",
    "    plt.figure(figsize=(12,7))\n",
    "    plt.plot(price, payoff_long_call, label = 'Long Call',linewidth=1)\n",
    "    plt.plot(price, payoff_short_stock, label = 'Underlying',linewidth =1)\n",
    "    plt.plot(price, payoff, label = 'Synthetic Put',color='r', linewidth=5, linestyle='dashed')\n",
    "    \n",
    "    \n",
    "    plt.axhline(linewidth=2, color='b')\n",
    "    plt.legend(fontsize = 12)\n",
    "    plt.title('Synthethic Long Asset',fontsize = 12, color = 'w')\n",
    "    plt.grid(True,linewidth=0.2)\n",
    "    plt.xlabel('Price of Underlying at Expiry', fontsize = 12)\n",
    "    plt.ylabel('Payoff',fontsize = 12)"
   ]
  },
  {
   "cell_type": "code",
   "execution_count": 7,
   "metadata": {},
   "outputs": [],
   "source": [
    "def synthetic_call(strike_atm, premium_atm, underlying):\n",
    "    price = np.arange(110,230,1)\n",
    "    payoff_long_put = [max(0, (strike_atm - i)) - premium_atm for i in price]\n",
    "    payoff_long_stock = [i - underlying for i in price]\n",
    "    payoff = np.sum([payoff_long_put, payoff_long_stock], axis=0)\n",
    "    #\n",
    "    \n",
    "    \n",
    "    plt.style.use('dark_background')\n",
    "    plt.figure(figsize=(12,7))\n",
    "    plt.plot(price, payoff_long_put, label = 'Long Put',linewidth=1)\n",
    "    plt.plot(price, payoff_long_stock, label = 'Underlying',linewidth =1)\n",
    "    plt.plot(price, payoff, label = 'Synthetic Call',color='r', linewidth=5, linestyle='dashed')\n",
    "    \n",
    "    \n",
    "    plt.axhline(linewidth=2, color='b')\n",
    "    plt.legend(fontsize = 12)\n",
    "    plt.title('Synthethic Long Asset',fontsize = 12, color = 'w')\n",
    "    plt.grid(True,linewidth=0.2)\n",
    "    plt.xlabel('Price of Underlying at Expiry', fontsize = 12)\n",
    "    plt.ylabel('Payoff',fontsize = 12)"
   ]
  },
  {
   "cell_type": "code",
   "execution_count": 8,
   "metadata": {},
   "outputs": [],
   "source": [
    "def butterfly(strike_call_itm, strike_call_otm, strike_atm, premium_itm, premium_otm, premium_atm):\n",
    "    price = np.arange(110,230,1)\n",
    "    # payoff for the long ITM call position (inlcude premium directly)\n",
    "    payoff_itm_long = [max(- premium_itm, i - strike_call_itm - premium_itm) for i in price]\n",
    "    # payoff for the long OTM call position\n",
    "    payoff_otm_long = [max(- premium_otm, i-strike_call_otm-premium_otm) for i in price]\n",
    "    # payoff for the 2 short ATM call position\n",
    "    payoff_atm_short = [min(2*premium_atm, -2*(i-strike_atm-premium_atm)) for i in price]\n",
    "    # payoff for Butterfly Spread Strategy\n",
    "    payoff = np.sum([payoff_itm_long, payoff_otm_long, payoff_atm_short], axis=0)\n",
    "     \n",
    "    plt.style.use('dark_background')\n",
    "    fig, (ax1, ax2) = plt.subplots(ncols=2, sharex=False, sharey=False,figsize=(15,5))\n",
    "\n",
    "    ax1.plot(price, payoff_itm_long, label = 'Long ITM Call',linewidth=1)\n",
    "    ax1.plot(price, payoff_otm_long, label = 'Long OTM Call',linewidth=1)\n",
    "    ax1.plot(price, payoff_atm_short, label = 'Short 2 ATM Call',linewidth=1)\n",
    "    ax1.plot(price, payoff, label = 'Long Butterfly',linewidth=5, linestyle='dashed',color=\"r\")\n",
    "\n",
    "    ax1.axhline(linewidth=2, color='b')\n",
    "\n",
    "    ax1.axvline(x=strike_call_itm,linewidth=0.5, color='g')\n",
    "    ax1.axvline(x=strike_call_otm,linewidth=0.5, color='g')\n",
    "    ax1.axvline(x=strike_atm,linewidth=0.5, color='g')\n",
    "\n",
    "    ax1.legend(fontsize = 8) #loc=3)\n",
    "    ax1.set_xlabel('Price of underlying at Expiry',fontsize = 12)\n",
    "    ax1.set_ylabel('Payoff',fontsize = 12)\n",
    "    ax1.set_title('Long Butterfly Payoff',fontsize = 12)\n",
    "    ax1.grid(True,linewidth=0.2)\n",
    "# define distribution \n",
    "    x = np.linspace(110,230,1000)\n",
    "    y = norm.pdf(x, loc=170, scale=15)    # pass the mean and standard deviation as loc and scale\n",
    "    ax2.plot(x,y)\n",
    "    ax2.fill_between(x,y, where = x <=strike_call_itm, color='r') \n",
    "    ax2.fill_between(x,y, where = x >=strike_call_otm, color='r')\n",
    "    ax2.set_title('Return Distribution associated with the underlying',fontsize = 12, color = 'w')\n",
    "    ax2.set_xlabel('Price of Underlying at expiry', fontsize = 12)\n",
    "    ax2.set_ylabel('Probability',fontsize = 12)"
   ]
  },
  {
   "cell_type": "code",
   "execution_count": 9,
   "metadata": {},
   "outputs": [],
   "source": [
    "def synthetic_forward(strike_atm, premium_call, premium_put): \n",
    "    price = np.arange(110,230,1) # the stock price at expiration date\n",
    "    call_put_flag = -1\n",
    "# payoff for the long call\n",
    "    payoff_long_call = [max(0, (i - strike_atm))-premium_call for i in price]\n",
    "# payoff for the short put\n",
    "    payoff_short_put = [min(0, (i - strike_atm))-premium_put*call_put_flag for i in price]\n",
    "# combined payoff\n",
    "    payoff = np.sum([payoff_long_call, payoff_short_put], axis=0)\n",
    "    \n",
    "    plt.style.use('dark_background')\n",
    "    fig, (ax1, ax2) = plt.subplots(ncols=2, sharex=False, sharey=False,figsize=(15,5))\n",
    " \n",
    "    ax1.plot(price, payoff_long_call, label = 'Long Call',linewidth=1)\n",
    "    ax1.plot(price, payoff_short_put, label = 'Short put',linewidth=1)\n",
    "    ax1.plot(price, payoff, label = 'Risk Reversal',linewidth=5, linestyle='dashed',color=\"r\")\n",
    "    ax1.axhline(linewidth=2, color='b')\n",
    "    ax1.legend(fontsize = 12)\n",
    "    ax1.set_xlabel('Price of Underlying at Expiry',fontsize = 12)\n",
    "    ax1.set_ylabel('Payoff',fontsize = 12)\n",
    "    ax1.set_title('Synthetic Forward Payoff',fontsize = 12)\n",
    "    ax1.grid(True,linewidth=0.2)   \n",
    "    ax1.axvline(x=strike_atm,linewidth=0.5, color='g')\n",
    "# define distribution \n",
    "    x = np.linspace(110,230,1000)\n",
    "    y = norm.pdf(x, loc=170, scale=15)    # pass the mean and standard deviation as loc and scale\n",
    "    ax2.plot(x,y)\n",
    "    ax2.fill_between (x,y, where = (x <= strike_atm) & (x >=strike_atm), color='r') \n",
    "    ax2.fill_between(x,y, where = (x >=strike_atm) & (x<=strike_atm), color='r')\n",
    "    ax2.set_title('Return Distribution associated with the underlying',fontsize = 12, color = 'w')\n",
    "    ax2.set_xlabel('Price of Underlying at expiry', fontsize = 12)\n",
    "    ax2.set_ylabel('Probability',fontsize = 12)"
   ]
  },
  {
   "cell_type": "code",
   "execution_count": 10,
   "metadata": {},
   "outputs": [],
   "source": [
    "def risk_reversal(strike_call_otm, strike_put_otm,premium_otm): \n",
    "    price = np.arange(110,230,1) # the stock price at expiration date\n",
    "    call_put_flag = -1\n",
    "# payoff for the long call\n",
    "    payoff_long_call = [max(0, (i - strike_call_otm))-premium_otm for i in price]\n",
    "# payoff for the short put\n",
    "    payoff_short_put = [min(0, (i - strike_put_otm))-premium_otm*call_put_flag for i in price]\n",
    "# combined payoff\n",
    "    payoff = np.sum([payoff_long_call, payoff_short_put], axis=0)\n",
    "    \n",
    "    plt.style.use('dark_background')\n",
    "    fig, (ax1, ax2) = plt.subplots(ncols=2, sharex=False, sharey=False,figsize=(15,5))\n",
    " \n",
    "    ax1.plot(price, payoff_long_call, label = 'Long Call',linewidth=1)\n",
    "    ax1.plot(price, payoff_short_put, label = 'Short put',linewidth=1)\n",
    "    ax1.plot(price, payoff, label = 'Synthetic Forward',linewidth=5, linestyle='dashed',color=\"r\")\n",
    "    ax1.axhline(linewidth=2, color='b')\n",
    "    ax1.legend(fontsize = 12)\n",
    "    ax1.set_xlabel('Price of Underlying at Expiry',fontsize = 12)\n",
    "    ax1.set_ylabel('Payoff',fontsize = 12)\n",
    "    ax1.set_title('Risk Reversal Payoff',fontsize = 12)\n",
    "    ax1.grid(True,linewidth=0.2)   \n",
    "    ax1.axvline(x=strike_call_otm,linewidth=0.5, color='g')\n",
    "    ax1.axvline(x=strike_put_otm,linewidth=0.5, color='g')\n",
    "# define distribution \n",
    "    x = np.linspace(110,230,1000)\n",
    "    y = norm.pdf(x, loc=170, scale=15)    # pass the mean and standard deviation as loc and scale\n",
    "    ax2.plot(x,y)\n",
    "    ax2.fill_between (x,y, where = (x <= strike_call_otm) & (x >=strike_put_otm), color='r') \n",
    "    ax2.fill_between(x,y, where = (x >=strike_put_otm) & (x<=strike_call_otm), color='r')\n",
    "    ax2.set_title('Return Distribution associated with the underlying',fontsize = 12, color = 'w')\n",
    "    ax2.set_xlabel('Price of Underlying at expiry', fontsize = 12)\n",
    "    ax2.set_ylabel('Probability',fontsize = 12)"
   ]
  },
  {
   "cell_type": "code",
   "execution_count": 11,
   "metadata": {},
   "outputs": [],
   "source": [
    "def covered_call(strike_call_otm, premium_otm, underlying):\n",
    "    price = np.arange(110,230,1) # the stock price at expiration date\n",
    "    # the payoff of short call position\n",
    "    payoff_short_call = [min(0, - (i - strike_call_otm)) + premium_otm for i in price]\n",
    "    # the payoff of long stock postion\n",
    "    payoff_long_stock = [i - underlying for i in price]\n",
    "    # the payoff of covered call\n",
    "    payoff_covered_call = np.sum([payoff_short_call, payoff_long_stock], axis=0)\n",
    "    \n",
    "    max_profit = (strike_call_otm - underlying) + premium_otm\n",
    "    \n",
    "    fig, (ax1, ax2) = plt.subplots(ncols=2, sharex=False, sharey=False,figsize=(15,5))\n",
    "    \n",
    "    plt.style.use('dark_background')\n",
    "    \n",
    "    ax1.plot(price, payoff_short_call, label = 'Short Call', linewidth=1)\n",
    "    ax1.plot(price, payoff_long_stock, label = 'Long Underlying', linewidth=1)\n",
    "    ax1.plot(price, payoff_covered_call, label = 'Covered Call', color='r', linewidth=5, linestyle='dashed')\n",
    "  \n",
    "    ax1.axhline(y = max_profit, xmin=0.0, xmax=0.2, color='m',linewidth=0.7, label = \"{}-{}+{} = {} (Max. Gain)\".format(strike_call_otm,underlying ,premium_otm, max_profit))\n",
    "\n",
    "    ax1.axhline(linewidth=2, color='b')\n",
    "    ax1.legend(fontsize = 8)\n",
    "    ax1.set_xlabel('Price of Underlying at Expiry', fontsize = 12)\n",
    "    ax1.set_ylabel('Payoff',fontsize = 12)\n",
    "    ax1.set_title('Covered Call Strategy Payoff at Expiration', fontsize = 12)\n",
    "    ax1.grid(True,linewidth=0.2)\n",
    "# define distribution \n",
    "    x = np.linspace(110,230,1000)\n",
    "    y = norm.pdf(x, loc=170, scale=15)    # pass the mean and standard deviation as loc and scale\n",
    "    ax2.plot(x,y)\n",
    "    ax2.fill_between(x,y, where = x >=strike_call_otm, color='r') \n",
    "    ax2.set_title('Return Distribution associated with the underlying',fontsize = 12, color = 'w')\n",
    "    ax2.set_xlabel('Price of Underlying at Expiry', fontsize = 12)\n",
    "    ax2.set_ylabel('Probability',fontsize = 12)\n",
    "    \n",
    "    return  \"Someone writing a call with a strike of {} gives up all returns above above the strike price\".format(strike_call_otm)\n",
    "    \n"
   ]
  },
  {
   "cell_type": "code",
   "execution_count": 12,
   "metadata": {},
   "outputs": [],
   "source": [
    "def protective_put(strike_put_otm, premium_otm, underlying):\n",
    "    price = np.arange(110,230,1) # the stock price at expiration date\n",
    "    # the payoff of short call position\n",
    "    payoff_long_put = [max(0, (strike_put_otm - i)) - premium_otm for i in price]\n",
    "    # the payoff of long stock postion\n",
    "    payoff_long_stock = [i - underlying for i in price]\n",
    "    # the payoff of covered call\n",
    "    payoff_covered_call = np.sum([payoff_long_put, payoff_long_stock], axis=0)\n",
    "    \n",
    "    fig, (ax1, ax2) = plt.subplots(ncols=2, sharex=False, sharey=False,figsize=(15,5))\n",
    "    \n",
    "    plt.style.use('dark_background')\n",
    "    \n",
    "    ax1.plot(price, payoff_long_put, label = 'Short Call', linewidth=1)\n",
    "    ax1.plot(price, payoff_long_stock, label = 'Long Underlying', linewidth=1)\n",
    "    ax1.plot(price, payoff_covered_call, label = 'Covered Call', color='r', linewidth=5, linestyle='dashed')\n",
    "\n",
    "    ax1.axhline(linewidth=2, color='b')\n",
    "    ax1.legend(fontsize = 12)\n",
    "    ax1.set_xlabel('Price of Underlying at Expiry', fontsize = 12)\n",
    "    ax1.set_ylabel('Payoff',fontsize = 12)\n",
    "    ax1.set_title('Protective Put Strategy Payoff at Expiration', fontsize = 12)\n",
    "    ax1.grid(True,linewidth=0.2)\n",
    "# define distribution \n",
    "    x = np.linspace(120,220,1000)\n",
    "    y = norm.pdf(x, loc=170, scale=15)    # pass the mean and standard deviation as loc and scale\n",
    "    ax2.plot(x,y)\n",
    "    ax2.fill_between(x,y, where = x <=strike_put_otm, color='r') \n",
    "    ax2.set_title('Return Distribution associated with the underlying',fontsize = 12, color = 'w')\n",
    "    ax2.set_xlabel('Price of Underlying at Expiry', fontsize = 12)\n",
    "    ax2.set_ylabel('Probability',fontsize = 12)\n",
    "    return  \"The protective put insures against the portion of the underlying return distribution that is below the strike of {}\".format(strike_put_otm)\n",
    "    "
   ]
  },
  {
   "cell_type": "code",
   "execution_count": 13,
   "metadata": {},
   "outputs": [],
   "source": [
    "def collar(strike_call_otm, strike_put_otm, premium_otm, underlying): \n",
    "    price = np.arange(110,230,1) # the stock price at expiration date\n",
    "    call_put_flag = -1\n",
    "# payoff for the long call\n",
    "    payoff_short_call = [min(0, (strike_call_otm - i)) + premium_otm for i in price]\n",
    "# payoff for the long put\n",
    "    payoff_long_put = [max(0, (strike_put_otm - i)) - premium_otm for i in price]\n",
    "# payoff underlying    \n",
    "    payoff_long_stock = [i - underlying for i in price]\n",
    "# combined payoff\n",
    "    payoff = np.sum([payoff_short_call, payoff_long_put, payoff_long_stock], axis=0)\n",
    "    \n",
    "    plt.style.use('dark_background')\n",
    "    fig, (ax1, ax2) = plt.subplots(ncols=2, sharex=False, sharey=False,figsize=(15,5))\n",
    " \n",
    "    ax1.plot(price, payoff_short_call, label = 'Short Call',linewidth=1)\n",
    "    ax1.plot(price, payoff_long_put, label = 'Long Put',linewidth=1)\n",
    "    ax1.plot(price, payoff_long_stock, label = 'Long Underlying',linewidth=1)\n",
    "    ax1.plot(price, payoff, label = 'Collar',linewidth=5, linestyle='dashed',color='r')\n",
    "    ax1.axhline(linewidth=2, color='b')\n",
    "    ax1.legend(fontsize = 12)\n",
    "    ax1.set_xlabel('Price of Underlying at Expiry',fontsize = 12)\n",
    "    ax1.set_ylabel('Payoff',fontsize = 12)\n",
    "    ax1.set_title('Collar Payoff',fontsize = 12)\n",
    "    ax1.grid(True,linewidth=0.2)   \n",
    "    ax1.axvline(x=strike_call_otm,linewidth=0.5, color='g')\n",
    "    ax1.axvline(x=strike_put_otm,linewidth=0.5, color='g')\n",
    "# define distribution \n",
    "    x = np.linspace(110,230,1000)\n",
    "    y = norm.pdf(x, loc=170, scale=15)    # pass the mean and standard deviation as loc and scale\n",
    "    ax2.plot(x,y)\n",
    "    ax2.fill_between (x,y, where = x >= strike_call_otm, color='r') \n",
    "    ax2.fill_between(x,y, where = x <=strike_put_otm, color='r')\n",
    "    ax2.set_title('Return Distribution associated with the underlying',fontsize = 12, color = 'w')\n",
    "    ax2.set_xlabel('Price of Underlying at expiry', fontsize = 12)\n",
    "    ax2.set_ylabel('Probability',fontsize = 12)"
   ]
  },
  {
   "cell_type": "code",
   "execution_count": 14,
   "metadata": {},
   "outputs": [],
   "source": [
    "def bull_spread(strike_call_itm, strike_call_otm, premium_itm, premium_otm):\n",
    "    price = np.arange(110,230,1) \n",
    "    # long call with lower strike\n",
    "    payoff_long_call = [max(0, (i - strike_call_itm)) - premium_itm for i in price]\n",
    "    # short call with higher strike\n",
    "    payoff_short_call = [min(premium_otm, -(i-strike_call_otm-premium_otm)) for i in price]\n",
    "    payoff = np.sum([payoff_long_call, payoff_short_call], axis=0)\n",
    "    \n",
    "    plt.style.use('dark_background')\n",
    "    fig, (ax1, ax2) = plt.subplots(ncols=2, sharex=False, sharey=False,figsize=(15,5))\n",
    "    ax1.plot(price, payoff_long_call, label = 'Long Call',linewidth=1)   \n",
    "    ax1.plot(price, payoff_short_call, label = 'Short Call',linewidth=1)\n",
    "    ax1.plot(price, payoff, label = 'Bull Call Spread',linewidth=5, linestyle='dashed',color='r')\n",
    "    \n",
    "    ax1.legend(fontsize = 12)\n",
    "    ax1.set_xlabel('Price of Underlying at Expiry',fontsize = 12)\n",
    "    ax1.set_xlabel('Payoff',fontsize = 12)\n",
    "    ax1.set_title('Bull Call Spread Payoff at Expiration',fontsize = 12)\n",
    "    ax1.grid(True,linewidth=0.2)\n",
    "    ax1.axhline(linewidth=2, color='b')\n",
    "    ax1.legend(fontsize = 12)   \n",
    "    ax1.axvline(x=strike_call_itm,linewidth=0.5, color='g')\n",
    "    ax1.axvline(x=strike_call_otm,linewidth=0.5, color='g')\n",
    "# define distribution \n",
    "    x = np.linspace(110,230,1000)\n",
    "    y = norm.pdf(x, loc=170, scale=15)    # pass the mean and standard deviation as loc and scale\n",
    "    ax2.plot(x,y)\n",
    "    ax2.fill_between (x,y, where = x <= strike_call_itm, color='r') \n",
    "    ax2.fill_between(x,y, where = x >=strike_call_otm, color='r')\n",
    "    ax2.set_title('Return Distribution associated with the underlying',fontsize = 12, color = 'w')\n",
    "    ax2.set_xlabel('Price of Underlying at expiry', fontsize = 12)\n",
    "    ax2.set_ylabel('Probability',fontsize = 12)\n",
    "    return  \"The breakeven point is computed as ITM Strike ({}) - (OTM Premium  ({}) - ITM Premium ({}) = {}; The net cost is the difference between the cost of buying the ITM call and selling the OTM call: {}-{} = {}\".format(strike_call_itm,premium_otm, premium_itm,strike_call_itm - premium_otm + premium_itm, premium_itm, premium_otm,premium_itm-premium_otm)"
   ]
  },
  {
   "cell_type": "code",
   "execution_count": 15,
   "metadata": {},
   "outputs": [],
   "source": [
    "def bull_spread_put(strike_put_itm, strike_put_otm, premium_itm, premium_otm):\n",
    "    price = np.arange(110,230,1) \n",
    "    call_put_flag = -1\n",
    "    # short put with higher strike\n",
    "    payoff_short_put = [min(0, (i - strike_put_itm)) + premium_itm for i in price]\n",
    "    # long put with lower strike\n",
    "    payoff_long_put = [max(0, (strike_put_otm - i)) - premium_otm for i in price]\n",
    "\n",
    "    payoff = np.sum([payoff_long_put, payoff_short_put], axis=0)\n",
    "    \n",
    "    plt.style.use('dark_background')\n",
    "    fig, (ax1, ax2) = plt.subplots(ncols=2, sharex=False, sharey=False,figsize=(15,5))\n",
    "    ax1.plot(price, payoff_long_put, label = 'Long Put',linewidth=1)   \n",
    "    ax1.plot(price, payoff_short_put, label = 'Short Put',linewidth=1)\n",
    "    ax1.plot(price, payoff, label = 'Bull Put Spread',linewidth=5, linestyle='dashed',color='r',)\n",
    "    \n",
    "    ax1.legend(fontsize = 12)\n",
    "    ax1.set_xlabel('Price of Underlying at Expiry',fontsize = 12)\n",
    "    ax1.set_xlabel('Payoff',fontsize = 12)\n",
    "    ax1.set_title('Bull Put Spread Payoff at Expiration',fontsize = 12)\n",
    "    ax1.grid(True,linewidth=0.2)\n",
    "    ax1.axhline(linewidth=2, color='b')\n",
    "    ax1.legend(fontsize = 12)   \n",
    "    ax1.axvline(x=strike_put_itm,linewidth=0.5, color='g')\n",
    "    ax1.axvline(x=strike_put_otm,linewidth=0.5, color='g')\n",
    "# define distribution \n",
    "    x = np.linspace(110,230,1000)\n",
    "    y = norm.pdf(x, loc=170, scale=15)    # pass the mean and standard deviation as loc and scale\n",
    "    ax2.plot(x,y)\n",
    "    ax2.fill_between (x,y, where = x >= strike_put_itm, color='r') \n",
    "    ax2.fill_between(x,y, where = x <=strike_put_otm, color='r')\n",
    "    ax2.set_title('Return Distribution associated with the underlying',fontsize = 12, color = 'w')\n",
    "    ax2.set_xlabel('Price of Underlying at expiry', fontsize = 12)\n",
    "    ax2.set_ylabel('Probability',fontsize = 12)\n",
    "    return  \"The breakeven point is computed as ITM Strike ({}) - (ITM Premium  ({}) - OTM Premium ({}) = {}\".format(strike_put_itm,premium_itm, premium_otm,strike_put_itm - premium_itm + premium_otm )"
   ]
  },
  {
   "cell_type": "code",
   "execution_count": 16,
   "metadata": {},
   "outputs": [],
   "source": [
    "def bear_spread(strike_put_itm, strike_put_otm, premium_itm, premium_otm):\n",
    "    price = np.arange(110,230,1) \n",
    "    call_put_flag = -1\n",
    "    # long put with higher strike\n",
    "    payoff_long_put = [max(0, (strike_put_itm - i)) - premium_itm for i in price]\n",
    "    # short put with lower strike\n",
    "    payoff_short_put = [min(0, (i - strike_put_otm))-premium_otm*call_put_flag for i in price]\n",
    "    \n",
    "    payoff_short_call = [min(premium_otm, -(i-strike_put_otm-premium_otm)) for i in price]\n",
    "    payoff = np.sum([payoff_long_put, payoff_short_put], axis=0)\n",
    "    \n",
    "    plt.style.use('dark_background')\n",
    "    fig, (ax1, ax2) = plt.subplots(ncols=2, sharex=False, sharey=False,figsize=(15,5))\n",
    "    ax1.plot(price, payoff_long_put, label = 'Long Put',linewidth=1)   \n",
    "    ax1.plot(price, payoff_short_put, label = 'Short Put',linewidth=1)\n",
    "    ax1.plot(price, payoff, label = 'Bear Put Spread',linewidth=5, linestyle='dashed',color='r')\n",
    "    \n",
    "    ax1.legend(fontsize = 12)\n",
    "    ax1.set_xlabel('Price of Underlying at Expiry',fontsize = 12)\n",
    "    ax1.set_xlabel('Payoff',fontsize = 12)\n",
    "    ax1.set_title('Bear Put Spread Payoff at Expiration',fontsize = 12)\n",
    "    ax1.grid(True,linewidth=0.2)\n",
    "    ax1.axhline(linewidth=2, color='b')\n",
    "    ax1.legend(fontsize = 12)   \n",
    "    ax1.axvline(x=strike_put_itm,linewidth=0.5, color='g')\n",
    "    ax1.axvline(x=strike_put_otm,linewidth=0.5, color='g')\n",
    "# define distribution \n",
    "    x = np.linspace(110,230,1000)\n",
    "    y = norm.pdf(x, loc=170, scale=15)    # pass the mean and standard deviation as loc and scale\n",
    "    ax2.plot(x,y)\n",
    "    ax2.fill_between (x,y, where = x >= strike_put_itm, color='r') \n",
    "    ax2.fill_between(x,y, where = x <=strike_put_otm, color='r')\n",
    "    ax2.set_title('Return Distribution associated with the underlying',fontsize = 12, color = 'w')\n",
    "    ax2.set_xlabel('Price of Underlying at expiry', fontsize = 12)\n",
    "    ax2.set_ylabel('Probability',fontsize = 12)\n",
    "    return  \"The breakeven point is computed as ITM Strike ({}) - (ITM Premium  ({}) - OTM Premium ({}) = {}\".format(strike_put_itm,premium_itm, premium_otm,strike_put_itm - premium_itm + premium_otm )"
   ]
  },
  {
   "cell_type": "code",
   "execution_count": 17,
   "metadata": {},
   "outputs": [],
   "source": [
    "def bear_spread_call(strike_call_itm, strike_call_otm, premium_itm, premium_otm):\n",
    "    price = np.arange(110,230,1) \n",
    "    # short call with lower strike\n",
    "    payoff_short_call = [min(premium_itm, - (i- strike_call_itm - premium_itm)) for i in price]\n",
    "    # long call with higher strike\n",
    "    payoff_long_call = [max(0, (i - strike_call_otm)) - premium_otm for i in price]\n",
    "    payoff = np.sum([payoff_long_call, payoff_short_call], axis=0)\n",
    "    \n",
    "    plt.style.use('dark_background')\n",
    "    fig, (ax1, ax2) = plt.subplots(ncols=2, sharex=False, sharey=False,figsize=(15,5))\n",
    "    ax1.plot(price, payoff_long_call, label = 'Long Call',linewidth=1)   \n",
    "    ax1.plot(price, payoff_short_call, label = 'Short Call',linewidth=1)\n",
    "    ax1.plot(price, payoff, label = 'Bear Call Spread',linewidth=5, linestyle='dashed',color='r')\n",
    "    \n",
    "    ax1.legend(fontsize = 12)\n",
    "    ax1.set_xlabel('Price of Underlying at Expiry',fontsize = 12)\n",
    "    ax1.set_xlabel('Payoff',fontsize = 12)\n",
    "    ax1.set_title('Bear Call Spread Payoff at Expiration',fontsize = 12)\n",
    "    ax1.grid(True,linewidth=0.2)\n",
    "    ax1.axhline(linewidth=2, color='b')\n",
    "    ax1.legend(fontsize = 12)   \n",
    "    ax1.axvline(x=strike_call_itm,linewidth=0.5, color='g')\n",
    "    ax1.axvline(x=strike_call_otm,linewidth=0.5, color='g')\n",
    "# define distribution \n",
    "    x = np.linspace(110,230,1000)\n",
    "    y = norm.pdf(x, loc=170, scale=15)    # pass the mean and standard deviation as loc and scale\n",
    "    ax2.plot(x,y)\n",
    "    ax2.fill_between (x,y, where = x <= strike_call_itm, color='r') \n",
    "    ax2.fill_between(x,y, where = x >=strike_call_otm, color='r')\n",
    "    ax2.set_title('Return Distribution associated with the underlying',fontsize = 12, color = 'w')\n",
    "    ax2.set_xlabel('Price of Underlying at expiry', fontsize = 12)\n",
    "    ax2.set_ylabel('Probability',fontsize = 12)\n",
    "    return  \"The breakeven point is computed as ITM Strike ({}) - (OTM Premium ({}) - ITM Premium ({}) = {}\".format(strike_call_itm,premium_otm, premium_itm,strike_call_itm - premium_otm + premium_itm )\n"
   ]
  },
  {
   "cell_type": "code",
   "execution_count": 18,
   "metadata": {},
   "outputs": [],
   "source": [
    "def straddle(strike_atm, premium_atm):\n",
    "    price = np.arange(110,230,1)\n",
    "    # payoff for the long call\n",
    "    payoff_long_call = [max(-premium_atm, i-strike_atm-premium_atm) for i in price]\n",
    "    # payoff for the long put\n",
    "    payoff_long_put = [max(-premium_atm, strike_atm-i-premium_atm) for i in price]\n",
    "    payoff = np.sum([payoff_long_call, payoff_long_put], axis=0)\n",
    "    plt.figure(figsize=(12,7))\n",
    "    plt.plot(price, payoff_long_call, label = 'Long Call')\n",
    "    plt.plot(price, payoff_long_put, label = 'long put')\n",
    "    plt.axhline(linewidth=2, color='b')\n",
    "    plt.plot(price, payoff, label = 'Long Straddle',linewidth=6, linestyle='dashed',color='r')\n",
    "    plt.legend(fontsize = 12)\n",
    "    plt.xlabel('Price of Underlying at Expiry',fontsize = 12)\n",
    "    plt.ylabel('Payoff',fontsize = 12)\n",
    "    plt.title('Long Straddle Payoff',fontsize = 12)\n",
    "    plt.grid(True,linewidth=0.2)\n",
    "    return \"The price of the underlying needs to move by {} in either direction to breakeven at a price of {} or {}.\".format(2*premium_atm,strike_atm-2*premium_atm,strike_atm+2*premium_atm )  "
   ]
  },
  {
   "cell_type": "code",
   "execution_count": 19,
   "metadata": {},
   "outputs": [],
   "source": [
    "def strangle(strike_call_otm, strike_put_otm, premium_call, premium_put):\n",
    "    price = np.arange(110,230,1)\n",
    "    # payoff for the long call\n",
    "    payoff_long_call = [max(-premium_put, i-strike_call_otm-premium_call) for i in price]\n",
    "    # payoff for the long put\n",
    "    payoff_long_put = [max(-premium_call, strike_put_otm-i-premium_put) for i in price]\n",
    "    payoff = np.sum([payoff_long_call, payoff_long_put], axis=0)\n",
    "    plt.figure(figsize=(12,7))\n",
    "    plt.plot(price, payoff_long_call, label = 'Long Call')\n",
    "    plt.plot(price, payoff_long_put, label = 'long put')\n",
    "    plt.axhline(linewidth=2, color='b')\n",
    "    plt.plot(price, payoff, label = 'Long Straddle',linewidth=6, linestyle='dashed',color='r')\n",
    "    plt.legend(fontsize = 12)\n",
    "    plt.xlabel('Price of Underlying at Expiry',fontsize = 12)\n",
    "    plt.ylabel('Payoff',fontsize = 12)\n",
    "    plt.title('Long Straddle Payoff',fontsize = 12)\n",
    "    plt.grid(True,linewidth=0.2)\n"
   ]
  },
  {
   "cell_type": "code",
   "execution_count": 20,
   "metadata": {},
   "outputs": [],
   "source": [
    "def butterfly_straddle_strangle(strike_atm, premium_atm, strike_call_otm, strike_put_otm, premium_otm):\n",
    "    ##### Straddle\n",
    "    price = np.arange(110,230,1)\n",
    "    call_put_flag = - 1\n",
    "    # the payoff of short call position\n",
    "    payoff_short_call = [min(0, - (i - strike_atm)) + premium_atm for i in price]\n",
    "    # short put \n",
    "    payoff_short_put = [min(0, (i - strike_atm))-premium_atm*call_put_flag for i in price]\n",
    "\n",
    "    payoff_straddle = np.sum([payoff_short_call, payoff_short_put], axis=0)\n",
    "    plt.figure(figsize=(12,7))\n",
    "    plt.axhline(linewidth=2, color='b')\n",
    "    plt.plot(price, payoff_straddle, label = 'Short Straddle',linewidth=1)\n",
    "    \n",
    "    ###### Strangle \n",
    "    price = np.arange(110,230,1)\n",
    "    # payoff for the long call\n",
    "    payoff_long_call = [max(-premium_otm, i-strike_call_otm-premium_otm) for i in price]\n",
    "    # payoff for the long put\n",
    "    payoff_long_put = [max(-premium_otm, strike_put_otm-i-premium_otm) for i in price]\n",
    "    payoff_strangle = np.sum([payoff_long_call, payoff_long_put], axis=0)\n",
    "    \n",
    "    plt.plot(price, payoff_strangle, label = 'Long Strangle',linewidth=1)\n",
    "    \n",
    "    total_payoff = np.sum([payoff_straddle, payoff_strangle], axis=0)\n",
    "    plt.plot(price, total_payoff, label = 'Butterfly',linewidth=6, linestyle='dashed',color='r')\n",
    "    plt.legend(fontsize = 12)\n",
    "    plt.xlabel('Price of Underlying at Expiry',fontsize = 12)\n",
    "    plt.ylabel('Payoff',fontsize = 12)\n",
    "    plt.title('Butterfly Payoff',fontsize = 12)\n",
    "    plt.grid(True,linewidth=0.2)\n"
   ]
  },
  {
   "cell_type": "code",
   "execution_count": 21,
   "metadata": {},
   "outputs": [],
   "source": [
    "def option_type(*args):\n",
    "    \"\"\"\n",
    "    ################################\n",
    "    ## option_type(strategy_name) ##\n",
    "    ################################\n",
    "    \n",
    "    Supported strategies: \n",
    "    \n",
    "    call, \n",
    "    put,\n",
    "    \n",
    "    #### Position Equivalencies\n",
    "    synthetic_long_underlying,\n",
    "    synthetic_short_underlying,\n",
    "    synthetic_forward,\n",
    "    synthetic_put,\n",
    "    synthetic_call,\n",
    "    \n",
    "    #### \n",
    "    risk_reversal, \n",
    "    collar (short risk_reversal and long underlying), \n",
    "    protective_put (long put and long underlying),\n",
    "    covered_call (long underlying and short call),\n",
    "    \n",
    "    ##### Spreads \n",
    "    bull_spread (two calls),\n",
    "    bull_spread_put (two puts),\n",
    "    bear_spread (two puts),\n",
    "    bear_spread_call (two calls),\n",
    "    \n",
    "    ###### Combinations\n",
    "    straddle,\n",
    "    strangle,\n",
    "    butterfly, \n",
    "    butterfly_straddle_strangle,\n",
    "    \n",
    "    \n",
    "    \n",
    "    \n",
    "    \n",
    "    tbc?\n",
    "    \"\"\"\n",
    "    strike = 170\n",
    "    for x in args:\n",
    "        return(interact(x,\n",
    "                # determine strikes \n",
    "                strike = widgets.FloatSlider(value = strike,\n",
    "                                                   min = 160.0,\n",
    "                                                   max = 185.0,\n",
    "                                                   step = 5.0),\n",
    "                strike_atm = widgets.FloatSlider(value = strike,\n",
    "                                                   min = 110.0,\n",
    "                                                   max = 230.0,\n",
    "                                                   step = 5.0),\n",
    "                strike_call_otm = widgets.FloatSlider(value = strike + 25,\n",
    "                                                   min = 110.0,\n",
    "                                                   max = 230.0,\n",
    "                                                   step = 5.0),\n",
    "                strike_put_otm = widgets.FloatSlider(value = strike - 25,\n",
    "                                                   min = 110.0,\n",
    "                                                   max = 230.0,\n",
    "                                                   step = 5.0),\n",
    "                strike_put_itm = widgets.FloatSlider(value = strike + 25,\n",
    "                                                   min = 110.0,\n",
    "                                                   max = 230.0,\n",
    "                                                   step = 5.0),\n",
    "                strike_call_itm = widgets.FloatSlider(value = strike - 25,\n",
    "                                                   min = 110.0,\n",
    "                                                   max = 230.0,\n",
    "                                                   step = 5.0),\n",
    "                underlying = widgets.FloatSlider(value = strike,\n",
    "                                                   min = 110.0,\n",
    "                                                   max = 230.0,\n",
    "                                                   step = 5.0),\n",
    "                        \n",
    "                # all premiums needed         \n",
    "                premium_call = widgets.FloatSlider(value = 8,\n",
    "                                                   min = 1,\n",
    "                                                   max = 30,\n",
    "                                                   step = 0.5),\n",
    "                premium_put = widgets.FloatSlider(value = 8,\n",
    "                                                   min = 1,\n",
    "                                                   max = 30,\n",
    "                                                   step = 0.5),\n",
    "                premium_itm = widgets.FloatSlider(value = 25,\n",
    "                                                   min = 1,\n",
    "                                                   max = 50,\n",
    "                                                   step = 0.5),\n",
    "                premium_atm = widgets.FloatSlider(value = 10,\n",
    "                                                   min = 1,\n",
    "                                                   max = 25,\n",
    "                                                   step = 0.5),\n",
    "                premium_otm = widgets.FloatSlider(value = 5,\n",
    "                                                   min = 1, \n",
    "                                                   max = 20,\n",
    "                                                   step = 0.5)))"
   ]
  },
  {
   "cell_type": "markdown",
   "metadata": {},
   "source": [
    "# Let's start with some basics about options.   \n",
    "\n",
    "An option gives the holder the right, but not obligation to buy / sell an  amount of a underlying asset at a price that is agreed today at a future date:\n",
    "\n",
    "- Right vs Obligation - Holder of has the right to decide\n",
    "- Underlying Asset - Reference stock, currency, bond, swap, another option, commodities, weather, inflation etc.  \n",
    "- Notional - The amount of shares, currency or bonds \n",
    "- Strike price - Price you agree to buy / sell the option (also called exercise price) \n",
    "<div class=\"alert alert-block alert-success\">\n",
    "<b>Tip:</b> In formulas, the exercise price is often denoted by X, and the notation for the strike price is usually K. This choice probably owes its origin to a 19th-century Baseball reporter who simply ran out of letters [Henry Chadwick](https://www.britannica.com/story/why-does-k-stand-for-a-strikeout-in-baseball). Traders frequenty say the option is struck at the strike price.  \n",
    "</div>\n",
    "- Expiry Date - Point in future for transaction\n",
    "- Agreed Today - Full transaction details in agreement"
   ]
  },
  {
   "attachments": {
    "image.png": {
     "image/png": "[encoded data removed]"
    }
   },
   "cell_type": "markdown",
   "metadata": {},
   "source": [
    "# Call & Put Options    \n",
    "This section is based mainly on the CFA Level II material. \n",
    "\n",
    "[Call option](https://en.wikipedia.org/wiki/Call_option) is a financial contract between two parties, the buyer and the seller of this type of option. \n",
    "- The *buyer* has the **right**, but not the obligation, **to buy** an agreed quantity of a particular underlying from the seller of the option at a certain time (the expiration date) for a certain price (the strike price). \n",
    "- The *seller* (or \"writer\") is **obligated to sell** the commodity or financial instrument to the buyer if the buyer so decides. The buyer pays a fee (called a premium) for this right. The term \"call\" comes from the fact that the owner has the right to \"call the stock away\" from the seller.    \n",
    "The buyer is long, and the seller is short the option.    \n",
    "\n",
    "[Put option](https://en.wikipedia.org/wiki/Put_option) is is a financial contract between two parties, the buyer and the seller of this type of option.  \n",
    "- The *buyer* has the **right**, but not the obligation, **to sell** an agreed quantity of a particular underlying from the seller of the option at a certain time (the expiration date) for a certain price (the strike price). \n",
    "- The *seller* (or \"writer\") is **obligated to buy** the commodity or financial instrument to the buyer if the buyer so decides. The buyer pays a fee (called a premium) for this right. The term \"put\" comes from the fact that the owner has the right to \"put the underlying up for sale\".    \n",
    "The buyer is long, and the seller is short the option. \n",
    "![image.png](attachment:image.png)\n",
    "\n",
    "Since the buyer has the right, but not the obligation, the buyer will only exercise the option (use the right) iff the the price of the underlying is above the strike price. This means the buyer will make a profit and the call option is said to be <mark>[in-the-money](https://en.wikipedia.org/wiki/Moneyness)</mark>.   \n",
    "If the underlying is equal to the strike price, the option holder is indifferent between exercising it and not exercising it.  \n",
    "<mark>At-the-money</mark> option is where the payoff of a call option and a put option intersects. In case of a call option, as the price of the underlying asset moves above the exercise price, the option is said to be in the money. On the other hand, if price of the underlying asset dives below the exercise price, the option is said to be <mark>out-of-the-money</mark>. The <mark>moneyness</mark> of a put option is just opposite to that of a call option i.e. it is in the money when the price of the underlying asset moves below the exercise price, and out of the money when the price of the underlying asset is higher than the exercise price.\n",
    "\n",
    "<div class=\"alert alert-block alert-success\">\n",
    "<b>Tip:</b> At-the-money is determined by the strike price, and not the breakeven point. This is a common misconception. The premium (upfront payment) is sunk cost, just like an insurance premium. Even though the overall return may still be negative, it is efficient to exercise as soon as you can profit. Even if the profit may not be sufficient to cover the entire premium paid.\n",
    "</div>  \n",
    "\n",
    "The chart on the right hand side below represents the return distribution of the price of the underlying at the option expiration date. Note that this is assuming a normal distribution of logarithmic returns. \n",
    "\n",
    "<div class=\"alert alert-block alert-success\">\n",
    "<b>Tip:</b> Check out the section \"Why the natural logarithm is such a natural choice\" for an explantion of this. \n",
    "</div>  \n",
    "\n",
    "This is identical to the canonical Black Scholes model, which assumes that the underlying follows a process called <mark>Geometric Brownian motion</mark>, which implies a <mark>log-normal distribution</mark> of returns, meaning the logarithmic return is normally distributed. \n",
    "\n",
    "- If you buy a call option, you are not exposed to the part of the return distirbution that lies to the left of the strike, which is the red area under the bell curve.  \n",
    "- If you buy a put option, you naturally are exposed to the opposite side of the distribution.   \n",
    "\n",
    "<div class=\"alert alert-block alert-success\">\n",
    "<b>Tip:</b> Moneyness does not depend on what side of the trade you are on (if you buy or sell the option). As mentioned above, only the buyer of the option has the right to exercise, whereas the seller has the obligation to honor the contract. Therefore, moneyness is always depending on the buyer, who decides whether to exercise or not. \n",
    "</div>\n"
   ]
  },
  {
   "cell_type": "code",
   "execution_count": 22,
   "metadata": {},
   "outputs": [
    {
     "data": {
      "application/vnd.jupyter.widget-view+json": {
       "model_id": "29cbe385eec146608c86247b357330ac",
       "version_major": 2,
       "version_minor": 0
      },
      "text/plain": [
       "interactive(children=(FloatSlider(value=170.0, description='strike', max=185.0, min=160.0, step=5.0), FloatSli…"
      ]
     },
     "metadata": {},
     "output_type": "display_data"
    },
    {
     "data": {
      "text/plain": [
       "<function __main__.call(strike, premium_call)>"
      ]
     },
     "execution_count": 22,
     "metadata": {},
     "output_type": "execute_result"
    }
   ],
   "source": [
    "option_type(call)"
   ]
  },
  {
   "cell_type": "code",
   "execution_count": 23,
   "metadata": {},
   "outputs": [
    {
     "data": {
      "application/vnd.jupyter.widget-view+json": {
       "model_id": "7f01f170584a429392f0be5b47faa039",
       "version_major": 2,
       "version_minor": 0
      },
      "text/plain": [
       "interactive(children=(FloatSlider(value=170.0, description='strike', max=185.0, min=160.0, step=5.0), FloatSli…"
      ]
     },
     "metadata": {},
     "output_type": "display_data"
    },
    {
     "data": {
      "text/plain": [
       "<function __main__.put(strike, premium_put)>"
      ]
     },
     "execution_count": 23,
     "metadata": {},
     "output_type": "execute_result"
    }
   ],
   "source": [
    "option_type(put)"
   ]
  },
  {
   "cell_type": "markdown",
   "metadata": {},
   "source": [
    "# Synthetic Long Positions\n",
    "Suppose an investor buys a share of common stock at a price of 170. The investor gains if the price goes up, and loses money if the price declines.   \n",
    "what happens if the investor simulatenously buys a call and writes (sells) a put with the same expiration date and the same exercise price (strike), say at 170? \n",
    "- At expiration, a call is worth the greater of zero or the stock price minus the exercise price. $max(0,  S - x)$\n",
    "- Likewsie, the put is worth the greater of zero or the exercise price minus the stock price.    \n",
    "\n",
    "Therefore, the combination of options is equivalent to a long position in the stock, which is why it is frequently called a <mark>synthetic long</mark> position. Clearly, the opposite is also possible, which is called a <mark>synthetic short</mark> position (toggle the function below). \n",
    "\n",
    "Technically, this position is not exactly identical to a long position. \n",
    "- This is due to the fact that with the stock position, you must pay the total amount at the beginning, when you enter the position. \n",
    "- Whereas with the option strategy, you must pay the exercise price at expiration.  \n",
    "Adding a zero coupon bond to the option strategy (at an amount equivalent to what you \"saved\" by not entering the stock poistion right away), or setting the present value of the exercise price to the stock price would make the two strategies precisely the same.   \n",
    "This is a simplified explanation of the so called <mark>Put-Call Parity</mark>: \n",
    "$ S + p = PV(X) + c$, where $S + p$ is long the stock and long a put, and $ PV(X) + c $ is lending (the zero coupon bond) and a long call.   "
   ]
  },
  {
   "cell_type": "code",
   "execution_count": 24,
   "metadata": {},
   "outputs": [
    {
     "data": {
      "application/vnd.jupyter.widget-view+json": {
       "model_id": "454863cd05ed4f1cb60826ed412430a5",
       "version_major": 2,
       "version_minor": 0
      },
      "text/plain": [
       "interactive(children=(FloatSlider(value=170.0, description='strike_atm', max=230.0, min=110.0, step=5.0), Floa…"
      ]
     },
     "metadata": {},
     "output_type": "display_data"
    },
    {
     "data": {
      "text/plain": [
       "<function __main__.synthetic_long_underlying(strike_atm, premium_atm, underlying)>"
      ]
     },
     "execution_count": 24,
     "metadata": {},
     "output_type": "execute_result"
    }
   ],
   "source": [
    "option_type(synthetic_long_underlying)"
   ]
  },
  {
   "cell_type": "markdown",
   "metadata": {},
   "source": [
    "Depending on the context, this equation can be rearranged:\n",
    "- For example, a call option can be expressed as a position in a stock, financing and a put: \n",
    "$c = S - PV(X) + p $. This is also called a <mark>synthetic call</mark>.   \n",
    "- Likewise, a put options can be expressed as a long call, short the stock and investing the proceeds of the sold stock in a bond: \n",
    "$p = c - S + PV(X) $. This is also called a <mark>synthetic put</mark>."
   ]
  },
  {
   "cell_type": "code",
   "execution_count": 25,
   "metadata": {},
   "outputs": [
    {
     "data": {
      "application/vnd.jupyter.widget-view+json": {
       "model_id": "276c84fa0f83453da3fc0962824c6c9c",
       "version_major": 2,
       "version_minor": 0
      },
      "text/plain": [
       "interactive(children=(FloatSlider(value=170.0, description='strike_atm', max=230.0, min=110.0, step=5.0), Floa…"
      ]
     },
     "metadata": {},
     "output_type": "display_data"
    },
    {
     "data": {
      "text/plain": [
       "<function __main__.synthetic_put(strike_atm, premium_atm, underlying)>"
      ]
     },
     "execution_count": 25,
     "metadata": {},
     "output_type": "execute_result"
    }
   ],
   "source": [
    "option_type(synthetic_put)"
   ]
  },
  {
   "cell_type": "markdown",
   "metadata": {},
   "source": [
    "A synthetic put positions were an important strategy historically. When the <mark>Chicago Board Option Exchange</mark> (CBOE) opened in 1973, there were exchange traded calls but no puts. Regulators were concerned about approving a financial instrument that benefited from falling prices.  \n",
    "However, it was easy to create such a position synthetically as is clearly demonstrated with the synthetic put. It took until [1973](http://www.cboe.com/aboutcboe/history) until the CBOE added put options. "
   ]
  },
  {
   "cell_type": "markdown",
   "metadata": {},
   "source": [
    "# Covered Calls and Protective Puts  \n",
    "## Covered Calls \n",
    "A covered call is a very common strategy where someone who already owns the underlying, sells a call option. If someone writes a call option without owning the underlying, this is called a <mark>Naked Call</mark>.   \n",
    "What are the implications of this? \n",
    "- the investor owns shares\n",
    "- has the potential obligation to deliver the shares to the option buyer \n",
    "- receives a premium for the willingness to do so    \n",
    "\n",
    "The general shape of the profit and loss diagramme is the same for covered calls and that of writing a put. However, covered call writing is a very common use of options by individual investors, whereas writing puts is very uncommon. \n",
    "\n",
    "### Investment Objectives of Covered Calls   \n",
    "1) **Income generation**: The most common motivation for writing covered calls is income generation. The writer of the option can keep the premium, regardless of what happens in the future. This is reflected in the payoff lying above the underlying in the chart below. However, this strategy implies that the writer of the call option is essentially selling part of the return distribution associated with the underlying asset. The largest returns are those to the far right of the return distribution. Someone writing a call with gives up all returns above above the strike price. There is a clear tradeoff between the size of the option premium and the likelihood of exercise of the option. Note that the diagramme below is not a proper option pricer and does not accurately reflect the premium associated with different strike prices.  \n",
    "\n",
    "2) **Improving on the market**: Consider a portfolio manager who has become overweight in a specific sector and wants to reduce this imbalance. Assume that the asset manager believes the market price will remain relatively stable. By writing in-the-money options, the likelihood of exercise of these options is very high. This is a desirable outcome for two reasons: \n",
    "- reduce the overweight in the portfolio  \n",
    "- gain extra income from the premium received from writing the option  \n",
    "An option premium consists of two parts: exercise value (what the payoff diagrammes depict), as well as time value. The option value is generally above the exercise value at any given time prior to the expiration date. Someone who writes covered calls to improve on the market is capturing this time value of money, at the expense of giving up part of the return distribution.   \n",
    "Let's consider a simple numerical example. By convention, the smallest unit for a listed equity option is usually one contract covering 100 shares.  If the portfolio manager holds 5000 shares of a stock, and decides to write (sell) 10 exchange traded options expiring next month with a strike of 165. Therefore, the buyer of the options receives the right to purchase 1000 shares (100 x 10) at the price of 165. If these options cost 16.4 per contract, the seller receives the option premium of $\\frac{16.4}{call}*  \\frac{100\\ shares}{contract} *  10\\ contracts = 16.400$.  \n",
    "Assume the current price of the underlying is 170. I the option is exercised, the shares are effectively sold at $165 + 16.4 = 181.4$. The investor could have simply sold the shares at the original price of 170.  \n",
    "This specific example results in an extra income of $ 181.4*1000 - 170*1000 = 11.400$.\n",
    "\n",
    "3) **Target Price Realization**: This is essentially a hybrid of the first two objectives. The strategy consists of writing a call with an exercise price near the target price. If the price fails to rise above the target price, the portfolio manager could write a new call with the same objective in mind. This should not be confused with free money. Instead of selling now and locking in a potential profit, there is a chance that the target price will never be reached and that the stock depreciates. In this case, there are <mark>two cases of opportunity costs</mark> (losses): the opportunity loss relative to the outright sale of the stock, and the opportunity loss if the stock appreciates above the exercise price. "
   ]
  },
  {
   "cell_type": "code",
   "execution_count": 26,
   "metadata": {},
   "outputs": [
    {
     "data": {
      "application/vnd.jupyter.widget-view+json": {
       "model_id": "ab8d47432c8940a581c7360a3f216787",
       "version_major": 2,
       "version_minor": 0
      },
      "text/plain": [
       "interactive(children=(FloatSlider(value=195.0, description='strike_call_otm', max=230.0, min=110.0, step=5.0),…"
      ]
     },
     "metadata": {},
     "output_type": "display_data"
    },
    {
     "data": {
      "text/plain": [
       "<function __main__.covered_call(strike_call_otm, premium_otm, underlying)>"
      ]
     },
     "execution_count": 26,
     "metadata": {},
     "output_type": "execute_result"
    }
   ],
   "source": [
    "option_type(covered_call)"
   ]
  },
  {
   "cell_type": "markdown",
   "metadata": {},
   "source": [
    "### Profit and Loss of Covered Calls at expiration   \n",
    "- $S_0$ - stock price when the position is opened\n",
    "- $S_T$ - stock price at option expiration \n",
    "- $X$   - exercise price \n",
    "- $c_0$ - call premium received or paid    \n",
    "\n",
    "The <mark>maximum gain</mark> occurs when the option ends up in-the-money, in which case the options writer is forced to sell the underlying at the strike price, but still gains due to the potential price appreciation up to the strike price and the option premium that is received. The <mark>breakeven</mark> is calculated as the stock price minus the premium, in which case the premium is still sufficient to compensate the loss in the stock position. The <mark>maximum loss</mark> would occur if the stock is worthless, which equals the original stock price minus the option premium received. The <mark>value</mark> of the covered call position at expiration is the stock price minus the exercise value of the call. The <mark>profit</mark> at expiry is the covered call value plus the option premium received, minus the original price of the stock.    \n",
    "- $(X-S_0) + c_0$ = maximum gain  \n",
    "- $S_0 - c_0$     = maximum loss \n",
    "- $S_0 - c_0$    = breakeven point \n",
    "- $S_T - max[S_T-X),0]$     = expiration value \n",
    "- $S_T - max[(S_T-X),0] + c_0 -S_0$ = profit at expiration   \n",
    "<div class=\"alert alert-block alert-success\">\n",
    "<b>Tip:</b> Note that the maximum loss and the breakeven point are identical. This does NOT mean that the investor cannot lose money.It just means that the price of the underlying at which the investor is break even, is identical the the maximum loss that the investor can suffer.   \n",
    "Also, it is important to remember that these profit and loss relations depict the situation only at the end of the options life. \n",
    "</div>\n",
    " "
   ]
  },
  {
   "cell_type": "markdown",
   "metadata": {},
   "source": [
    "## Protective Put \n",
    "When someone simultaneously holds a long position in an asset, and a long position in a put option, this is called a protective put. The name comes from the fact that the put protects against losses in the value of the underlying asset. In that perspective, it is very similar to buying insurance. As with insurance policies, a put implies a deductible, which is the amount of the loss the insured is willing to bear (the stock price minus the exercise price).    \n",
    "\n",
    "<h2 style='padding: 10px'>Protective Put and Incurance Analogies</h2><table class='table table-striped'>  <tr> <th>Insurance Policy</th> <th>Put Option</th>  </tr>  <tbody> <tr> <td scope='row'>Premium</td> <td>Time Value</td>  </tr> <tr> <td scope='row'>Value os Asset</td> <td>Price of Stock</td>  </tr> <tr> <td scope='row'>Face Value</td> <td>Exercise Price</td> </tr> <tr> <td scope='row'>Term of Policy</td> <td>Time until option expiration</td>  </tr> <tr> <td scope='row'>Likelihood of loss</td> <td>Volatility of Stock</td> </tr> <tr>  </tr> </tbody> </table>     \n",
    "\n",
    "However, unlike typical insurance policies, it is possible to use a put to insure an asset for more than its current value by setting the exercise price higher than the current stock price. This naturally comes at the cost of a higher price for the option.   \n",
    "\n",
    "### Profit and Loss of Protective Puts at expiration\n",
    "- $S_0$ - stock price when the position is opened\n",
    "- $S_T$ - stock price at option expiration \n",
    "- $X$   - exercise price \n",
    "- $p_0$ - put premium received or paid \n",
    "\n",
    "The <mark>maximum gain</mark> is unlimited as the stock can rise to any level and the investor will fully benefit from any increase. As explained above, the <mark>maximum loss</mark> is capped by the strike price, taking into account the premium paid. The <mark>value</mark> is the greater of the stock price or the exercise price. The <mark>profit at expiration</mark> is equal to the value minus the initial price paid for the stock and the premium paid. <mark>Breakeven</mark> occurs when the price of the underlying increased by the amount paid for the option.  \n",
    "- $S_T - S_0 - p_0$ = maximum gain  \n",
    "- $S_0 - X +p_0$     = maximum loss \n",
    "- $S_0 + p_0$    = breakeven point \n",
    "- $max[S_T, X]$     = expiration value \n",
    "- $max[S_T, X] - S_0 - p_0$ = profit at expiration   \n"
   ]
  },
  {
   "cell_type": "code",
   "execution_count": 27,
   "metadata": {},
   "outputs": [
    {
     "data": {
      "application/vnd.jupyter.widget-view+json": {
       "model_id": "dc7bf52934c04de3ba91a5bf192a4eaa",
       "version_major": 2,
       "version_minor": 0
      },
      "text/plain": [
       "interactive(children=(FloatSlider(value=145.0, description='strike_put_otm', max=230.0, min=110.0, step=5.0), …"
      ]
     },
     "metadata": {},
     "output_type": "display_data"
    },
    {
     "data": {
      "text/plain": [
       "<function __main__.protective_put(strike_put_otm, premium_otm, underlying)>"
      ]
     },
     "execution_count": 27,
     "metadata": {},
     "output_type": "execute_result"
    }
   ],
   "source": [
    "option_type(protective_put)"
   ]
  },
  {
   "cell_type": "markdown",
   "metadata": {},
   "source": [
    "### The Risk of Covered Calls and Protective Puts  \n",
    "Many people believe derivatives are inherently risky and inappropriate for conservtive investment objectives. However, this is not true in general.     \n",
    "A <mark>covered call</mark> position is *less* risky than the underlying held alone. Even if the stock declines to zero, the loss is mitigated by the premium received from writing the option. The major downside is that you give up the potential for \"big gains\" as was explained above and can be seen be the red area underneath the return distribution to the right hand side.   \n",
    "As shown, a <mark>protective put</mark> is essentially equivalent to buying insurance. Continually purschasing puts can be an expensive strategy that would wipe out most of the long-term gain on an otherwise good investment. However, occasionally buying protection can be a sensible risk reduction activity. "
   ]
  },
  {
   "cell_type": "markdown",
   "metadata": {},
   "source": [
    "# A note on the equivalence of Positions \n",
    "Consider three different positions: \n",
    "- at-the-money covered call\n",
    "- at the money protective put \n",
    "- long stock and short forward position  \n",
    "Now, at the money options have a delta of about 0.5 in absolute value. (delta of a call is roughly 0.5 and the delta of a put is close to -0.5). A forward is closely moving with the price of the underlying and as such has a delta of approximately plus 1 or minus one. Therefore,\n",
    "- covered call is long the stock ($\\delta = 1$) and short a call ($\\delta \\approx -0.5$) -> combined $\\delta = 0.5$\n",
    "- protective put is also long the stock ($\\delta = -1$) and long put ($\\delta \\approx - 0.5$) -> combined $\\delta = 0.5$\n",
    "- long stock ($\\delta = 1$) and short a forward with a notional of 50% of the total value of the position in stock. the ($\\delta = -1$) of the short forward but it only cancels half the positions. Therefore, the position $\\delta = 0.5$ as well.   \n",
    "In other words, for small movements in the price of the underlying, these positions will have very similar gains and losses. "
   ]
  },
  {
   "cell_type": "markdown",
   "metadata": {},
   "source": [
    "# Collars  \n",
    "A collar is a position in which the investor is long shares, and buys a put with a strike below the current stock price and write a call with an exercise price above stock price. Therefore, both positions are initially out the money. The main appeal of this strategy is that it allows the investor to acquire downside protection through a <mark>protective put</mark>, while at the meantime reducing the cash outlay by writing a <mark>covered call</mark>. In terms of the return distribution, the collar sacrifices the positive part of the return distribution in exchange for the removal of the adverse portion. \n",
    "\n",
    "A collar is also called a <mark>fence</mark> or a <mark>hedge wrapper</mark> and in foreign exchange transactions, it is frequently called a risk reversal. OVML RR is a <mark>risk reversal</mark> but without a poistion in the underlying.\n",
    "\n",
    "<div class=\"alert alert-block alert-success\">\n",
    "<b>Tip:</b> Most collars are structured so that the call and put premiums completely offset each other. This is mostly achieved by setting the strike on one leg (e.g. the call), and solving for the equivalent strike of the other leg (the put). To achieve this, most collars are traded OTC (over-the-counter) because the strike of one leg must be freely chooseable. This would be impossible with listed options that have standardized exercise prices. Note, the chart below is not solving for this. You can freely choose any strike you want and the premiums will be unaffected and always offset each other. \n",
    "</div>   \n",
    "If the price is identical for both options, you end up with a synthetic forward position. In this case, holding the asset and selling a synthetic forward is completely neutralizing market swings. If one position gains, the other position is losing. In other words, you give up the entire return distribution. Try setting the strikes equal to each other and also load the risk reversal template, which resembles a standard OVML RR deal. "
   ]
  },
  {
   "cell_type": "code",
   "execution_count": 28,
   "metadata": {},
   "outputs": [
    {
     "data": {
      "application/vnd.jupyter.widget-view+json": {
       "model_id": "06b032569e994a18b02a8db3ffd9320f",
       "version_major": 2,
       "version_minor": 0
      },
      "text/plain": [
       "interactive(children=(FloatSlider(value=195.0, description='strike_call_otm', max=230.0, min=110.0, step=5.0),…"
      ]
     },
     "metadata": {},
     "output_type": "display_data"
    },
    {
     "data": {
      "text/plain": [
       "<function __main__.collar(strike_call_otm, strike_put_otm, premium_otm, underlying)>"
      ]
     },
     "execution_count": 28,
     "metadata": {},
     "output_type": "execute_result"
    }
   ],
   "source": [
    "option_type(collar)"
   ]
  },
  {
   "cell_type": "markdown",
   "metadata": {},
   "source": [
    "# Spreads and Combinations  \n",
    "- **Spreads** involve buying a call or put and writing another call or put   \n",
    "They can be classified in two ways:     \n",
    "1) <u>market sentiment</u>: a spread that becomes more valuable when the price of the underlying rises is a <mark>bull spread</mark>, the opposite is called a <mark>bear spread</mark>    \n",
    "2) <u>direction</u> of the initial cashflow: because the investor buys one option and sells another, there is typically a net cash outflow, called <mark>debit spread</mark>, or a cash inflow, called <mark>credit spread</mark>. A credit spread is effectively short, because the short option value exceeds the long option value. \n",
    "<div class=\"alert alert-block alert-success\">\n",
    "<b>Tip:</b> Any of these strategies can be created with puts or calls. Check out the various option types in the dropdown. \n",
    "</div>    \n",
    "The main motivation is usually to place a directional bet, while giving up part of the profit potential in exchange for a lower up front cost. \n",
    "- **Combinations** typically uses both calls and puts. Straddles, Stangles and butterflies are examples. \n",
    "\n",
    "## Bull Spreads and Bear Spreads   \n",
    "A <mark>bull spread</mark> requires buying one option and writing another with a higher strike price, irrespective if the investor contructs this with calls or puts. The general rule is to buy high and sell low for bears spreads, and buy low and sell high for bull spreads.   \n",
    "<div class=\"alert alert-block alert-success\">\n",
    "<b>Tip:</b> American exercise-style options may be exercised at any time prior to expiration. In this case, bull spreads with calls and bear spreads with puts are generally preferred. This is because a bull spread with puts has the additional risk that the short put gets exercised early, whereas the long put is not yet in the money. If the bull spread uses calls, and the short call is exercised, the long call is deeper in the money, which offsets that risk. The [incentive to exericse)](https://quant.stackexchange.com/questions/3486/exercising-an-american-call-option-early) early is also lower for american-style call options. Similar logic applies to bear spreads using calls. \n",
    "</div>    \n",
    "\n",
    "If constructed with call options, the following relationships hold: \n",
    "- $X_H$ - Strike High\n",
    "- $X_L$ - Strike Low \n",
    "- $c_L$ - Call premium associated with Strike Low (ITM Strike)\n",
    "- $c_H$ - Call premium associated with Strike High (OTM Strike)  \n",
    "\n",
    "\n",
    "- $X_L + (c_L-c_H)$ = Breakeven  \n",
    "- $X_H - X_L - (c_L-c_H)$ = Maximum Profit   \n",
    "- $c_L-c_H$ = Net Cost of buying ITM call and selling OTM call    \n",
    "\n",
    "We will leave it up to you to figure out how the these relationships are for a bull spread that is constructed with put options. The chart will help you verify this. By carefully selecting the expiration and exercise price for the two legs, the investor can choose the risk-return mix that most closely matches the investors investment outlook. "
   ]
  },
  {
   "cell_type": "code",
   "execution_count": 47,
   "metadata": {},
   "outputs": [
    {
     "data": {
      "application/vnd.jupyter.widget-view+json": {
       "model_id": "3758365f3b0348738a017f7b3d70f2ac",
       "version_major": 2,
       "version_minor": 0
      },
      "text/plain": [
       "interactive(children=(FloatSlider(value=145.0, description='strike_call_itm', max=230.0, min=110.0, step=5.0),…"
      ]
     },
     "metadata": {},
     "output_type": "display_data"
    },
    {
     "data": {
      "text/plain": [
       "<function __main__.bull_spread(strike_call_itm, strike_call_otm, premium_itm, premium_otm)>"
      ]
     },
     "execution_count": 47,
     "metadata": {},
     "output_type": "execute_result"
    }
   ],
   "source": [
    "option_type(bull_spread)"
   ]
  },
  {
   "cell_type": "markdown",
   "metadata": {},
   "source": [
    "A <mark>bear spread</mark> requires buying one option and writing another with a lower strike price, irrespective if the investor contructs this with calls or puts. \n",
    "- $X_H$ - Strike High\n",
    "- $X_L$ - Strike Low \n",
    "- $p_L$ - Put premium associated with Strike Low (OTM Strike)\n",
    "- $p_H$ - Put premium associated with Strike High (ITM Strike)  \n",
    "\n",
    "\n",
    "- $X_H + (p_H-p_L)$ = Breakeven  \n",
    "- $X_H - X_L - (p_H-p_L)$ = Maximum Profit   \n",
    "- $p_H-p_L$ = Net Cost of buying ITM call and selling OTM call    \n",
    "\n",
    "We will gain leave it up to you to figure out how the these relationships are for a bear spread that is constructed with call options."
   ]
  },
  {
   "cell_type": "code",
   "execution_count": 30,
   "metadata": {},
   "outputs": [
    {
     "data": {
      "application/vnd.jupyter.widget-view+json": {
       "model_id": "801b83dd718b4a37bef2ee8c56471c18",
       "version_major": 2,
       "version_minor": 0
      },
      "text/plain": [
       "interactive(children=(FloatSlider(value=145.0, description='strike_call_itm', max=230.0, min=110.0, step=5.0),…"
      ]
     },
     "metadata": {},
     "output_type": "display_data"
    },
    {
     "data": {
      "text/plain": [
       "<function __main__.bear_spread_call(strike_call_itm, strike_call_otm, premium_itm, premium_otm)>"
      ]
     },
     "execution_count": 30,
     "metadata": {},
     "output_type": "execute_result"
    }
   ],
   "source": [
    "option_type(bear_spread_call)"
   ]
  },
  {
   "cell_type": "markdown",
   "metadata": {},
   "source": [
    "### Refining Spreads  \n",
    "It is not neccessary to enter both legs at the same time or maintain them for the same period. Over the counter (OTC) options a very versatile and can by quickly adjusted to changes in market conditions. Below are some examples outlining this.    \n",
    "\n",
    "1) **Adding a short leg to a long position**: Assume that a long call option was very profitable and the investor believes that the underlying is likely to stabilize around its new level and does not believe it will go much higher. By writing a call option with a higher strike, the investor converts the long call into a bull spread. This creates a completely different situation now: \n",
    "- the maximum profit will be capped as explained above \n",
    "- if the underlying unexpectedly falls significantly and below the strike of the long call, both options are out-of-the-money and the premium received from writing the call at least resulted in a cash inflow that wouldnt exist without this position \n",
    "- between the two strikes, the exercise value rises steadily as the underlying increases. If the underlying price remains unchanged, there is an additional income from writing the call option and teh investor also benefits  \n",
    "However, there is an <mark>opportunity loss</mark>. The profit would get progressively smaller if the price of the underlying is trending back to the strike of the long call.   \n",
    "The investor could also choose to only write higher strike calles against part of the long call position which leaves some upside potential if the underying continues to rise. This can be extended further if the investors writes several calls with different strike, thereby slowly reducing the upside potential while at the same time generating cash inflows from the received premiums.  \n",
    "\n",
    "2) **Calendar Spreads**: Strategies where someone sells a near-dated call and buys a longer-dated call on the same underlying and the same strike price are commonly referred to as a calendar spread. If you buy the near-dated and sell the longer-dated option is is a <mark>short calendar spread</mark>. These strategies can also be built with put options. As explained above, a portion of the option premium is time value, which decays over time and approaches zero as the option expires. Taking advantage of this <mark>time decay</mark> is a primary motivation behind calendar spreads. Time decay is more pronounced for a short term option. Investors can exploit this characteristic by purchasing a longer-term option and selling a shorter-term option.   \n",
    "The following example will illustrate a usage case. Assume a firm has a announces a new product that will be launched some time in the future. If an investor believes that this new product will have a positive impact on the share price, but that the stock price is not yet reflecting this. The investor can sell a near-dated call, and buy a long-dated call. If the option price does not rise in the near term, the option will expire with no value and the investor received the premium, while still having the long call to benefit from the expected increase in price.   \n",
    "\n",
    "3) **Spreads as Volatility Plays**: A spread strategy can make sense with a volatile underlying in a trending market. Suppose the market has been rising, and an investor expects this trend to continue. If the investor buys a long call options and the underlying increases, the investor can establish a <mark>bull call spread</mark>. Due to volatility, it is likely the price fluctuates a lot and may fall. In this case, the investor can close out the position of the short call position with the higher strike by buying it back, while keeping the long position. This can be done repeatedly. Obviously, all these examples rely on the premise that the market is behaving in a certain way. In reality, it will be very hard to time the market and correctly forecast future paths.   "
   ]
  },
  {
   "cell_type": "markdown",
   "metadata": {},
   "source": [
    "# Straddles, Strangles and Butterflies \n",
    "### Straddles \n",
    "All strategies mentioned in this section are essentially volatility plays as well. A <mark>long straddle</mark> is a combination of puts and calls with the same exercise prcie on the same underlying. If someone writes both options, it is a <mark>short straddle</mark>.    \n",
    "A long call is [bullish](https://www.investopedia.com/insights/digging-deeper-bull-and-bear-markets/) and a long put is bearish. In that sense this strategy seems illogical. However, there are occasions when this might make sense. Assume a company that produces electric cars but has a tendency to disappoint with production numbers due to bottlenecks in the assembling process. The general trend is upward, but any negative news can have a detrimental affect on the stock price, at least in the short run. There is a large risk of volatility and movements in both directions at the time the next financial statement is released. If the investor establishes a long straddle, the direction does not matter. It is a directional play on the underlying volatility, with the view hat volatility will increase. Naturally, a <mark>short straddle</mark> is the opposite view. The exercise price is usually close to the current market price. Otherwise, there is a directional bias because initally one option will be ITM and the other OTM.  \n",
    "<div class=\"alert alert-block alert-success\">\n",
    "<b>Tip:</b> If you think this sounds too good to be true, you are right. To make money, the straddle buyer has to be corect in the view that the \"true\" underlying volatility is higher than the market consensus, which will be reflected in the cost of this strategy. \n",
    "</div>   \n",
    "The worst outcome is if the stock closes exactly at the strike, in which case both expire worthless. This is the best outcome if you are short a straddle, as you received the premiums and do not have to pay anything. Volatility is traditionall measured in annualized percentage terms. <mark>Implied volatility</mark> is often a market quote or backed out form listed option pricing. <mark>Historical volatility</mark> is predominantly calculated as the annualized standard deviation of log returns. \n",
    "- annual variance $\\sigma^2$ can be converted to daily variance by dividing by 252 \n",
    "252 is a common convention as markets are not open on Saturdays, Sundays as well as official holidays. The price cannot move when markest are closed. Therefore, those days should not count. \n",
    "- annual standard deviation can be converted into daily SD by $\\frac{\\sigma}{\\sqrt252}$\n",
    "\n",
    "### Include a section with historical vola nd implied vol and explanations (replicate HVT or VOLC or both) \n",
    "\n",
    "Now, let's consider a simple example. Suppose the underlying typically has an annual volatility of 35%. Assume the current price of the underlying is 170. And for simplicity, both the call and put with an ATM strike cost 10. Therefore, the price of the underlying needs to move by $\\pm$20 to breakeven, which corresponds to a 11.76% move. Suppose it is a 1 month option and there are 21 trading days until epxiration. The 11.76% move in 21 days can be converted into an annual measure by multiplying by the square root of the number of 21 day periods in a 252 day year $\\sigma^2*\\sqrt{\\Bigg(\\frac{252}{21}\\Bigg)}$. The result of 40.75% is well above the 35% historical volatility. Only if you believe that such a price movement is reasonably likely is it worth entering into a straddle. "
   ]
  },
  {
   "cell_type": "code",
   "execution_count": 42,
   "metadata": {},
   "outputs": [
    {
     "name": "stdout",
     "output_type": "stream",
     "text": [
      "11.76% movement over 21 days.\n",
      "Which corresponds to a annualized movement of 40.74\n"
     ]
    }
   ],
   "source": [
    "movement = 20/170\n",
    "days_expiry = 21\n",
    "days_year = 252\n",
    "percent_move = round(movement*100,2)\n",
    "percent_move_annualized = round(percent_move*math.sqrt(days_year/days_expiry),2)\n",
    "print(\"{}% movement over {} days.\".format(percent_move, days_expiry))\n",
    "print(\"Which corresponds to a annualized movement of {}\".format(percent_move_annualized))"
   ]
  },
  {
   "cell_type": "code",
   "execution_count": 48,
   "metadata": {},
   "outputs": [
    {
     "data": {
      "application/vnd.jupyter.widget-view+json": {
       "model_id": "9d15fd150f6946728f99c96a3b1c8e21",
       "version_major": 2,
       "version_minor": 0
      },
      "text/plain": [
       "interactive(children=(FloatSlider(value=170.0, description='strike_atm', max=230.0, min=110.0, step=5.0), Floa…"
      ]
     },
     "metadata": {},
     "output_type": "display_data"
    },
    {
     "data": {
      "text/plain": [
       "<function __main__.straddle(strike_atm, premium_atm)>"
      ]
     },
     "execution_count": 48,
     "metadata": {},
     "output_type": "execute_result"
    }
   ],
   "source": [
    "option_type(straddle)"
   ]
  },
  {
   "cell_type": "markdown",
   "metadata": {},
   "source": [
    "### Strangles\n",
    "A <mark>Strangle</mark> is identical to a strangle but using OTM strikes for the call and the put. While a straddle has no directional bias, a strangle can used when the investor believes the stock has a better chance of moving in a certain direction, but would still like to be protected in the case of an adverse move. Furthermore, the OTM positions are cheaper compared to ATM calls and puts. By purchasing the options at different strike prices, the trader can actually save a bit of money that is paid for the options themselves. An options strangle is a bit higher risk, however. That’s because the differing strike prices make it slightly more difficult to produce a profit as the underlying needs to move eben more to break even. "
   ]
  },
  {
   "cell_type": "code",
   "execution_count": 49,
   "metadata": {},
   "outputs": [
    {
     "data": {
      "application/vnd.jupyter.widget-view+json": {
       "model_id": "c507ec390c53477c8c0c8259ffe1f454",
       "version_major": 2,
       "version_minor": 0
      },
      "text/plain": [
       "interactive(children=(FloatSlider(value=195.0, description='strike_call_otm', max=230.0, min=110.0, step=5.0),…"
      ]
     },
     "metadata": {},
     "output_type": "display_data"
    },
    {
     "data": {
      "text/plain": [
       "<function __main__.strangle(strike_call_otm, strike_put_otm, premium_call, premium_put)>"
      ]
     },
     "execution_count": 49,
     "metadata": {},
     "output_type": "execute_result"
    }
   ],
   "source": [
    "option_type(strangle)"
   ]
  },
  {
   "cell_type": "markdown",
   "metadata": {},
   "source": [
    "### Butterflies\n",
    "A [butterfly](https://en.wikipedia.org/wiki/Butterfly_(options) can be constructed in various ways. It can be a combination of a long calls or long puts at different strikes. If using calls, the investors buys one call with a low strike, sells a call with twice the notional of the first call and enters another call with a higher strike. It can also be constructed by combining a straddle with a strangle. The dropdown allows you to display two different ways a butterlfy can be constructed. \n",
    "- A long butterfly position is entered when the investor thinks that the underlying stock will not rise or fall much by expiration. The benefit compared to a short straddle position is that there is protection on the downside, as can be seen on the red section of the return distribution. This comes at the cost of premium payments for the strangle position.\n",
    "- Naturally, a short butterfly position has the exact opposite cashflow. \n"
   ]
  },
  {
   "cell_type": "code",
   "execution_count": 50,
   "metadata": {},
   "outputs": [
    {
     "data": {
      "application/vnd.jupyter.widget-view+json": {
       "model_id": "fc0105ce9cbd47a59fb60f58f4c532a7",
       "version_major": 2,
       "version_minor": 0
      },
      "text/plain": [
       "interactive(children=(FloatSlider(value=145.0, description='strike_call_itm', max=230.0, min=110.0, step=5.0),…"
      ]
     },
     "metadata": {},
     "output_type": "display_data"
    },
    {
     "data": {
      "text/plain": [
       "<function __main__.butterfly(strike_call_itm, strike_call_otm, strike_atm, premium_itm, premium_otm, premium_atm)>"
      ]
     },
     "execution_count": 50,
     "metadata": {},
     "output_type": "execute_result"
    }
   ],
   "source": [
    "option_type(butterfly)"
   ]
  },
  {
   "cell_type": "code",
   "execution_count": null,
   "metadata": {},
   "outputs": [],
   "source": []
  },
  {
   "cell_type": "code",
   "execution_count": null,
   "metadata": {},
   "outputs": [],
   "source": []
  },
  {
   "cell_type": "code",
   "execution_count": null,
   "metadata": {},
   "outputs": [],
   "source": []
  },
  {
   "cell_type": "markdown",
   "metadata": {},
   "source": [
    "why OTC options ofted quoted in implied vol P. 472 + P. 417\n"
   ]
  },
  {
   "cell_type": "markdown",
   "metadata": {},
   "source": [
    "Distributions"
   ]
  },
  {
   "cell_type": "code",
   "execution_count": null,
   "metadata": {},
   "outputs": [],
   "source": []
  },
  {
   "cell_type": "code",
   "execution_count": null,
   "metadata": {},
   "outputs": [],
   "source": []
  },
  {
   "cell_type": "code",
   "execution_count": 32,
   "metadata": {},
   "outputs": [],
   "source": [
    "import math\n",
    "from decimal import Decimal\n",
    "import numpy as np\n",
    "import pandas as pd \n",
    "\n",
    "from matplotlib import pyplot\n",
    "import matplotlib.pyplot as plt\n",
    "import seaborn as sns\n",
    "import pylab\n",
    "\n",
    "from scipy.stats import norm, shapiro\n",
    "from scipy.integrate import quad\n",
    "\n",
    "import statsmodels.formula.api as smf\n",
    "import statsmodels.stats.api as sms\n",
    "from statsmodels.compat import lzip\n",
    "import statsmodels.api as sm\n",
    "\n",
    "from IPython.display import HTML, display\n",
    "from numpy.random import seed\n",
    "from numpy.random import randint\n",
    "from numpy import mean\n",
    "from matplotlib import pyplot\n",
    "from numpy.random import seed\n",
    "from numpy.random import randint\n",
    "from numpy import mean"
   ]
  },
  {
   "cell_type": "markdown",
   "metadata": {},
   "source": [
    "P. 388\n",
    "basic statistical fact that binomial proces with a large number of steps converges to the standard normal distribution. \n",
    "buil BSM model "
   ]
  },
  {
   "cell_type": "markdown",
   "metadata": {},
   "source": [
    "[math unl](http://www.math.unl.edu/~sdunbar1/ProbabilityTheory/Lessons/BernoulliTrials/LocalLimitTheorem/locallimittheorem.pdf)\n",
    "\n",
    "A local limit theorem describes how the probability mass function of a sum\n",
    "of independent discrete random variables approaches the normal density.\n",
    "We observe that the histogram of a sum of independent Bernoulli random\n",
    "variables resembles the normal density. From the Central Limit Theorem, we\n",
    "see that in standard units the area under the one bar of a binomial histogram\n",
    "may be approximated by the area under a standard normal. Theorems which\n",
    "compare the probability of a discrete random variable in terms of the area\n",
    "under a bar of a histogram to the area under a normal density are often\n",
    "called local limit theorems"
   ]
  },
  {
   "cell_type": "markdown",
   "metadata": {},
   "source": [
    "Pascal laid the foundation for the local limit theorem when\n",
    "he formulated the binomial probability distribution for a Bernoulli random\n",
    "variable with p = 1/2 = q. James Bernoulli generalized the distribution to\n",
    "the case where p 6= 1/2. De Moivre proved the first real local limit theorem\n",
    "for the case p = 1/2 = q in essentially the form of Lemma 9 in The de\n",
    "Moivre-Laplace Central Limit Theorem. Laplace provided a correct proof\n",
    "for the case with p 6= 1/2. De Moivre then used the local limit theorem\n",
    "to add up the probabilities that Sn is in an interval of length of order √\n",
    "n\n",
    "to prove the Central Limit Theorem. See Lemma 10 and following in The\n",
    "de Moivre-Laplace Central Limit Theorem. Khintchine, Lyanpunov, and\n",
    "Lindeberg proved much more general versions of the Central Limit Theorem\n",
    "using characteristic functions and Fourier transform methods.\n",
    "\n",
    "Algorithm\n",
    "The experiment is flipping a coin n times, and repeat the experiment k\n",
    "times. Then check the probability of a specific value and compare to the\n",
    "10\n",
    "normal probability density. Also compare the logarithmic rate of growth to\n",
    "the predicted rate."
   ]
  },
  {
   "cell_type": "code",
   "execution_count": 33,
   "metadata": {},
   "outputs": [
    {
     "name": "stdout",
     "output_type": "stream",
     "text": [
      " Em pi ri cal p r o b a b i l i t y:  0.007\n",
      "Moderate D e via tio n s Theorem e s tima t e :  0.007970870750513954\n",
      "T h e o r e t i c al l o g r a t e :  0.0\n"
     ]
    }
   ],
   "source": [
    "import scipy\n",
    "p = 0.5\n",
    "n = 10000\n",
    "k = 1000\n",
    "\n",
    "upper_intvalue = 10\n",
    "lower_intvalue = 0\n",
    "win_lose = 2*(scipy.random.random(( n , k))<= p ) - 1\n",
    "# Note Booleans True f o r Heads and F al s e f o r T a i l s\n",
    "totals = scipy.sum(win_lose , axis = 0)\n",
    "\n",
    "stddev = scipy.sqrt(p * (1 - p) * n)\n",
    "prob = (scipy.sum(totals == upper_intvalue)).astype(\"float\")/k\n",
    "\n",
    "f1 = (scipy.sqrt(2 / scipy.pi ));\n",
    "f2 = (p / ( 1 - p ) )**(upper_intvalue/ 2 );\n",
    "f3 = (( 2 * scipy.sqrt(p * (1 - p)))**n) / scipy.sqrt(n);\n",
    "f4 = scipy.exp(-(upper_intvalue * 2 / (2.0 *n)));\n",
    "\n",
    "theoretical  = f1 * f2 * f3 * f4;\n",
    "print (\" Em pi ri cal p r o b a b i l i t y: \", prob)\n",
    "print (\"Moderate D e via tio n s Theorem e s tima t e : \" , theoretical)\n",
    "\n",
    "set = (totals >= lower_intvalue) & (totals <= upper_intvalue)\n",
    "#log_interval_prob_rate = (1 / n) * scipy.log((scipy.sum(set)).astype(\"float\")/k\n",
    "                                                                                        \n",
    "theroetical_log_rate = scipy.log( 2 * scipy.sqrt(p * (1 - p)))\n",
    "#print(\"Em pi ri cal l o g p r o b a b i l i t y r a t e : \", log_interval_prob_rate)\n",
    "print(\"T h e o r e t i c al l o g r a t e : \" , theroetical_log_rate)"
   ]
  },
  {
   "cell_type": "markdown",
   "metadata": {},
   "source": [
    "[PDF and CDF explanation](http://work.thaslwanter.at/Stats/html/statsDistributions.html)   \n",
    "Watch out: in Python, by default the variance is calculated for “n”. You have to set “ddof=1” to obtain the variance for “n-1"
   ]
  },
  {
   "cell_type": "code",
   "execution_count": 34,
   "metadata": {},
   "outputs": [
    {
     "name": "stdout",
     "output_type": "stream",
     "text": [
      "2.0\n",
      "2.160246899469287\n"
     ]
    }
   ],
   "source": [
    "import numpy\n",
    "data = np.arange(7,14)\n",
    "print(np.std(data, ddof=0))\n",
    "print(np.std(data, ddof=1))\n"
   ]
  },
  {
   "cell_type": "code",
   "execution_count": 35,
   "metadata": {},
   "outputs": [
    {
     "data": {
      "text/plain": [
       "array([-3.38590382, -0.61409618])"
      ]
     },
     "execution_count": 35,
     "metadata": {},
     "output_type": "execute_result"
    }
   ],
   "source": [
    "from scipy import stats\n",
    "mu = -2\n",
    "sigma = np.sqrt(0.5)\n",
    "myDistribution = stats.norm(mu, sigma)\n",
    "significanceLevel = 0.05\n",
    "myDistribution.ppf([significanceLevel/2, 1-significanceLevel/2])\n",
    "np.array([-3.38590382, -0.61409618])"
   ]
  },
  {
   "cell_type": "code",
   "execution_count": 1,
   "metadata": {},
   "outputs": [
    {
     "ename": "TypeError",
     "evalue": "'float' object cannot be interpreted as an integer",
     "output_type": "error",
     "traceback": [
      "\u001b[1;31m---------------------------------------------------------------------------\u001b[0m",
      "\u001b[1;31mTypeError\u001b[0m                                 Traceback (most recent call last)",
      "\u001b[1;32m<ipython-input-1-c777afbcb7b5>\u001b[0m in \u001b[0;36m<module>\u001b[1;34m()\u001b[0m\n\u001b[0;32m     50\u001b[0m \u001b[1;33m\u001b[0m\u001b[0m\n\u001b[0;32m     51\u001b[0m \u001b[1;32mif\u001b[0m \u001b[0m__name__\u001b[0m \u001b[1;33m==\u001b[0m \u001b[1;34m'__main__'\u001b[0m\u001b[1;33m:\u001b[0m\u001b[1;33m\u001b[0m\u001b[0m\n\u001b[1;32m---> 52\u001b[1;33m    \u001b[0mmain\u001b[0m\u001b[1;33m(\u001b[0m\u001b[1;33m)\u001b[0m\u001b[1;33m\u001b[0m\u001b[0m\n\u001b[0m",
      "\u001b[1;32m<ipython-input-1-c777afbcb7b5>\u001b[0m in \u001b[0;36mmain\u001b[1;34m()\u001b[0m\n\u001b[0;32m     36\u001b[0m     \u001b[0maxs\u001b[0m\u001b[1;33m[\u001b[0m\u001b[1;36m0\u001b[0m\u001b[1;33m]\u001b[0m\u001b[1;33m.\u001b[0m\u001b[0mset_ylabel\u001b[0m\u001b[1;33m(\u001b[0m\u001b[1;34m'Counts'\u001b[0m\u001b[1;33m)\u001b[0m\u001b[1;33m\u001b[0m\u001b[0m\n\u001b[0;32m     37\u001b[0m \u001b[1;33m\u001b[0m\u001b[0m\n\u001b[1;32m---> 38\u001b[1;33m     \u001b[0maxs\u001b[0m\u001b[1;33m[\u001b[0m\u001b[1;36m1\u001b[0m\u001b[1;33m]\u001b[0m\u001b[1;33m.\u001b[0m\u001b[0mhist\u001b[0m\u001b[1;33m(\u001b[0m\u001b[0mnp\u001b[0m\u001b[1;33m.\u001b[0m\u001b[0mmean\u001b[0m\u001b[1;33m(\u001b[0m\u001b[0mdata\u001b[0m\u001b[1;33m.\u001b[0m\u001b[0mreshape\u001b[0m\u001b[1;33m(\u001b[0m\u001b[1;33m(\u001b[0m\u001b[0mndata\u001b[0m\u001b[1;33m/\u001b[0m\u001b[1;36m2\u001b[0m\u001b[1;33m,\u001b[0m\u001b[1;36m2\u001b[0m\u001b[1;33m)\u001b[0m\u001b[1;33m)\u001b[0m\u001b[1;33m,\u001b[0m  \u001b[0maxis\u001b[0m\u001b[1;33m=\u001b[0m\u001b[1;36m1\u001b[0m\u001b[1;33m)\u001b[0m\u001b[1;33m,\u001b[0m \u001b[0mbins\u001b[0m\u001b[1;33m=\u001b[0m\u001b[0mnbins\u001b[0m\u001b[1;33m)\u001b[0m\u001b[1;33m\u001b[0m\u001b[0m\n\u001b[0m\u001b[0;32m     39\u001b[0m     \u001b[0maxs\u001b[0m\u001b[1;33m[\u001b[0m\u001b[1;36m1\u001b[0m\u001b[1;33m]\u001b[0m\u001b[1;33m.\u001b[0m\u001b[0mset_xticks\u001b[0m\u001b[1;33m(\u001b[0m\u001b[1;33m[\u001b[0m\u001b[1;36m0\u001b[0m\u001b[1;33m,\u001b[0m \u001b[1;36m0.5\u001b[0m\u001b[1;33m,\u001b[0m \u001b[1;36m1\u001b[0m\u001b[1;33m]\u001b[0m\u001b[1;33m)\u001b[0m\u001b[1;33m\u001b[0m\u001b[0m\n\u001b[0;32m     40\u001b[0m     \u001b[0maxs\u001b[0m\u001b[1;33m[\u001b[0m\u001b[1;36m1\u001b[0m\u001b[1;33m]\u001b[0m\u001b[1;33m.\u001b[0m\u001b[0mset_title\u001b[0m\u001b[1;33m(\u001b[0m\u001b[1;34m' Average over 2'\u001b[0m\u001b[1;33m)\u001b[0m\u001b[1;33m\u001b[0m\u001b[0m\n",
      "\u001b[1;31mTypeError\u001b[0m: 'float' object cannot be interpreted as an integer"
     ]
    }
   ],
   "source": [
    "'''\n",
    "Practical demonstration of the central limit theorem\n",
    "\n",
    "'''\n",
    "\n",
    "# author: Thomas Haslwanter, date: July-2014\n",
    "\n",
    "# Import standard packages\n",
    "import numpy as np\n",
    "import matplotlib.pyplot as plt\n",
    "import seaborn as sns\n",
    "import os\n",
    "\n",
    "\n",
    "# additional packages\n",
    "#import mystyle\n",
    "\n",
    "sns.set(context='poster', style='ticks')\n",
    "\n",
    "def main():\n",
    "    '''Demonstrate central limit theorem.'''\n",
    "    # Generate data\n",
    "    ndata = int(100000)\n",
    "    nbins = 50\n",
    "    data = np.random.random(ndata)\n",
    "    \n",
    "    # Show them\n",
    "    fig, axs = plt.subplots(1,3)\n",
    "    #mystyle.set(14)\n",
    "    #sns.set_context('paper')\n",
    "    #sns.set_style('whitegrid')\n",
    "    \n",
    "    axs[0].hist(data,bins=nbins)\n",
    "    axs[0].set_title('Random data')\n",
    "    axs[0].set_xticks([0, 0.5, 1])\n",
    "    axs[0].set_ylabel('Counts')\n",
    "    \n",
    "    axs[1].hist(np.mean(data.reshape((ndata/2,2)),  axis=1), bins=nbins)\n",
    "    axs[1].set_xticks([0, 0.5, 1])\n",
    "    axs[1].set_title(' Average over 2')\n",
    "    \n",
    "    axs[2].hist( np.mean(data.reshape((ndata/10,10)),axis=1), bins=nbins)\n",
    "    axs[2].set_xticks([0, 0.5, 1])\n",
    "    axs[2].set_title(' Average over 10')\n",
    "    \n",
    "    plt.tight_layout()\n",
    "    #mystyle.printout_plain('CentralLimitTheorem.png')\n",
    "    \n",
    "    plt.show()    \n",
    "    \n",
    "if __name__ == '__main__':\n",
    "   main() "
   ]
  },
  {
   "cell_type": "markdown",
   "metadata": {},
   "source": [
    "[look this up](https://rajeshrinet.github.io/blog/2014/central-limit-theorem/)"
   ]
  },
  {
   "cell_type": "code",
   "execution_count": null,
   "metadata": {},
   "outputs": [],
   "source": [
    "f = plt.figure(figsize=(18, 10))\n",
    " \n",
    "def plotHist(nr, N, n_, mean, var0, x0):\n",
    "    ''' plots the RVs'''\n",
    "    x = np.zeros((N))\n",
    "    sp = f.add_subplot(3, 2, n_ )\n",
    "    \n",
    "    for i in range(N):    \n",
    "        for j in range(nr):\n",
    "            x[i] += np.random.exponential(mean) \n",
    "        x[i] *= 1/nr\n",
    "    plt.hist(x, 100, density=True, color='#348ABD', label=\" %d RVs\"%(nr));\n",
    "    plt.setp(sp.get_yticklabels(), visible=False)\n",
    "    \n",
    "    variance = var0/nr                     \n",
    "    fac = 1/np.sqrt(2*np.pi*variance)\n",
    "    dist = fac*np.exp(-(x0-mean)**2/(2*variance))\n",
    "    plt.plot(x0,dist,color='#A60628',linewidth=3,label='CLT',alpha=0.8)\n",
    "    plt.xlabel('r')\n",
    "    plt.xlim([0, 1])\n",
    "    leg = plt.legend(loc=\"upper right\")\n",
    "    leg.get_frame().set_alpha(0.1)\n",
    "\n",
    "    \n",
    "N = 100   # number of samples taken\n",
    "nr = ([1, 2, 8, 32, 64, 128])\n",
    "\n",
    "mean, var0 = 0.5, 0.5*0.5  # mean and variance of exponential distribution\n",
    "x0 = np.linspace(0, 1, 128)\n",
    "\n",
    "for i in range(np.size(nr)):\n",
    "    plotHist(nr[i], N, i+1, mean, var0, x0)\n",
    "\n",
    "plt.suptitle(\"Addition of exponential distributed RVs converge to a Gaussian distribution, albeit slowly\",fontsize=20);"
   ]
  },
  {
   "cell_type": "code",
   "execution_count": null,
   "metadata": {},
   "outputs": [],
   "source": [
    "f = plt.figure(figsize=(18, 10))\n",
    " \n",
    "def plotHist(nr, N, n_, mean, var0, x0):\n",
    "    ''' plots the RVs'''\n",
    "    x = np.zeros((N))\n",
    "    sp = f.add_subplot(3, 2, n_ )\n",
    "    \n",
    "    for i in range(N):    \n",
    "        for j in range(nr):\n",
    "            x[i] += np.random.random() \n",
    "        x[i] *= 1/nr\n",
    "    plt.hist(x, 100, density=True, color='#348ABD', label=\" %d RVs\"%(nr))\n",
    "    plt.setp(sp.get_yticklabels(), visible=False)\n",
    "    \n",
    "    variance = var0/nr                     \n",
    "    fac = 1/np.sqrt(2*np.pi*variance)\n",
    "    dist = fac*np.exp(-(x0-mean)**2/(2*variance))\n",
    "    plt.plot(x0,dist,color='#A60628',linewidth=3,label='CLT',alpha=0.8)\n",
    "    plt.xlabel('r')\n",
    "    plt.xlim([0, 1])\n",
    "    leg = plt.legend(loc=\"upper left\")\n",
    "    leg.get_frame().set_alpha(0.1)\n",
    "\n",
    "    \n",
    "N = 10000   # number of samples taken\n",
    "nr = ([1, 2, 4, 8, 16, 32])\n",
    "\n",
    "mean, var0 = 0.5, 1.0/12  # mean and variance of uniform distribution in range 0, 1\n",
    "x0 = np.linspace(0, 1, 128)\n",
    "\n",
    "for i in range(np.size(nr)):\n",
    "    plotHist(nr[i], N, i+1, mean, var0, x0)\n",
    "\n",
    "plt.suptitle(\"Addition of uniform random variables (RVs) converge to a Gaussian distribution (CLT)\",fontsize=20);"
   ]
  },
  {
   "cell_type": "code",
   "execution_count": null,
   "metadata": {},
   "outputs": [],
   "source": [
    "import scipy.stats as st\n",
    "X = st.bernoulli(0.25)\n",
    "# Take 10 samples:\n",
    "X.rvs(20)\n"
   ]
  },
  {
   "cell_type": "markdown",
   "metadata": {},
   "source": [
    "[scipy distributions](http://www.math.purdue.edu/~lin491/ME597/lec_03.pdf)"
   ]
  },
  {
   "cell_type": "code",
   "execution_count": null,
   "metadata": {},
   "outputs": [],
   "source": [
    "X = st.binom(10, 0.25) # N, theta\n",
    "# Take samples.\n",
    "X.rvs(10)\n"
   ]
  },
  {
   "cell_type": "code",
   "execution_count": null,
   "metadata": {},
   "outputs": [],
   "source": [
    "import numpy as np\n",
    "import matplotlib.pyplot as plt\n",
    "import matplotlib.animation as animation\n",
    "from wand.image import Image\n",
    "from wand.display import display\n",
    "%matplotlib notebook"
   ]
  },
  {
   "cell_type": "markdown",
   "metadata": {},
   "source": [
    "[source below](https://machinelearningmastery.com/a-gentle-introduction-to-the-central-limit-theorem-for-machine-learning/)"
   ]
  },
  {
   "cell_type": "code",
   "execution_count": null,
   "metadata": {},
   "outputs": [],
   "source": [
    "\n",
    "# seed the random number generator\n",
    "seed(1)\n",
    "# generate a sample of die rolls\n",
    "rolls = randint(1, 7, 50)\n",
    "print(rolls)\n",
    "print(mean(rolls))"
   ]
  },
  {
   "cell_type": "code",
   "execution_count": null,
   "metadata": {},
   "outputs": [],
   "source": [
    "\n",
    "# demonstration of the central limit theorem\n",
    "\n",
    "# seed the random number generator\n",
    "seed(1)\n",
    "# calculate the mean of 50 dice rolls 1000 times\n",
    "means = [mean(randint(1, 7, 1000)) for _ in range(100000)]\n",
    "# plot the distribution of sample means\n",
    "pyplot.hist(means)\n",
    "pyplot.show()"
   ]
  },
  {
   "cell_type": "code",
   "execution_count": null,
   "metadata": {},
   "outputs": [],
   "source": [
    "count, bins, ignored = plt.hist(means, 50, align='mid')"
   ]
  },
  {
   "cell_type": "code",
   "execution_count": null,
   "metadata": {},
   "outputs": [],
   "source": [
    "import numpy as np\n",
    "import random\n",
    "\n",
    "\n",
    "# Create a parent distribution, from the gamma family\n",
    "shape, scale = 2., 2.  # mean=4, std=2*sqrt(2)\n",
    "s = np.random.gamma(shape, scale, 100000)\n",
    "print(np.mean(s))\n",
    "import matplotlib.pyplot as plt\n",
    "import scipy.special as sps\n",
    "plt.hist(s)\n",
    "plt.show()\n",
    "\n",
    "\n",
    "# The distribution of the means from the sampled groups is normally distributed\n",
    "samples = [ np.mean(random.choices(s, k=20)) for _ in range(1000) ]\n",
    "plt.hist(samples)\n",
    "plt.show()"
   ]
  },
  {
   "cell_type": "code",
   "execution_count": null,
   "metadata": {},
   "outputs": [],
   "source": []
  },
  {
   "cell_type": "code",
   "execution_count": null,
   "metadata": {},
   "outputs": [],
   "source": []
  },
  {
   "cell_type": "code",
   "execution_count": null,
   "metadata": {},
   "outputs": [],
   "source": []
  },
  {
   "cell_type": "code",
   "execution_count": null,
   "metadata": {},
   "outputs": [],
   "source": []
  },
  {
   "cell_type": "code",
   "execution_count": null,
   "metadata": {},
   "outputs": [],
   "source": []
  },
  {
   "cell_type": "markdown",
   "metadata": {},
   "source": [
    "FX OVML BF: show how to get it to look exactly like the textbook BF "
   ]
  },
  {
   "cell_type": "code",
   "execution_count": null,
   "metadata": {},
   "outputs": [],
   "source": []
  },
  {
   "cell_type": "code",
   "execution_count": null,
   "metadata": {},
   "outputs": [],
   "source": []
  }
 ],
 "metadata": {
  "kernelspec": {
   "display_name": "Python 3",
   "language": "python",
   "name": "python3"
  },
  "language_info": {
   "codemirror_mode": {
    "name": "ipython",
    "version": 3
   },
   "file_extension": ".py",
   "mimetype": "text/x-python",
   "name": "python",
   "nbconvert_exporter": "python",
   "pygments_lexer": "ipython3",
   "version": "3.6.5"
  }
 },
 "nbformat": 4,
 "nbformat_minor": 2
}
