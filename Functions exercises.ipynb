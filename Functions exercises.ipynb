{
 "cells": [
  {
   "cell_type": "code",
   "execution_count": 2,
   "metadata": {},
   "outputs": [
    {
     "data": {
      "text/plain": [
       "'Sunday'"
      ]
     },
     "execution_count": 2,
     "metadata": {},
     "output_type": "execute_result"
    }
   ],
   "source": [
    "'''\n",
    "return_day(1) # \"Sunday\"\n",
    "return_day(2) # \"Monday\"\n",
    "return_day(3) # \"Tuesday\"\n",
    "return_day(4) # \"Wednesday\"\n",
    "return_day(5) # \"Thursday\"\n",
    "return_day(6) # \"Friday\"\n",
    "return_day(7) # \"Saturday\"\n",
    "return_day(41) # None\n",
    "'''\n",
    "\n",
    "def return_day(num):\n",
    "    week_days = (\"Sunday\", \"Monday\",\"Tuesday\", \"Wednesday\",\"Thursday\",\"Friday\", \"Saturday\")\n",
    "    if num in range(1,8):\n",
    "        return week_days[num-1]\n",
    "    return None # no need for else anymore - return anyhow breaks it\n",
    "return_day(1)"
   ]
  },
  {
   "cell_type": "code",
   "execution_count": 21,
   "metadata": {},
   "outputs": [],
   "source": [
    "# https://www.w3schools.com/python/python_try_except.asp\n",
    "def return_day(num):\n",
    "    try:\n",
    "        return [\"Sunday\",\"Monday\", \"Tuesday\",\"Wednesday\",\"Thursday\",\"Friday\",\"Saturday\"][num-1]\n",
    "    except IndexError as e:\n",
    "        return None\n",
    "return_day(10)"
   ]
  },
  {
   "cell_type": "code",
   "execution_count": 20,
   "metadata": {},
   "outputs": [
    {
     "data": {
      "text/plain": [
       "6"
      ]
     },
     "execution_count": 20,
     "metadata": {},
     "output_type": "execute_result"
    }
   ],
   "source": [
    "'''\n",
    "last_element([1,2,3]) # 3\n",
    "last_element([]) # None\n",
    "'''\n",
    "\n",
    "def last_element(list1):\n",
    "    if len(list1)>0:\n",
    "        return list1[-1]\n",
    "    return None\n",
    "last_element([1,2,3,4,\"f\",5,6])"
   ]
  },
  {
   "cell_type": "code",
   "execution_count": 8,
   "metadata": {},
   "outputs": [
    {
     "data": {
      "text/plain": [
       "6"
      ]
     },
     "execution_count": 8,
     "metadata": {},
     "output_type": "execute_result"
    }
   ],
   "source": [
    "'''\n",
    "last_element([1,2,3]) # 3\n",
    "last_element([]) # None\n",
    "'''\n",
    "\n",
    "def last_element(list1):\n",
    "    if list1:\n",
    "        return list1[-1]\n",
    "last_element([1,2,3,4,\"f\",5,6])"
   ]
  },
  {
   "cell_type": "code",
   "execution_count": 9,
   "metadata": {},
   "outputs": [
    {
     "data": {
      "text/plain": [
       "'Second is greater'"
      ]
     },
     "execution_count": 9,
     "metadata": {},
     "output_type": "execute_result"
    }
   ],
   "source": [
    "'''\n",
    "number_compare(1,1) # \"Numbers are equal\"\n",
    "number_compare(1,0) # \"First is greater\"\n",
    "number_compare(2,4) # \"Second is greater\"\n",
    "'''\n",
    "\n",
    "def number_compare(a,b):\n",
    "    if a == b: \n",
    "        return \"Numbers are equal\"\n",
    "    elif a > b:\n",
    "        return \"First is greater\"\n",
    "    return \"Second is greater\"\n",
    "number_compare(2,3)"
   ]
  },
  {
   "cell_type": "code",
   "execution_count": 22,
   "metadata": {},
   "outputs": [
    {
     "data": {
      "text/plain": [
       "1"
      ]
     },
     "execution_count": 22,
     "metadata": {},
     "output_type": "execute_result"
    }
   ],
   "source": [
    "'''\n",
    "single_letter_count(\"Hello World\", \"h\") # 1\n",
    "single_letter_count(\"Hello World\", \"z\") # 0\n",
    "single_letter_count(\"HelLo World\", \"l\") # 3\n",
    "'''\n",
    "\n",
    "#define single_letter_count below:\n",
    "def single_letter_count(string_input = \"Hello World\",check=\"H\"):\n",
    "    list1=0\n",
    "    checking = check.lower()\n",
    "    string_input = string_input.lower()\n",
    "    for i in string_input:\n",
    "        if i == checking:\n",
    "            list1+=1\n",
    "    return list1     \n",
    "single_letter_count()"
   ]
  },
  {
   "cell_type": "code",
   "execution_count": 18,
   "metadata": {},
   "outputs": [
    {
     "data": {
      "text/plain": [
       "4"
      ]
     },
     "execution_count": 18,
     "metadata": {},
     "output_type": "execute_result"
    }
   ],
   "source": [
    "def single_letter_count(string,letter):\n",
    "    return string.lower().count(letter.lower())\n",
    "single_letter_count(\"testthisawesometool\", \"t\")"
   ]
  },
  {
   "cell_type": "code",
   "execution_count": 45,
   "metadata": {},
   "outputs": [
    {
     "data": {
      "text/plain": [
       "{'t': 3,\n",
       " 'e': 3,\n",
       " 's': 4,\n",
       " ' ': 3,\n",
       " 'h': 1,\n",
       " 'i': 2,\n",
       " 'a': 1,\n",
       " 'w': 1,\n",
       " 'o': 1,\n",
       " 'm': 1}"
      ]
     },
     "execution_count": 45,
     "metadata": {},
     "output_type": "execute_result"
    }
   ],
   "source": [
    "'''\n",
    "multiple_letter_count(\"awesome\") # {'a': 1, 'e': 2, 'm': 1, 'o': 1, 's': 1, 'w': 1}\n",
    "'''\n",
    "string = \"test this is awesome\"\n",
    "# flesh out multiple_letter count:\n",
    "def multiple_letter_count(string):\n",
    "    return {char: string.count(char) for char in string}\n",
    "multiple_letter_count(string)"
   ]
  },
  {
   "cell_type": "code",
   "execution_count": 42,
   "metadata": {},
   "outputs": [
    {
     "data": {
      "text/plain": [
       "{'t': 3,\n",
       " 'e': 3,\n",
       " 's': 4,\n",
       " ' ': 3,\n",
       " 'h': 1,\n",
       " 'i': 2,\n",
       " 'a': 1,\n",
       " 'w': 1,\n",
       " 'o': 1,\n",
       " 'm': 1}"
      ]
     },
     "execution_count": 42,
     "metadata": {},
     "output_type": "execute_result"
    }
   ],
   "source": [
    "def multiple_letter_count(string):\n",
    "    return {letter: string.count(letter) for letter in string}\n",
    "multiple_letter_count(string)"
   ]
  },
  {
   "cell_type": "code",
   "execution_count": 43,
   "metadata": {},
   "outputs": [
    {
     "data": {
      "text/plain": [
       "{'i': 2,\n",
       " 't': 3,\n",
       " 'h': 1,\n",
       " 'a': 1,\n",
       " 'e': 3,\n",
       " ' ': 3,\n",
       " 'm': 1,\n",
       " 'w': 1,\n",
       " 'o': 1,\n",
       " 's': 4}"
      ]
     },
     "execution_count": 43,
     "metadata": {},
     "output_type": "execute_result"
    }
   ],
   "source": [
    "def multiple_letter_count(word):   \n",
    "    return {i: word.count(i) for i in {s for s in word}} \n",
    "multiple_letter_count(string)"
   ]
  },
  {
   "cell_type": "code",
   "execution_count": 72,
   "metadata": {},
   "outputs": [
    {
     "data": {
      "text/plain": [
       "[1, 2, 3, 3]"
      ]
     },
     "execution_count": 72,
     "metadata": {},
     "output_type": "execute_result"
    }
   ],
   "source": [
    "'''\n",
    "list_manipulation([1,2,3], \"remove\", \"end\") # 3\n",
    "list_manipulation([1,2,3], \"remove\", \"beginning\") #  1\n",
    "list_manipulation([1,2,3], \"add\", \"beginning\", 20) #  [20,1,2,3]\n",
    "list_manipulation([1,2,3], \"add\", \"end\", 30) #  [1,2,3,30]\n",
    "'''\n",
    "\n",
    "def list_manipulation(l,command,location, value):\n",
    "    if command == \"remove\" and location == \"end\":\n",
    "        return l.pop()\n",
    "    elif command == \"remove\" and location == \"beginning\":\n",
    "            return l.pop(0)\n",
    "    elif command == \"add\" and location == \"beginning\":\n",
    "            l.insert(0,value)\n",
    "            return l # pop shows value, insert doesnt\n",
    "    elif command == \"add\" and location == \"end\":\n",
    "            l.insert(-1,value)\n",
    "            return l \n",
    "list1 = [1,2,3]\n",
    "list_manipulation(list1,\"add\",\"end\", 3)   \n"
   ]
  },
  {
   "cell_type": "code",
   "execution_count": 73,
   "metadata": {},
   "outputs": [
    {
     "data": {
      "text/plain": [
       "3"
      ]
     },
     "execution_count": 73,
     "metadata": {},
     "output_type": "execute_result"
    }
   ],
   "source": [
    "list_manipulation(list1,\"remove\",\"end\", 3)\n"
   ]
  },
  {
   "cell_type": "code",
   "execution_count": 71,
   "metadata": {},
   "outputs": [
    {
     "data": {
      "text/plain": [
       "[3, 1, 2, 3]"
      ]
     },
     "execution_count": 71,
     "metadata": {},
     "output_type": "execute_result"
    }
   ],
   "source": [
    "list_manipulation(list1,\"add\",\"beginning\", 3)\n",
    "list1"
   ]
  },
  {
   "cell_type": "code",
   "execution_count": 23,
   "metadata": {},
   "outputs": [],
   "source": [
    "'''\n",
    "is_palindrome('testing') # False\n",
    "is_palindrome('tacocat') # True\n",
    "is_palindrome('hannah') # True\n",
    "is_palindrome('robert') # False\n",
    "is_palindrome('amanaplanacanalpanama') # True\n",
    "'''\n",
    "\n",
    "def is_palindrome(string):\n",
    "    if string == string[::-1]:\n",
    "        return True\n",
    "    return False \n",
    "# no need for else, the only way to get there is if if is false\n",
    "# return statment in a conditional doesnt require and else - is short cicuit thing, it will quit out "
   ]
  },
  {
   "cell_type": "code",
   "execution_count": 27,
   "metadata": {},
   "outputs": [
    {
     "name": "stdout",
     "output_type": "stream",
     "text": [
      "False\n",
      "True\n",
      "True\n",
      "False\n",
      "True\n"
     ]
    }
   ],
   "source": [
    "print(is_palindrome('testing')) # False\n",
    "print(is_palindrome('tacocat')) # True\n",
    "print(is_palindrome('hannah')) # True\n",
    "print(is_palindrome('robert')) # False\n",
    "print(is_palindrome('amanaplanacanalpanama')) #True\n"
   ]
  },
  {
   "cell_type": "markdown",
   "metadata": {},
   "source": [
    "For the more advanced version that ignores whitespace, I first remove all whitespace from the input string using a string method called replace() . What I'm actually doing is replacing all spaces(\" \") with empty strings (\"\").  I save the result to a new variable I call stripped .  Then, I simply check if stripped is a palindrome, using the same logic I did in the previous solution.\n"
   ]
  },
  {
   "cell_type": "code",
   "execution_count": 78,
   "metadata": {},
   "outputs": [],
   "source": [
    "def is_palindrome(string):\n",
    "    stripped = string.replace(\" \", \"\")\n",
    "    return stripped == stripped[::-1]"
   ]
  },
  {
   "cell_type": "code",
   "execution_count": 79,
   "metadata": {},
   "outputs": [
    {
     "name": "stdout",
     "output_type": "stream",
     "text": [
      "False\n",
      "True\n",
      "True\n",
      "False\n"
     ]
    }
   ],
   "source": [
    "print(is_palindrome('testing')) # False\n",
    "print(is_palindrome('tacocat')) # True\n",
    "print(is_palindrome('hannah')) # True\n",
    "print(is_palindrome('robert')) # False"
   ]
  },
  {
   "cell_type": "code",
   "execution_count": 80,
   "metadata": {},
   "outputs": [],
   "source": [
    "'''\n",
    "frequency([1,2,3,4,4,4], 4) # 3\n",
    "frequency([True, False, True, True], False) # 1\n",
    "'''\n",
    "def frequency(entry,char):\n",
    "    return entry.count(char)"
   ]
  },
  {
   "cell_type": "code",
   "execution_count": 81,
   "metadata": {},
   "outputs": [
    {
     "data": {
      "text/plain": [
       "0"
      ]
     },
     "execution_count": 81,
     "metadata": {},
     "output_type": "execute_result"
    }
   ],
   "source": [
    "frequency([1,2,3,4,2,3,2,5],9)"
   ]
  },
  {
   "cell_type": "code",
   "execution_count": 28,
   "metadata": {},
   "outputs": [],
   "source": [
    "'''\n",
    "multiply_even_numbers([2,3,4,5,6]) # 48\n",
    "'''\n",
    "\n",
    "def multiply_even_numbers(list1):\n",
    "    count = 1\n",
    "    for i in list1:\n",
    "        if i%2==0:\n",
    "            count = count*i\n",
    "    return count    "
   ]
  },
  {
   "cell_type": "code",
   "execution_count": 29,
   "metadata": {},
   "outputs": [
    {
     "data": {
      "text/plain": [
       "48"
      ]
     },
     "execution_count": 29,
     "metadata": {},
     "output_type": "execute_result"
    }
   ],
   "source": [
    "multiply_even_numbers([2,3,4,5,6])"
   ]
  },
  {
   "cell_type": "code",
   "execution_count": 87,
   "metadata": {},
   "outputs": [],
   "source": [
    "'''\n",
    "capitalize(\"tim\") # \"Tim\"\n",
    "capitalize(\"matt\") # \"Matt\"\n",
    "'''\n",
    "\n",
    "def capitalize(name=\"tim\"):\n",
    "    return name[0].upper() + name[1:]"
   ]
  },
  {
   "cell_type": "code",
   "execution_count": 88,
   "metadata": {},
   "outputs": [
    {
     "data": {
      "text/plain": [
       "'Tim'"
      ]
     },
     "execution_count": 88,
     "metadata": {},
     "output_type": "execute_result"
    }
   ],
   "source": [
    "capitalize()"
   ]
  },
  {
   "cell_type": "code",
   "execution_count": 35,
   "metadata": {},
   "outputs": [],
   "source": [
    "# fct that accepts list and returns list of truthy values\n",
    "'''\n",
    "compact([0,1,2,\"\",[], False, {}, None, \"All done\"]) # [1,2, \"All done\"]\n",
    "'''\n",
    "\n",
    "def compact(list1):\n",
    "    truthy_result=[]\n",
    "    falsy_result=[]\n",
    "    for char in list1:\n",
    "        if char:\n",
    "            truthy_result.append(char)\n",
    "        else:\n",
    "            falsy_result.append(char)\n",
    "    return [f\"Truthy values are {truthy_result}\",f\"Falsy entries are {falsy_result}\"]"
   ]
  },
  {
   "cell_type": "code",
   "execution_count": 36,
   "metadata": {},
   "outputs": [
    {
     "data": {
      "text/plain": [
       "[\"Truthy values are [1, 2, 'All done']\",\n",
       " \"Falsy entries are [0, '', [], False, {}, None]\"]"
      ]
     },
     "execution_count": 36,
     "metadata": {},
     "output_type": "execute_result"
    }
   ],
   "source": [
    "compact([0,1,2,\"\",[], False, {}, None, \"All done\"])"
   ]
  },
  {
   "cell_type": "code",
   "execution_count": 39,
   "metadata": {},
   "outputs": [
    {
     "data": {
      "text/plain": [
       "[1, 2, 'All done']"
      ]
     },
     "execution_count": 39,
     "metadata": {},
     "output_type": "execute_result"
    }
   ],
   "source": [
    "def compact(l):\n",
    "    return [val for val in l if val]\n",
    "compact([0,1,2,\"\",[], False, {}, None, \"All done\"])"
   ]
  },
  {
   "cell_type": "code",
   "execution_count": 115,
   "metadata": {},
   "outputs": [
    {
     "data": {
      "text/plain": [
       "['f', 3]"
      ]
     },
     "execution_count": 115,
     "metadata": {},
     "output_type": "execute_result"
    }
   ],
   "source": [
    "# flesh out intersection\n",
    "def intersection(list1,list2):\n",
    "    return [char for char in list1 if char in list2]\n",
    "intersection([1,2,4,5,\"f\",3], [\"x\",\"f\",3,7])"
   ]
  },
  {
   "cell_type": "code",
   "execution_count": null,
   "metadata": {},
   "outputs": [],
   "source": [
    "# traditional way - less pythonic \n",
    "def intersection(l1, l2):\n",
    "    in_common = []\n",
    "    for val in l1:\n",
    "        if val in l2:\n",
    "            in_common.append(val)\n",
    "    return in_common\n",
    "intersection([1,2,4,5,\"f\",3], [\"x\",\"f\",3,7])"
   ]
  },
  {
   "cell_type": "code",
   "execution_count": 40,
   "metadata": {},
   "outputs": [
    {
     "data": {
      "text/plain": [
       "[3, 'f']"
      ]
     },
     "execution_count": 40,
     "metadata": {},
     "output_type": "execute_result"
    }
   ],
   "source": [
    "# set solution\n",
    "def intersection(list1, list2):\n",
    "    return [val for val in set(list1) & set(list2)] # ampersand\n",
    "intersection([1,2,4,5,\"f\",3], [\"x\",\"f\",3,7])"
   ]
  },
  {
   "cell_type": "code",
   "execution_count": 41,
   "metadata": {},
   "outputs": [
    {
     "data": {
      "text/plain": [
       "[1, 2, 3, 4, 5, 7, 'x', 'f']"
      ]
     },
     "execution_count": 41,
     "metadata": {},
     "output_type": "execute_result"
    }
   ],
   "source": [
    "# set solution\n",
    "def intersection(list1, list2):\n",
    "    return [val for val in set(list1) | set(list2)] # pipe operator \n",
    "intersection([1,2,4,5,\"f\",3], [\"x\",\"f\",3,7])"
   ]
  },
  {
   "cell_type": "code",
   "execution_count": 123,
   "metadata": {},
   "outputs": [],
   "source": [
    "# iterate over each item in the list and invoke the callback \n",
    "'''\n",
    "def isEven(num):\n",
    "    return num % 2 == 0\n",
    "\n",
    "partition([1,2,3,4], isEven) # [[2,4],[1,3]]\n",
    "'''\n",
    "\n",
    "def partition(numbers):\n",
    "    truthy = [num for num in numbers if num%2 ==0]\n",
    "    falsy = [num for num in numbers if num%2 !=0]\n",
    "    return [truthy, falsy]"
   ]
  },
  {
   "cell_type": "code",
   "execution_count": 124,
   "metadata": {},
   "outputs": [
    {
     "data": {
      "text/plain": [
       "[[2, 4], [1, 3]]"
      ]
     },
     "execution_count": 124,
     "metadata": {},
     "output_type": "execute_result"
    }
   ],
   "source": [
    "partition([1,2,3,4])"
   ]
  },
  {
   "cell_type": "code",
   "execution_count": 43,
   "metadata": {},
   "outputs": [
    {
     "data": {
      "text/plain": [
       "[[2, 4], [1, 3]]"
      ]
     },
     "execution_count": 43,
     "metadata": {},
     "output_type": "execute_result"
    }
   ],
   "source": [
    "def isEven(num):\n",
    "    return num % 2 == 0\n",
    "\n",
    "def partition(lst, fn):\n",
    "    trues = []\n",
    "    falses = []\n",
    "    for val in lst:\n",
    "        if fn(val):\n",
    "            trues.append(val)\n",
    "        else:\n",
    "            falses.append(val)\n",
    "    return [trues, falses]\n",
    "partition([1,2,3,4], isEven)"
   ]
  },
  {
   "cell_type": "code",
   "execution_count": 132,
   "metadata": {},
   "outputs": [
    {
     "data": {
      "text/plain": [
       "([2, 4], [1, 3])"
      ]
     },
     "execution_count": 132,
     "metadata": {},
     "output_type": "execute_result"
    }
   ],
   "source": [
    "def partition(numbers):\n",
    "    return([num for num in numbers if num%2==0], [num for num in numbers if num%2!=0])\n",
    "partition([1,2,3,4])"
   ]
  },
  {
   "cell_type": "code",
   "execution_count": 49,
   "metadata": {},
   "outputs": [
    {
     "data": {
      "text/plain": [
       "[[2, 4], [1, 3]]"
      ]
     },
     "execution_count": 49,
     "metadata": {},
     "output_type": "execute_result"
    }
   ],
   "source": [
    "def partition(l, callback):\n",
    "    return [[l.pop(l.index(i)) for i in l if callback(i)],l]\n",
    "partition([1,2,3,4],isEven)\n",
    "# callback function is what I defined as isEven\n",
    "# l is the remaining list, the list collects the popped elements"
   ]
  },
  {
   "cell_type": "code",
   "execution_count": 53,
   "metadata": {},
   "outputs": [
    {
     "data": {
      "text/plain": [
       "True"
      ]
     },
     "execution_count": 53,
     "metadata": {},
     "output_type": "execute_result"
    }
   ],
   "source": [
    "def contains_purple(*args):\n",
    "    x = [i for i in args if i == \"purple\"]\n",
    "    return x[0]==\"purple\" \n",
    "contains_purple(25,\"purple\")"
   ]
  },
  {
   "cell_type": "code",
   "execution_count": 54,
   "metadata": {},
   "outputs": [
    {
     "ename": "IndexError",
     "evalue": "list index out of range",
     "output_type": "error",
     "traceback": [
      "\u001b[1;31m---------------------------------------------------------------------------\u001b[0m",
      "\u001b[1;31mIndexError\u001b[0m                                Traceback (most recent call last)",
      "\u001b[1;32m<ipython-input-54-224e32eab6c7>\u001b[0m in \u001b[0;36m<module>\u001b[1;34m()\u001b[0m\n\u001b[1;32m----> 1\u001b[1;33m \u001b[0mcontains_purple\u001b[0m\u001b[1;33m(\u001b[0m\u001b[1;36m25\u001b[0m\u001b[1;33m,\u001b[0m\u001b[1;34m\"test\"\u001b[0m\u001b[1;33m,\u001b[0m \u001b[1;34m\"interesting\"\u001b[0m\u001b[1;33m)\u001b[0m\u001b[1;33m\u001b[0m\u001b[0m\n\u001b[0m",
      "\u001b[1;32m<ipython-input-53-d4cec484d307>\u001b[0m in \u001b[0;36mcontains_purple\u001b[1;34m(*args)\u001b[0m\n\u001b[0;32m      1\u001b[0m \u001b[1;32mdef\u001b[0m \u001b[0mcontains_purple\u001b[0m\u001b[1;33m(\u001b[0m\u001b[1;33m*\u001b[0m\u001b[0margs\u001b[0m\u001b[1;33m)\u001b[0m\u001b[1;33m:\u001b[0m\u001b[1;33m\u001b[0m\u001b[0m\n\u001b[0;32m      2\u001b[0m     \u001b[0mx\u001b[0m \u001b[1;33m=\u001b[0m \u001b[1;33m[\u001b[0m\u001b[0mi\u001b[0m \u001b[1;32mfor\u001b[0m \u001b[0mi\u001b[0m \u001b[1;32min\u001b[0m \u001b[0margs\u001b[0m \u001b[1;32mif\u001b[0m \u001b[0mi\u001b[0m \u001b[1;33m==\u001b[0m \u001b[1;34m\"purple\"\u001b[0m\u001b[1;33m]\u001b[0m\u001b[1;33m\u001b[0m\u001b[0m\n\u001b[1;32m----> 3\u001b[1;33m     \u001b[1;32mreturn\u001b[0m \u001b[0mx\u001b[0m\u001b[1;33m[\u001b[0m\u001b[1;36m0\u001b[0m\u001b[1;33m]\u001b[0m\u001b[1;33m==\u001b[0m\u001b[1;34m\"purple\"\u001b[0m\u001b[1;33m\u001b[0m\u001b[0m\n\u001b[0m\u001b[0;32m      4\u001b[0m \u001b[0mcontains_purple\u001b[0m\u001b[1;33m(\u001b[0m\u001b[1;36m25\u001b[0m\u001b[1;33m,\u001b[0m\u001b[1;34m\"purple\"\u001b[0m\u001b[1;33m)\u001b[0m\u001b[1;33m\u001b[0m\u001b[0m\n",
      "\u001b[1;31mIndexError\u001b[0m: list index out of range"
     ]
    }
   ],
   "source": [
    "contains_purple(25,\"test\", \"interesting\")"
   ]
  },
  {
   "cell_type": "code",
   "execution_count": 149,
   "metadata": {},
   "outputs": [
    {
     "data": {
      "text/plain": [
       "True"
      ]
     },
     "execution_count": 149,
     "metadata": {},
     "output_type": "execute_result"
    }
   ],
   "source": [
    "def contains_purple(*args):\n",
    "    if \"purple\" in args:\n",
    "        return True\n",
    "    else:\n",
    "        return False\n",
    "contains_purple(25,\"purple\")"
   ]
  },
  {
   "cell_type": "code",
   "execution_count": 151,
   "metadata": {},
   "outputs": [
    {
     "data": {
      "text/plain": [
       "'childman'"
      ]
     },
     "execution_count": 151,
     "metadata": {},
     "output_type": "execute_result"
    }
   ],
   "source": [
    "# Define combine_words below:\n",
    "def combine_words(word,**kwargs):\n",
    "    if 'prefix' in kwargs:\n",
    "        return kwargs['prefix'] + word\n",
    "    elif 'suffix' in kwargs:\n",
    "        return word + kwargs['suffix']\n",
    "    return word\n",
    "combine_words(\"child\", suffix=\"man\")"
   ]
  },
  {
   "cell_type": "markdown",
   "metadata": {},
   "source": [
    "This solution uses dict.get() a lot. dict.get('first')  will return the value of 'first' if it exists, otherwise it returns None.  However, you can specify a second argument which will replace None as the default value. I use that in this solution a bunch of times.\n",
    "\n",
    "- I defined a dictionary called operation_lookup  that maps a string like \"add\" to an actual mathematical operation involving the values of 'first' and 'second'\n",
    "- I create a boolean variable called is_float, which is True if kwargs contains 'make_float', otherwise it's false\n",
    "- Then I lookup the correct value from the operation_lookup dict using the operation that was specified in kwargs    \n",
    "Basically, turning something like \"subtract\" into:     \n",
    "\n",
    "kwargs.get('first', 0) - kwargs.get('second', 0)   \n",
    "\n",
    "Which in turns simplifies to a number\n",
    "- I store the result in a variable called operation_value \n",
    "- I return a string containing either the specified message or the default 'The result is' string.  \n",
    "- Whether operation_value  is interpolated as a float or int is determined by the is_float  variable.     \n",
    "\n",
    "Note: this solution will divide by zero if a 2nd argument isn't provided for divide.  You may want to change the default value to 1.  We learn how to handle ZeroDivisionErrors later on in the course.  Thanks, Scott for pointing out the issue!"
   ]
  },
  {
   "cell_type": "code",
   "execution_count": 55,
   "metadata": {},
   "outputs": [],
   "source": [
    "'''\n",
    "calculate(make_float=False, operation='add', message='You just added', first=2, second=4) # \"You just added 6\"\n",
    "calculate(make_float=True, operation='divide', first=3.5, second=5) # \"The result is 0.7\"\n",
    "'''\n",
    "\n",
    "def calculate(**kwargs):\n",
    "    operation_lookup = {\n",
    "        'add': kwargs.get('first', 0) + kwargs.get('second', 0),\n",
    "        'subtract': kwargs.get('first', 0) - kwargs.get('second', 0),\n",
    "        'divide': kwargs.get('first', 0) / kwargs.get('second', 0),\n",
    "        'multiply': kwargs.get('first', 0) * kwargs.get('second', 0)\n",
    "    }\n",
    "    is_float = kwargs.get('make_float', False)\n",
    "    operation_value = operation_lookup[kwargs.get('operation', '')]\n",
    "    if is_float:\n",
    "        final = \"{} {}\".format(kwargs.get('message','The result is'), float(operation_value))\n",
    "    else:\n",
    "        final = \"{} {}\".format(kwargs.get('message','The result is'), int(operation_value))\n",
    "    return final"
   ]
  },
  {
   "cell_type": "code",
   "execution_count": 56,
   "metadata": {},
   "outputs": [
    {
     "name": "stdout",
     "output_type": "stream",
     "text": [
      "You just added 6\n",
      "The result is 0.7\n"
     ]
    }
   ],
   "source": [
    "print(calculate(make_float=False, operation='add', message='You just added', first=2, second=4)) # \"You just added 6\"\n",
    "print(calculate(make_float=True, operation='divide', first=3.5, second=5)) # \"The result is 0.7\""
   ]
  },
  {
   "cell_type": "code",
   "execution_count": 159,
   "metadata": {},
   "outputs": [],
   "source": [
    "def filter_negatives(list1):\n",
    "    return list(filter(lambda x: x<0,list1))"
   ]
  },
  {
   "cell_type": "code",
   "execution_count": 160,
   "metadata": {},
   "outputs": [
    {
     "data": {
      "text/plain": [
       "[-1]"
      ]
     },
     "execution_count": 160,
     "metadata": {},
     "output_type": "execute_result"
    }
   ],
   "source": [
    "filter_negatives([-1,2,3,45])"
   ]
  },
  {
   "cell_type": "markdown",
   "metadata": {},
   "source": [
    "I define a function called sum_even_values  which accepts any number of arguments, thanks to *args \n",
    "I grab the even numbers using the generator expression (arg for arg in args if arg % 2 == 0)  (could also use a list comp)\n",
    "I pass the even numbers I extracted into sum()  and return the value\n",
    "The default start value of sum()  is 0, so I don't have to do anything special to get it to return 0 if there are no even numbers!\n",
    "\n"
   ]
  },
  {
   "cell_type": "code",
   "execution_count": 163,
   "metadata": {},
   "outputs": [
    {
     "data": {
      "text/plain": [
       "868"
      ]
     },
     "execution_count": 163,
     "metadata": {},
     "output_type": "execute_result"
    }
   ],
   "source": [
    "def sum_even_values(*args):\n",
    "    return sum(arg for arg in args if arg % 2 == 0)\n",
    "sum_even_values(1,3,67,868)"
   ]
  },
  {
   "cell_type": "markdown",
   "metadata": {},
   "source": [
    "number of arguments. The function should return the sum of all the parameters that are floats. If there are no floats the function should return 0\n",
    "\n",
    "I started by defining sum_floats , which accepts any number of arguments using *args \n",
    "Much like the previous exercise, I use a generator expression to extract the values in args where type()  is float.\n",
    "I pass those values in to sum  and return the result\n"
   ]
  },
  {
   "cell_type": "code",
   "execution_count": 165,
   "metadata": {},
   "outputs": [],
   "source": [
    "def sum_floats(*args):\n",
    "    return sum(arg for arg in args if type(arg) == float)"
   ]
  },
  {
   "cell_type": "markdown",
   "metadata": {},
   "source": [
    "Write a function **Interleave** that accepts two strings. It should return a new srting containing 2 srtings interwoven or zipped together. For example:   \n",
    "\n",
    "interleave(\"hi\",\"ha\") # \"hhia\"\n",
    "\n",
    "Interleaving Strings Solution  \n",
    "Here's a detailed walkthrough.  I know it can be overwhelming, but try to step through one piece at a time if you get stuck.\n",
    "\n",
    "I start by defining interleave , which accepts 2 strings: str1, and str2\n",
    "\n",
    "To make this easier, let's use an example. Let's say that I call interleave('hi', 'no') \n",
    "\n",
    "Focus on the innermost bit first. I zip the two strings together, which returns a list of tuples like: [('h','n'), ('i','o')] \n",
    "\n",
    "To get it back into a string, I need to:\n",
    "\n",
    "First join the individual tuples into strings, which is what the first join() does\n",
    "\n",
    "it results in a list of strings: ['hn', 'io'] \n",
    "\n",
    "Finally, join all the remaining strings into one large string\n",
    "\n",
    "results in 'hnio' \n",
    "\n",
    "Return the result!"
   ]
  },
  {
   "cell_type": "code",
   "execution_count": 57,
   "metadata": {},
   "outputs": [
    {
     "data": {
      "text/plain": [
       "'hhia'"
      ]
     },
     "execution_count": 57,
     "metadata": {},
     "output_type": "execute_result"
    }
   ],
   "source": [
    "def interleave(str1,str2):\n",
    "    return ''.join(''.join(x) for x in (zip(str1,str2)))\n",
    "interleave(\"hi\",\"ha\")"
   ]
  },
  {
   "cell_type": "code",
   "execution_count": 63,
   "metadata": {},
   "outputs": [
    {
     "data": {
      "text/plain": [
       "[('h', 'h'), ('i', 'a')]"
      ]
     },
     "execution_count": 63,
     "metadata": {},
     "output_type": "execute_result"
    }
   ],
   "source": [
    "list(zip(\"hi\",\"ha\"))"
   ]
  },
  {
   "cell_type": "markdown",
   "metadata": {},
   "source": [
    "Write a function called **triple_and_filter**. This function should accept a list of numbers, filter out every number that is not divisible by 4, and return a new list where every number is tripled. "
   ]
  },
  {
   "cell_type": "code",
   "execution_count": 176,
   "metadata": {},
   "outputs": [
    {
     "data": {
      "text/plain": [
       "[12, 48, 240]"
      ]
     },
     "execution_count": 176,
     "metadata": {},
     "output_type": "execute_result"
    }
   ],
   "source": [
    "def triple_and_filter(lst):\n",
    "    return list(filter(lambda x: x % 4 == 0, map(lambda x: x*3, lst)))\n",
    "triple_and_filter([1,2,3,4,16,45,67,6,435,343,2394,80,3,750,389,7,66,46,3])"
   ]
  },
  {
   "cell_type": "markdown",
   "metadata": {},
   "source": [
    "Extract Full Name Solution\n",
    "- I use map and a lambda to create a new list full of formatted strings:"
   ]
  },
  {
   "cell_type": "code",
   "execution_count": 177,
   "metadata": {},
   "outputs": [
    {
     "data": {
      "text/plain": [
       "['Elie Schoppik', 'Colt Steele']"
      ]
     },
     "execution_count": 177,
     "metadata": {},
     "output_type": "execute_result"
    }
   ],
   "source": [
    "def extract_full_name(l):\n",
    "    return list(map(lambda val: \"{} {}\".format(val['first'], val['last']), l))\n",
    "names = [{'first': 'Elie', 'last': 'Schoppik'}, {'first': 'Colt', 'last': 'Steele'}]\n",
    "extract_full_name(names) # ['Elie Schoppik', 'Colt Steele']"
   ]
  },
  {
   "cell_type": "code",
   "execution_count": 188,
   "metadata": {},
   "outputs": [],
   "source": [
    "import keyword\n",
    " \n",
    "def contains_keyword(*args):\n",
    "    for item in args:\n",
    "        if keyword.iskeyword(item): return True\n",
    "    return False"
   ]
  },
  {
   "cell_type": "code",
   "execution_count": 189,
   "metadata": {},
   "outputs": [
    {
     "data": {
      "text/plain": [
       "True"
      ]
     },
     "execution_count": 189,
     "metadata": {},
     "output_type": "execute_result"
    }
   ],
   "source": [
    "contains_keyword(\"def\")"
   ]
  },
  {
   "cell_type": "code",
   "execution_count": 1,
   "metadata": {},
   "outputs": [
    {
     "data": {
      "text/plain": [
       "'C:\\\\Users\\\\alexa\\\\Documents\\\\Python'"
      ]
     },
     "execution_count": 1,
     "metadata": {},
     "output_type": "execute_result"
    }
   ],
   "source": [
    "%pwd"
   ]
  },
  {
   "cell_type": "markdown",
   "metadata": {},
   "source": [
    "# OOP: object oriented programming\n"
   ]
  },
  {
   "cell_type": "code",
   "execution_count": 2,
   "metadata": {},
   "outputs": [
    {
     "name": "stdout",
     "output_type": "stream",
     "text": [
      "<class '__main__.Person'>\n"
     ]
    }
   ],
   "source": [
    "class Person:\n",
    "\tpass  # just says we are done - without it it wouldn't be a working class \n",
    "\n",
    "p = Person() #instantiate a new user instance (an object)\n",
    "print(type(p)) # provides class __main__.user "
   ]
  },
  {
   "cell_type": "code",
   "execution_count": 64,
   "metadata": {},
   "outputs": [],
   "source": [
    "class BankAccount():\n",
    "    def __init__(self, owner, balance = 0.0):\n",
    "        self.owner = owner\n",
    "        self.balance = balance # or use self.balance = 0.0 (and no start value at top)\n",
    "    def deposit(self,deposit):\n",
    "        self.balance += deposit\n",
    "        return self.balance\n",
    "    def withdraw(self, withdraw):\n",
    "        self.balance -= withdraw\n",
    "        return self.balance"
   ]
  },
  {
   "cell_type": "code",
   "execution_count": 65,
   "metadata": {},
   "outputs": [],
   "source": [
    "acct = BankAccount(\"Darcy\")"
   ]
  },
  {
   "cell_type": "code",
   "execution_count": 66,
   "metadata": {},
   "outputs": [
    {
     "name": "stdout",
     "output_type": "stream",
     "text": [
      "Darcy\n",
      "0.0\n",
      "10.0\n",
      "7.0\n",
      "7.0\n"
     ]
    }
   ],
   "source": [
    "print(acct.owner)\n",
    "print(acct.balance)\n",
    "print(acct.deposit(10))\n",
    "print(acct.withdraw(3))\n",
    "print(acct.balance)"
   ]
  },
  {
   "cell_type": "code",
   "execution_count": 13,
   "metadata": {},
   "outputs": [
    {
     "name": "stdout",
     "output_type": "stream",
     "text": [
      "0\n"
     ]
    }
   ],
   "source": [
    "class User:\n",
    "    \n",
    "    active_users = 0 # it is defined once not for each individual instance of each user \n",
    "    \n",
    "    def __init__(self, first,last,age):\n",
    "        self.first = first \n",
    "        self.last = last\n",
    "        self.age = age\n",
    "        User.active_users +=1 \n",
    "    def logout(self):\n",
    "        User.active_users -=1\n",
    "        return f\"{self.first} has logged out\"\n",
    "        \n",
    "    def full_name(self): # part of the class; we add this method\n",
    "    # self is needed (can have any name but by convention it is self)\n",
    "    # cannot simply use return with first \n",
    "        return f\"{self.first} {self.last}\"\n",
    "    # only with parameter you do not need self - else it will throw an error that 1 positional argument is needed \n",
    "    def likes(self, thing):\n",
    "        return f\"{self.first} likes {thing}\"\n",
    "    def initials(self):\n",
    "        return f\"{self.first[0]}.{self.last[0]}.\"\n",
    "    def is_senior(self):\n",
    "        return self.age>=65\n",
    "    def birthday(self):\n",
    "        self.age +=1 # can update them \n",
    "        return f\"Happy {self.age}th, {self.first}!\"\n",
    "print(User.active_users)  # can actually refer to class variables via individual isntances (see below)"
   ]
  },
  {
   "cell_type": "code",
   "execution_count": 14,
   "metadata": {},
   "outputs": [
    {
     "name": "stdout",
     "output_type": "stream",
     "text": [
      "0\n",
      "1\n",
      "joe has logged out\n"
     ]
    }
   ],
   "source": [
    "print(User.active_users)\n",
    "user1= User(\"joe\",\"smith\",68)\n",
    "print(User.active_users)\n",
    "print(user1.logout())"
   ]
  },
  {
   "cell_type": "code",
   "execution_count": null,
   "metadata": {},
   "outputs": [],
   "source": []
  },
  {
   "cell_type": "code",
   "execution_count": 15,
   "metadata": {},
   "outputs": [],
   "source": [
    "class Chicken:\n",
    "    total_eggs = 0\n",
    "    def __init__(self, name, species):\n",
    "        self.name = name\n",
    "        self.species = species\n",
    "        self.eggs = 0\n",
    "    \n",
    "    def lay_egg(self):\n",
    "        self.eggs += 1\n",
    "        Chicken.total_eggs += 1 # class atribute \n",
    "        return self.eggs"
   ]
  },
  {
   "cell_type": "code",
   "execution_count": 67,
   "metadata": {},
   "outputs": [],
   "source": [
    "# MRO genetics solution \n",
    "#Notice the order that Child inherits: Mother first and then Father.\n",
    "\n",
    "\n",
    "\n",
    "class Mother:\n",
    "    def __init__(self):\n",
    "        self.eye_color = \"brown\"\n",
    "        self.hair_color = \"dark brown\"\n",
    "        self.hair_type = \"curly\"\n",
    " \n",
    " \n",
    "class Father:\n",
    "    def __init__(self):\n",
    "        self.eye_color = \"blue\"\n",
    "        self.hair_color = \"blond\"\n",
    "        self.hair_type = \"straight\"\n",
    " \n",
    " \n",
    "class Child(Mother, Father):\n",
    "    pass"
   ]
  },
  {
   "cell_type": "code",
   "execution_count": 68,
   "metadata": {},
   "outputs": [
    {
     "name": "stdout",
     "output_type": "stream",
     "text": [
      "Help on Child in module __main__ object:\n",
      "\n",
      "class Child(Mother, Father)\n",
      " |  Method resolution order:\n",
      " |      Child\n",
      " |      Mother\n",
      " |      Father\n",
      " |      builtins.object\n",
      " |  \n",
      " |  Methods inherited from Mother:\n",
      " |  \n",
      " |  __init__(self)\n",
      " |      Initialize self.  See help(type(self)) for accurate signature.\n",
      " |  \n",
      " |  ----------------------------------------------------------------------\n",
      " |  Data descriptors inherited from Mother:\n",
      " |  \n",
      " |  __dict__\n",
      " |      dictionary for instance variables (if defined)\n",
      " |  \n",
      " |  __weakref__\n",
      " |      list of weak references to the object (if defined)\n",
      "\n"
     ]
    }
   ],
   "source": [
    "help(Child())"
   ]
  },
  {
   "cell_type": "code",
   "execution_count": 19,
   "metadata": {},
   "outputs": [],
   "source": [
    "#Make Song Generator\n",
    "def make_song(verses=99, beverage=\"soda\"):\n",
    "    for num in range(verses, -1, -1):\n",
    "        if num > 1:\n",
    "            yield \"{} bottles of {} on the wall.\".format(num, beverage)\n",
    "        elif num == 1:\n",
    "            yield \"Only 1 bottle of {} left!\".format(beverage)\n",
    "        else:\n",
    "            yield \"No more {}!\".format(beverage)"
   ]
  },
  {
   "cell_type": "code",
   "execution_count": 20,
   "metadata": {},
   "outputs": [],
   "source": [
    "# get multiple generator\n",
    "def get_multiples(num=1, count=10):\n",
    "    next_num = num\n",
    "    while count > 0:\n",
    "        yield next_num\n",
    "        count -= 1\n",
    "        next_num += num"
   ]
  },
  {
   "cell_type": "code",
   "execution_count": 22,
   "metadata": {},
   "outputs": [],
   "source": [
    "# just loop forever (while True) instead of checking to see how many times we've looped.\n",
    "def get_unlimited_multiples(num=1):\n",
    "    next_num = num\n",
    "    while True:\n",
    "        yield next_num\n",
    "        next_num += num"
   ]
  },
  {
   "cell_type": "code",
   "execution_count": 72,
   "metadata": {},
   "outputs": [
    {
     "name": "stdout",
     "output_type": "stream",
     "text": [
      "4999999950000000\n",
      "4999999950000000\n",
      "sum(n for n in range(100000000)) took: 16.616695642471313\n",
      "sum([n for n in range(100000000)]) took: 21.13452386856079\n"
     ]
    }
   ],
   "source": [
    "import time # not very precise: for becnhmarking there are better ways\n",
    "\n",
    "\n",
    "# SUMMING 10,000,000 Digits With Generator Expression\n",
    "gen_start_time = time.time() # save start time\n",
    "print(sum(n for n in range(100000000)))\n",
    "gen_time = time.time() - gen_start_time # end time - start time\n",
    " \n",
    " \n",
    "# SUMMING 10,000,000 Digits With List Comprehension \n",
    "list_start_time = time.time()\n",
    "print(sum([n for n in range(100000000)]))  # only difference is [] vs ()\n",
    "list_time = time.time() - list_start_time\n",
    "\n",
    "\n",
    "print(f\"sum(n for n in range(100000000)) took: {gen_time}\")\n",
    "print(f\"sum([n for n in range(100000000)]) took: {list_time}\")\n"
   ]
  },
  {
   "cell_type": "code",
   "execution_count": 73,
   "metadata": {},
   "outputs": [
    {
     "name": "stdout",
     "output_type": "stream",
     "text": [
      "Executing sum_nums_gen\n",
      "Time Elapsed: 16.027164220809937\n",
      "4999999950000000\n",
      "Executing sum_nums_list\n",
      "Time Elapsed: 20.885191440582275\n",
      "4999999950000000\n"
     ]
    }
   ],
   "source": [
    "# Let's define a speed_test decorator\n",
    "from functools import wraps\n",
    "from time import time\n",
    "\n",
    "def speed_test(fn):\n",
    "\t@wraps(fn)\n",
    "\tdef wrapper(*args, **kwargs):\n",
    "\t\tstart_time = time()\n",
    "\t\tresult = fn(*args, **kwargs)\n",
    "\t\tend_time = time()\n",
    "\t\tprint(f\"Executing {fn.__name__}\")\n",
    "\t\tprint(f\"Time Elapsed: {end_time - start_time}\")\n",
    "\t\treturn result\n",
    "\treturn wrapper\n",
    "\n",
    "@speed_test\n",
    "def sum_nums_gen():\n",
    "\treturn sum(x for x in range(100000000))\n",
    "\n",
    "@speed_test\n",
    "def sum_nums_list():\n",
    "\treturn sum([x for x in range(100000000)])\n",
    "\n",
    "\n",
    "print(sum_nums_gen())\n",
    "print(sum_nums_list())"
   ]
  },
  {
   "cell_type": "markdown",
   "metadata": {},
   "source": [
    "write a function called delay which accepts a time and returns an inner function that accepts a function. \n",
    " \n",
    "\n",
    "@delay(3)   \n",
    "def say_hi():   \n",
    "    return \"hi\"\n",
    "\n",
    "say_hi()\n",
    " should print the message \"Waiting 3s before running say_hi\" to the console\n",
    " should then wait 3 seconds\n",
    "finally, should invoke say_hi and return \"hi\"\n"
   ]
  },
  {
   "cell_type": "code",
   "execution_count": 2,
   "metadata": {},
   "outputs": [],
   "source": [
    "\n",
    "from functools import wraps\n",
    "from time import sleep\n",
    " \n",
    "def delay(timer):\n",
    "    def inner(fn):\n",
    "        @wraps(fn)\n",
    "        def wrapper(*args, **kwargs):\n",
    "            print(\"Waiting {}s before running {}\".format(timer, fn.__name__))\n",
    "            sleep(timer)\n",
    "            return fn(*args, **kwargs)\n",
    "        return wrapper\n",
    "    return inner"
   ]
  },
  {
   "cell_type": "code",
   "execution_count": null,
   "metadata": {},
   "outputs": [],
   "source": []
  }
 ],
 "metadata": {
  "kernelspec": {
   "display_name": "Python 3",
   "language": "python",
   "name": "python3"
  },
  "language_info": {
   "codemirror_mode": {
    "name": "ipython",
    "version": 3
   },
   "file_extension": ".py",
   "mimetype": "text/x-python",
   "name": "python",
   "nbconvert_exporter": "python",
   "pygments_lexer": "ipython3",
   "version": "3.6.5"
  }
 },
 "nbformat": 4,
 "nbformat_minor": 2
}
