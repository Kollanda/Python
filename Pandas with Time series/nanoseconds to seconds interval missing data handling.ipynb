{
 "cells": [
  {
   "cell_type": "code",
   "execution_count": 1,
   "metadata": {},
   "outputs": [],
   "source": [
    "import datetime\n",
    "import pandas as pd\n",
    "import numpy as np"
   ]
  },
  {
   "cell_type": "code",
   "execution_count": 2,
   "metadata": {},
   "outputs": [
    {
     "data": {
      "text/plain": [
       "DatetimeIndex(['2018-01-01 00:00:00.003825297',\n",
       "               '2018-01-01 00:00:00.004825297',\n",
       "               '2018-01-01 00:00:00.005825297',\n",
       "               '2018-01-01 00:00:00.006825297',\n",
       "               '2018-01-01 00:00:00.007825297',\n",
       "               '2018-01-01 00:00:00.008825297',\n",
       "               '2018-01-01 00:00:00.009825297',\n",
       "               '2018-01-01 00:00:00.010825297',\n",
       "               '2018-01-01 00:00:00.011825297',\n",
       "               '2018-01-01 00:00:00.012825297',\n",
       "               ...\n",
       "               '2018-01-01 00:00:09.990825297',\n",
       "               '2018-01-01 00:00:09.991825297',\n",
       "               '2018-01-01 00:00:09.992825297',\n",
       "               '2018-01-01 00:00:09.993825297',\n",
       "               '2018-01-01 00:00:09.994825297',\n",
       "               '2018-01-01 00:00:09.995825297',\n",
       "               '2018-01-01 00:00:09.996825297',\n",
       "               '2018-01-01 00:00:09.997825297',\n",
       "               '2018-01-01 00:00:09.998825297',\n",
       "               '2018-01-01 00:00:09.999825297'],\n",
       "              dtype='datetime64[ns]', length=9997, freq='L')"
      ]
     },
     "execution_count": 2,
     "metadata": {},
     "output_type": "execute_result"
    }
   ],
   "source": [
    "data = pd.date_range(\"2018-01-01 00:00:00.003825297\", \"2018-01-01 00:00:10.000083741\", freq='ms')\n",
    "data"
   ]
  },
  {
   "cell_type": "code",
   "execution_count": 3,
   "metadata": {},
   "outputs": [],
   "source": [
    "test = []\n",
    "for i in data:\n",
    "    test.append(pd.Timestamp(i))"
   ]
  },
  {
   "cell_type": "code",
   "execution_count": 4,
   "metadata": {},
   "outputs": [
    {
     "data": {
      "text/plain": [
       "9997"
      ]
     },
     "execution_count": 4,
     "metadata": {},
     "output_type": "execute_result"
    }
   ],
   "source": [
    "len(test)"
   ]
  },
  {
   "cell_type": "code",
   "execution_count": 10,
   "metadata": {},
   "outputs": [
    {
     "data": {
      "text/html": [
       "<div>\n",
       "<style scoped>\n",
       "    .dataframe tbody tr th:only-of-type {\n",
       "        vertical-align: middle;\n",
       "    }\n",
       "\n",
       "    .dataframe tbody tr th {\n",
       "        vertical-align: top;\n",
       "    }\n",
       "\n",
       "    .dataframe thead th {\n",
       "        text-align: right;\n",
       "    }\n",
       "</style>\n",
       "<table border=\"1\" class=\"dataframe\">\n",
       "  <thead>\n",
       "    <tr style=\"text-align: right;\">\n",
       "      <th></th>\n",
       "      <th>bid</th>\n",
       "      <th>ask</th>\n",
       "    </tr>\n",
       "    <tr>\n",
       "      <th>day_time</th>\n",
       "      <th></th>\n",
       "      <th></th>\n",
       "    </tr>\n",
       "  </thead>\n",
       "  <tbody>\n",
       "    <tr>\n",
       "      <th>2018-01-01 00:00:00.003825297</th>\n",
       "      <td>0.296034</td>\n",
       "      <td>0.306034</td>\n",
       "    </tr>\n",
       "    <tr>\n",
       "      <th>2018-01-01 00:00:00.004825297</th>\n",
       "      <td>0.882743</td>\n",
       "      <td>0.892743</td>\n",
       "    </tr>\n",
       "    <tr>\n",
       "      <th>2018-01-01 00:00:00.005825297</th>\n",
       "      <td>0.919627</td>\n",
       "      <td>0.929627</td>\n",
       "    </tr>\n",
       "    <tr>\n",
       "      <th>2018-01-01 00:00:00.006825297</th>\n",
       "      <td>0.564230</td>\n",
       "      <td>0.574230</td>\n",
       "    </tr>\n",
       "    <tr>\n",
       "      <th>2018-01-01 00:00:00.007825297</th>\n",
       "      <td>0.587359</td>\n",
       "      <td>0.597359</td>\n",
       "    </tr>\n",
       "  </tbody>\n",
       "</table>\n",
       "</div>"
      ],
      "text/plain": [
       "                                    bid       ask\n",
       "day_time                                         \n",
       "2018-01-01 00:00:00.003825297  0.296034  0.306034\n",
       "2018-01-01 00:00:00.004825297  0.882743  0.892743\n",
       "2018-01-01 00:00:00.005825297  0.919627  0.929627\n",
       "2018-01-01 00:00:00.006825297  0.564230  0.574230\n",
       "2018-01-01 00:00:00.007825297  0.587359  0.597359"
      ]
     },
     "execution_count": 10,
     "metadata": {},
     "output_type": "execute_result"
    }
   ],
   "source": [
    "# Building an example DataFrame with fake market data\n",
    "bid = np.random.rand(len(test))\n",
    "ask = bid + 0.01\n",
    "df = pd.DataFrame({\n",
    "    'day_time': test,\n",
    "        'bid': bid,\n",
    "        'ask': ask\n",
    "    },\n",
    ").set_index('day_time')\n",
    "df.head()"
   ]
  },
  {
   "cell_type": "code",
   "execution_count": 11,
   "metadata": {},
   "outputs": [
    {
     "data": {
      "text/plain": [
       "DatetimeIndex(['2018-01-01 00:00:00.003825297',\n",
       "               '2018-01-01 00:00:01.003825297',\n",
       "               '2018-01-01 00:00:02.003825297',\n",
       "               '2018-01-01 00:00:03.003825297',\n",
       "               '2018-01-01 00:00:04.003825297',\n",
       "               '2018-01-01 00:00:05.003825297',\n",
       "               '2018-01-01 00:00:06.003825297',\n",
       "               '2018-01-01 00:00:07.003825297',\n",
       "               '2018-01-01 00:00:08.003825297',\n",
       "               '2018-01-01 00:00:09.003825297'],\n",
       "              dtype='datetime64[ns]', freq='S')"
      ]
     },
     "execution_count": 11,
     "metadata": {},
     "output_type": "execute_result"
    }
   ],
   "source": [
    "full_idx = pd.date_range(start=df.index.min(), end=df.index.max(), freq='1s')\n",
    "full_idx"
   ]
  },
  {
   "cell_type": "code",
   "execution_count": 12,
   "metadata": {},
   "outputs": [
    {
     "data": {
      "text/html": [
       "<div>\n",
       "<style scoped>\n",
       "    .dataframe tbody tr th:only-of-type {\n",
       "        vertical-align: middle;\n",
       "    }\n",
       "\n",
       "    .dataframe tbody tr th {\n",
       "        vertical-align: top;\n",
       "    }\n",
       "\n",
       "    .dataframe thead th {\n",
       "        text-align: right;\n",
       "    }\n",
       "</style>\n",
       "<table border=\"1\" class=\"dataframe\">\n",
       "  <thead>\n",
       "    <tr style=\"text-align: right;\">\n",
       "      <th></th>\n",
       "      <th>bid</th>\n",
       "      <th>ask</th>\n",
       "    </tr>\n",
       "    <tr>\n",
       "      <th>Voila</th>\n",
       "      <th></th>\n",
       "      <th></th>\n",
       "    </tr>\n",
       "  </thead>\n",
       "  <tbody>\n",
       "    <tr>\n",
       "      <th>2018-01-01 00:00:00.003825297</th>\n",
       "      <td>0.296034</td>\n",
       "      <td>0.306034</td>\n",
       "    </tr>\n",
       "    <tr>\n",
       "      <th>2018-01-01 00:00:01.003825297</th>\n",
       "      <td>0.825268</td>\n",
       "      <td>0.835268</td>\n",
       "    </tr>\n",
       "    <tr>\n",
       "      <th>2018-01-01 00:00:02.003825297</th>\n",
       "      <td>0.431450</td>\n",
       "      <td>0.441450</td>\n",
       "    </tr>\n",
       "    <tr>\n",
       "      <th>2018-01-01 00:00:03.003825297</th>\n",
       "      <td>0.760315</td>\n",
       "      <td>0.770315</td>\n",
       "    </tr>\n",
       "    <tr>\n",
       "      <th>2018-01-01 00:00:04.003825297</th>\n",
       "      <td>0.729683</td>\n",
       "      <td>0.739683</td>\n",
       "    </tr>\n",
       "    <tr>\n",
       "      <th>2018-01-01 00:00:05.003825297</th>\n",
       "      <td>0.977413</td>\n",
       "      <td>0.987413</td>\n",
       "    </tr>\n",
       "    <tr>\n",
       "      <th>2018-01-01 00:00:06.003825297</th>\n",
       "      <td>0.980774</td>\n",
       "      <td>0.990774</td>\n",
       "    </tr>\n",
       "    <tr>\n",
       "      <th>2018-01-01 00:00:07.003825297</th>\n",
       "      <td>0.716201</td>\n",
       "      <td>0.726201</td>\n",
       "    </tr>\n",
       "    <tr>\n",
       "      <th>2018-01-01 00:00:08.003825297</th>\n",
       "      <td>0.546243</td>\n",
       "      <td>0.556243</td>\n",
       "    </tr>\n",
       "    <tr>\n",
       "      <th>2018-01-01 00:00:09.003825297</th>\n",
       "      <td>0.162317</td>\n",
       "      <td>0.172317</td>\n",
       "    </tr>\n",
       "  </tbody>\n",
       "</table>\n",
       "</div>"
      ],
      "text/plain": [
       "                                    bid       ask\n",
       "Voila                                            \n",
       "2018-01-01 00:00:00.003825297  0.296034  0.306034\n",
       "2018-01-01 00:00:01.003825297  0.825268  0.835268\n",
       "2018-01-01 00:00:02.003825297  0.431450  0.441450\n",
       "2018-01-01 00:00:03.003825297  0.760315  0.770315\n",
       "2018-01-01 00:00:04.003825297  0.729683  0.739683\n",
       "2018-01-01 00:00:05.003825297  0.977413  0.987413\n",
       "2018-01-01 00:00:06.003825297  0.980774  0.990774\n",
       "2018-01-01 00:00:07.003825297  0.716201  0.726201\n",
       "2018-01-01 00:00:08.003825297  0.546243  0.556243\n",
       "2018-01-01 00:00:09.003825297  0.162317  0.172317"
      ]
     },
     "execution_count": 12,
     "metadata": {},
     "output_type": "execute_result"
    }
   ],
   "source": [
    "grouped_df = df\n",
    "final = grouped_df.reindex(full_idx, method='nearest')\n",
    "final.index.name='Voila'\n",
    "final"
   ]
  },
  {
   "cell_type": "code",
   "execution_count": null,
   "metadata": {},
   "outputs": [],
   "source": []
  }
 ],
 "metadata": {
  "kernelspec": {
   "display_name": "Python 3",
   "language": "python",
   "name": "python3"
  },
  "language_info": {
   "codemirror_mode": {
    "name": "ipython",
    "version": 3
   },
   "file_extension": ".py",
   "mimetype": "text/x-python",
   "name": "python",
   "nbconvert_exporter": "python",
   "pygments_lexer": "ipython3",
   "version": "3.6.5"
  }
 },
 "nbformat": 4,
 "nbformat_minor": 2
}
