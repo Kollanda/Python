{
 "cells": [
  {
   "cell_type": "markdown",
   "metadata": {},
   "source": [
    "Referencing is an important part of academic writing. However, this workbook is neither academic writing nor an attempt to falsely claim someone else's work as our ideas. Everything in here is pure plagiarism, or as we like to think, an acknowlegdement to the intellectual debt owed to great scholars and thinkers alike.      \n",
    "\n",
    "Many books and sources will not be referenced directly for at least two reasons:   \n",
    "- Our time:   \n",
    "writing this notebook is not a trivial task and takes a lot of time; the scarcest resource. While you can buy almost everything with money, you cannot buy time. It is not our (main) job to put this together. For this reason, we cannot spend hours making sure every single detail is spot on.   \n",
    "- Your time:   \n",
    "Life is full of choices. It is unlikely that you will get time off to look at this. It will already be an achievement if you manage to read the entire workbook. Some excellent resources are summarized below If you want to learn more:\n",
    "\n",
    "## MIT online courses in Math and finance:    \n",
    "[Gilbert Strang: Linear Algebra](https://ocw.mit.edu/courses/mathematics/18-06-linear-algebra-spring-2010/video-lectures/)    \n",
    "[Gilbert Strang: Differential Equations and Linear Algebra](https://ocw.mit.edu/resources/res-18-009-learn-differential-equations-up-close-with-gilbert-strang-and-cleve-moler-fall-2015/differential-equations-and-linear-algebra/)   \n",
    "[Gilbert Strang: Highlights of Calculus](https://ocw.mit.edu/resources/res-18-001-calculus-online-textbook-spring-2005/textbook/)    \n",
    "[Gilbert Strang: How the \"magic number e\" connects to ordinary things like the interest on a bank account](https://ocw.mit.edu/resources/res-18-005-highlights-of-calculus-spring-2010/highlights_of_calculus/the-exponential-function/)      \n",
    "[Gilbert Strang: Growth Rates and Log Graphs](https://www.youtube.com/watch?v=WU1m2QQrlho)   \n",
    "\n",
    "[David Jerison: Single Variable Calculus](https://ocw.mit.edu/courses/mathematics/18-01-single-variable-calculus-fall-2006/index.htm)    \n",
    "[David Jerison: Taylor's series and the natural logarithm](https://ocw.mit.edu/courses/mathematics/18-01-single-variable-calculus-fall-2006/video-lectures/lecture-38-taylors-series/) - highly recommended        \n",
    "[David Jerison: EdX courses](https://www.edx.org/bio/david-jerison)   \n",
    "\n",
    "[Topics in Mathematics with Applications in Finance](https://ocw.mit.edu/courses/mathematics/18-s096-topics-in-mathematics-with-applications-in-finance-fall-2013/video-lectures/) \n",
    "\n",
    "[Andrew Lo: Sloan School of Management - Finance Theory I](https://ocw.mit.edu/courses/sloan-school-of-management/15-401-finance-theory-i-fall-2008/index.htm) - very basic but the course was held during the collapse of Lehman, the bailout of AIG and so forth, and Prof. Lo frequently discusses these events in his lectures.   \n",
    "\n",
    "General overview    \n",
    "[MIT OCW Economics](https://ocw.mit.edu/courses/#economics)         \n",
    "[MIT OCW Mathematics](https://ocw.mit.edu/courses/#mathematics)    \n",
    "[MIT OCW Sloan School of Management](https://ocw.mit.edu/courses/#sloan-school-of-management)   \n",
    "\n",
    "\n",
    "## [Khan Academy: Econ and Finance](https://www.khanacademy.org/economics-finance-domain)       \n",
    "\n",
    "## Books   \n",
    "if you search a little bit you may find cost efficient ways to obtain copies   \n",
    "The function EBK in Bloomberg for example \n",
    "\n",
    "## Economics    \n",
    "#### Simple stuff \n",
    "[Macroeconomics: A European Perspective, 3/E: Amighini, Blanchard & Giavazzi](http://catalogue.pearsoned.co.uk/educator/product/Macroeconomics-A-European-Perspective/9781292085678.page) - a simple yet essential reading for anyone studying macroeconomics in the aftermath of the financial crisis   \n",
    "[International Economics: Krugman & Obstfeld](https://www.google.com/search?q=krugman+obstfeld+international+economics&oq=krugman+obstfeld+international+economics&aqs=chrome..69i57.7912j0j4&sourceid=chrome&ie=UTF-8)   \n",
    "[Economics - European Edition: Krugman Wells & Graddy](https://www.amazon.co.uk/Economics-European-PV-Paul-Krugman/dp/0716799561)    \n",
    "[Economics: Samuelson & Nordhaus](https://www.amazon.co.uk/Economics-Paul-Samuelson/dp/0073511293) \n",
    "\n",
    "#### Serious stuff   \n",
    "[Applied Computational Economics and Finance: Miranda & Fackler](https://mitpress.mit.edu/books/applied-computational-economics-and-finance)  \n",
    "[Recursive Macroeconomic Theory: Ljungqvist and Thomas J. Sargent](https://mitpress.mit.edu/books/recursive-macroeconomic-theory-fourth-edition)   \n",
    "[Macroeconomic Theory: Michael Wickens](https://press.princeton.edu/titles/9743.html)    \n",
    "[Advanced Microeconomic Theory: Jehle](https://www.amazon.co.uk/Advanced-Microeconomic-Theory-Geoffrey-Jehle/dp/0273731912)   \n",
    "[Economic Growth: J. Barro AND Xavier Sala-i-Martin](https://mitpress.ublish.com/ereader/65/?preview#page/cover)   \n",
    "\n",
    "\n",
    "## Mathematics   \n",
    "[Essential Mathematics for Economic Analysis: Sydsaeter, Strom & Hammond](https://www.amazon.co.uk/Essential-Mathematics-Economic-Analysis-Sydsaeter/dp/0273760688/ref=pd_lpo_sbs_14_t_1?_encoding=UTF8&psc=1&refRID=3AYS66YVRV61B7ZHK4ED)    \n",
    "[Further Mathematics for Economic Analysis: Sydsaeter, Strom & Hammond](https://www.amazon.co.uk/Further-Mathematics-Economic-Analysis-Financial/dp/0273713280)    \n",
    "[Stochastic Calculus for Finance I: Shreve](https://www.amazon.co.uk/Stochastic-Calculus-Finance-Binomial-Textbooks/dp/0387249680)     \n",
    "[Stochastic Calculus for Finance II: Shreve](https://www.amazon.co.uk/Stochastic-Calculus-Finance-Ii-Continuous-Time/dp/144192311X/ref=pd_lpo_sbs_14_t_0?_encoding=UTF8&psc=1&refRID=AT7010VBMBTQTVRFB58C)    \n",
    "[How to learn mathematics without heading to university](https://www.quantstart.com/articles/How-to-Learn-Advanced-Mathematics-Without-Heading-to-University-Part-1)  \n",
    "\n",
    "## Statistics and Econometrics   \n",
    "#### Simple Stuff    \n",
    "[Introductory Econometrics: Wooldridge](https://www.amazon.co.uk/Introductory-Econometrics-Modern-Approach-Mindtap/dp/1337558869/ref=dp_ob_title_bk)      \n",
    "[Analysis of Financial Time Series: Tsay](https://www.amazon.co.uk/Analysis-Financial-Wiley-Probability-Statistics/dp/0470414359/ref=pd_sbs_14_3?_encoding=UTF8&pd_rd_i=0470414359&pd_rd_r=5d03efe9-0e12-11e9-877d-f372ef316dca&pd_rd_w=JDYVk&pd_rd_wg=ihsKn&pf_rd_p=18edf98b-139a-41ee-bb40-d725dd59d1d3&pf_rd_r=145W0JQPP1B5Y5VNE88V&psc=1&refRID=145W0JQPP1B5Y5VNE88V)     \n",
    "[Elements of Forecasting: Diebold](https://www.amazon.co.uk/Elements-Forecasting-Francis-X-Diebold/dp/032432359X)  \n",
    "\n",
    "#### Serious Stuff\n",
    "[Structural Macroeconometrics: David N. DeJong & Chetan Dave](https://press.princeton.edu/titles/9743.html)    \n",
    "[Econometrics: Hayashi](https://press.princeton.edu/titles/6946.html)    \n",
    "[Time Series Analysis: Hamilton](https://press.princeton.edu/titles/5386.html)   \n",
    "[Lecture notes for Macroeconomics: Krusell](http://www.econ.yale.edu/smith/econ510a/book.pdf)   \n",
    "[Econometrics Analsyis: Greene](https://www.amazon.co.uk/Econometric-Analysis-William-H-Greene/dp/0131395386/ref=cm_cr_arp_d_product_top?ie=UTF8)     \n",
    "\n",
    "## Finance    \n",
    "[International Financial Management: Bekaert & Hodrick](https://www.pearson.com/us/higher-education/program/Bekaert-International-Financial-Management-2nd-Edition/PGM240891.html)    \n",
    "[Principles of Corporate Finance: Brealey, Richard, Stewart Myers, & Franklin Allen](https://www.amazon.com/exec/obidos/ASIN/0071266755/ref=nosim/mitopencourse-20)     \n",
    "[Investments: Bodie, Zvi, Alex Kane, & Alan Marcus](https://www.amazon.com/Investments-Standalone-Zvi-Bodie-Professor/dp/1259277178/ref=dp_ob_image_bk)    \n",
    "[The Economics of Money, Banking and Financial Markets: Mishkin](https://www.amazon.co.uk/Economics-Banking-Financial-Markets-Global/dp/1292094184/ref=pd_rhf_dp_s_cp_0_3?_encoding=UTF8&pd_rd_i=1292094184&pd_rd_r=9bc76cf1-718a-4421-976f-66f5843ab26e&pd_rd_w=Dq7lG&pd_rd_wg=TsqV0&psc=1&refRID=34YWP8HG3FBZ6GPE86E0)   \n",
    "\n",
    "### Options  \n",
    "[Options, Futures, and Other Derivatives: Hull](https://www.amazon.co.uk/Options-Futures-Other-Derivatives-Global/dp/1292212896/ref=pd_sbs_14_27?_encoding=UTF8&pd_rd_i=1292212896&pd_rd_r=79353129-0e12-11e9-84a0-81207e864361&pd_rd_w=Mq4JE&pd_rd_wg=Dz5vm&pf_rd_p=18edf98b-139a-41ee-bb40-d725dd59d1d3&pf_rd_r=TS6FHHPBCXDEKFDCPHMG&psc=1&refRID=TS6FHHPBCXDEKFDCPHMG)    \n",
    "[Paul Wilmott Introduces Quantitative Finance](https://www.amazon.co.uk/Paul-Wilmott-Introduces-Quantitative-Finance/dp/0470319585)   \n",
    "[Derivatives: Paul Willmott](https://www.amazon.co.uk/Derivatives-Theory-Practice-Financial-Engineering/dp/0471983667)    \n",
    "[Paul Wilmott on Quantitative Finance](https://www.amazon.co.uk/Paul-Wilmott-Quantitative-Finance-2nd/product-reviews/0470018704/ref=cm_cr_dp_d_hist_5?ie=UTF8&filterByStar=five_star&reviewerType=all_reviews#reviews-filter-bar)   \n",
    "[Derivatives Analytics with Python: Data Analysis, Models, Simulation, Calibration and Hedging: Hilpish](https://www.amazon.co.uk/Derivatives-Analytics-Python-Simulation-Calibration/dp/1119037999/ref=cm_cr_arp_d_product_sims?ie=UTF8)    \n",
    "\n",
    "\n",
    "\n",
    "## Non-academic   \n",
    "[A Random Walk Down Wall Street: Malkiel, Burton](https://www.amazon.co.uk/Random-Walk-Down-Wall-Street/dp/0393330338)     \n",
    "[Liar's Poker: Michael Lewis](https://www.amazon.co.uk/Liars-Poker-author-Short-Hodder/dp/0340839961)   \n",
    "[The Big Short: Michael Lewis](https://www.waterstones.com/book/the-big-short/michael-lewis/9780141043531)    \n",
    "[The Intelligent Investor: Benjamin Graham](https://www.amazon.co.uk/Intelligent-Investor-Definitive-Investing-Practical/dp/0060555661) - In the words or Warren Buffett: \"Iread the first edition of this book early in 1950, when I was nineteen. I thought then that it was by far the best book about investing ever written. I still think it is.\"    \n",
    "[Against the Gods: The Remarkable Story of Risk: Bernstein](https://www.amazon.co.uk/Against-Gods-Remarkable-Story-Risk/dp/0471295639)    \n",
    "[The Return of Depression Economics and the Crisis of 2008: Krugman](https://www.amazon.co.uk/Return-Depression-Economics-Crisis-2008-ebook/dp/B003RWS49M)    \n",
    "[Peddling Prosperity: Krugman](https://www.amazon.co.uk/Peddling-Prosperity-Diminished-Expectations-Paperback/dp/0393312925)       \n",
    "[When Genius Failed: The Rise and Fall of Long Term Capital Management: Lowenstein](https://www.amazon.co.uk/When-Genius-Failed-Capital-Management/dp/1841155047)   \n",
    "[The Essays of Warren Buffett: Lessons for Corporate America](https://www.amazon.co.uk/Essays-Warren-Buffett-Lessons-Corporate/product-reviews/1611634091/ref=cm_cr_dp_d_hist_1?ie=UTF8&filterByStar=one_star&reviewerType=all_reviews#reviews-filter-bar)    \n",
    "[Crisis Economics: A Crash Course in the Future of Finance: Nouriel Roubini](https://www.amazon.co.uk/Crisis-Economics-Course-Future-Finance/dp/0141045930)     \n",
    "\n",
    "\n",
    "## Python    \n",
    "[Python for Econometrics(Kevin Sheppard)](https://www.kevinsheppard.com/Python_for_Econometrics)     \n",
    "[Quantitiave Economics with Python (Thomas Sargent and John Stachurski)](http://quant-econ.net/_static/pdfs/py-quant-econ.pdf)    \n",
    "[Latex with Jupyter](https://www.youtube.com/watch?v=-F4WS8o-G2A)     \n",
    "[Notebook](http://nbviewer.jupyter.org/github/twistedhardware/mltutorial/blob/master/notebooks/jupyter/2.%20Markdown%20%26%20LaTeX.ipynb)    \n",
    "[Bryn Mawr Computer Science Guide](https://jupyter.brynmawr.edu/services/public/dblank/Jupyter%20Notebook%20Users%20Manual.ipynb).\n",
    "[Jupyter Tips and Trick](https://www.dataquest.io/blog/jupyter-notebook-tips-tricks-shortcuts/)\n",
    "\n",
    "\n"
   ]
  },
  {
   "cell_type": "markdown",
   "metadata": {},
   "source": [
    "# Why the natural logarithm is such a natural choice     \n",
    "\n",
    "[Gilbert Strang: Growth Rates and Log Graphs](https://www.youtube.com/watch?v=WU1m2QQrlho) is additional to the material covered here, so worth watching     \n",
    "[List of Logarithmis Identities](https://en.wikipedia.org/wiki/List_of_logarithmic_identities)\n",
    "\n",
    "<div class=\"alert alert-block alert-info\">\n",
    "<b>Reason 1:</b> the log difference is approximating percent change\n",
    "</div>  \n",
    "why is that? Well there are several ways to show this:  \n",
    "- One is presented below   \n",
    "- [Some others using Taylor's Series and Maclaurin Series](https://stats.stackexchange.com/questions/244199/why-is-it-that-natural-log-changes-are-percentage-changes-what-is-about-logs-th)  \n",
    "  \n",
    "  \n",
    "\n",
    "**If you have two values:**     \n",
    "x = value Old (say 1.0)    \n",
    "y = value New (say 1.01)   \n",
    "\n",
    "<div class=\"alert alert-block alert-warning\"> \n",
    "<b>Property 1:</b> Simply percent calculation shows it is 1%   \n",
    "$\\frac{New - Old}{Old} = \\frac{New}{Old} - 1 = \\frac{1.01}{1.0} -1 = 0.1$\n",
    "</div>     \n",
    "     \n",
    "\n",
    "<div class=\"alert alert-block alert-warning\">\n",
    "<b>Property 2:</b> [Khan Academy Logarithmic properties](https://www.khanacademy.org/math/algebra2/exponential-and-logarithmic-functions/properties-of-logarithms/a/properties-of-logarithms)   \n",
    "$ln \\Bigg(\\frac{u }{ v}\\Bigg) = ln (u) - ln (v)   $ \n",
    "</div>     \n",
    "\n",
    "\n",
    "<div class=\"alert alert-block alert-warning\">\n",
    "<b>Property 3:</b> $ln (1 + x) \\approx x $\n",
    "</div>   \n"
   ]
  },
  {
   "cell_type": "code",
   "execution_count": 86,
   "metadata": {},
   "outputs": [
    {
     "name": "stdout",
     "output_type": "stream",
     "text": [
      "0.010000000000000009\n",
      "0.010000000000000009\n"
     ]
    }
   ],
   "source": [
    "x = 1\n",
    "y = 1.01\n",
    "print((y-x)/x)\n",
    "print(y/x-1)"
   ]
  },
  {
   "cell_type": "markdown",
   "metadata": {},
   "source": [
    "<div class=\"alert alert-block alert-success\">\n",
    "<b>Tip:</b> This is not a computational error:  \n",
    "[Python Docs](https://docs.python.org/3/tutorial/floatingpoint.html)     \n",
    "[Rounding in Python](https://kfolds.com/rounding-in-python-when-arithmetic-isnt-quite-right-11a79a30390a)     \n",
    "[Is floating point math broken](https://stackoverflow.com/questions/588004/is-floating-point-math-broken)  \n",
    "</div>    \n"
   ]
  },
  {
   "cell_type": "code",
   "execution_count": 56,
   "metadata": {},
   "outputs": [
    {
     "data": {
      "text/plain": [
       "Decimal('0.3000000000000000444089209850062616169452667236328125')"
      ]
     },
     "execution_count": 56,
     "metadata": {},
     "output_type": "execute_result"
    }
   ],
   "source": [
    "from decimal import Decimal\n",
    "Decimal(0.1 + 0.2)"
   ]
  },
  {
   "cell_type": "code",
   "execution_count": 80,
   "metadata": {},
   "outputs": [
    {
     "data": {
      "text/plain": [
       "<matplotlib.lines.Line2D at 0x1fc9ab78320>"
      ]
     },
     "execution_count": 80,
     "metadata": {},
     "output_type": "execute_result"
    },
    {
     "data": {
      "image/png": "[encoded data removed]",
      "text/plain": [
       "<Figure size 432x288 with 1 Axes>"
      ]
     },
     "metadata": {},
     "output_type": "display_data"
    }
   ],
   "source": [
    "import numpy as np\n",
    "import matplotlib.pyplot as plt\n",
    "import math\n",
    "\n",
    "x = np.linspace(0.05, 15, 2000)\n",
    "y_e = np.log(x)\n",
    "\n",
    "\n",
    "plt.plot(x, y_e)\n",
    "\n",
    "plt.legend(['Natural Logarithm'], loc='lower right')\n",
    "#plt.xticks(range(math.floor(min(x)), math.ceil(max(x))+1))\n",
    "plt.axhline(0, color='black', linewidth='0.5')\n",
    "plt.axvline(0, color='black', linewidth='0.5')"
   ]
  },
  {
   "cell_type": "markdown",
   "metadata": {},
   "source": [
    "[Why log(1) = 0 ](https://www.quora.com/Why-does-log1-equal-to-zero)"
   ]
  },
  {
   "cell_type": "code",
   "execution_count": 58,
   "metadata": {},
   "outputs": [
    {
     "name": "stdout",
     "output_type": "stream",
     "text": [
      "0.0009995003330834232\n",
      "0.009950330853168092\n"
     ]
    }
   ],
   "source": [
    "a = 0.001\n",
    "b = 0.01\n",
    "print(math.log(1 + a))\n",
    "print(math.log(1 + b))"
   ]
  },
  {
   "cell_type": "markdown",
   "metadata": {},
   "source": [
    "Now defining   \n",
    "$ x = \\frac{New - Old}{Old} = \\frac{New}{Old} - 1 $     \n",
    "\n",
    "and using     \n",
    "\n",
    "$ ln (1 + x) \\approx x  $    \n",
    "\n",
    "one can write    \n",
    "\n",
    "$ ln \\Bigg(1 + \\frac{New}{Old} - 1\\Bigg) = ln \\Bigg(\\frac{New}{Old}\\Bigg) \\approx \\frac{New - Old}{Old}$   \n",
    "\n",
    "which using the properties of logs     \n",
    "$ln \\Bigg(\\frac{u }{ v}\\Bigg) = ln (u) - ln (v)  $    \n",
    "can be rewritten as   \n",
    "\n",
    "$ ln (New) - ln (Old) \\approx \\frac{New - Old}{Old}$ "
   ]
  },
  {
   "cell_type": "code",
   "execution_count": 71,
   "metadata": {},
   "outputs": [
    {
     "name": "stdout",
     "output_type": "stream",
     "text": [
      "0.010000000000000009\n",
      "0.009950330853168092\n"
     ]
    }
   ],
   "source": [
    "x = 1\n",
    "y = 1.01\n",
    "print((y-x)/x)\n",
    "print(math.log(y)-math.log(x))\n"
   ]
  },
  {
   "cell_type": "markdown",
   "metadata": {},
   "source": [
    "<div class=\"alert alert-block alert-success\">\n",
    "<b>Tip:</b> The log difference is independent of the direction of change\n",
    "</div> \n",
    "Another point worth noting is that 1.1 to 1 is an almost 9.1% decrease, 1 to 1.1 is a 10% increase, the log difference 0.953 is independent of the direction of change, and always in between of 9.1 and 10. Moreover, if you flip the values in the log differences, all that changes is the sign, but not the value itself."
   ]
  },
  {
   "cell_type": "code",
   "execution_count": 87,
   "metadata": {},
   "outputs": [
    {
     "name": "stdout",
     "output_type": "stream",
     "text": [
      "-9.090909090909093\n",
      "10.000000000000009\n",
      "9.531017980432493\n",
      "-9.531017980432493\n"
     ]
    }
   ],
   "source": [
    "x = 1\n",
    "y = 1.1\n",
    "print((x/y-1)*100)\n",
    "print(((y-x)/x)*100)\n",
    "print((math.log(y)-math.log(x))*100)\n",
    "print((math.log(x)-math.log(y))*100)"
   ]
  },
  {
   "cell_type": "markdown",
   "metadata": {},
   "source": [
    "<div class=\"alert alert-block alert-info\">\n",
    "<b>Reason 2:</b> Logarithmic Scales\n",
    "</div> "
   ]
  },
  {
   "cell_type": "markdown",
   "metadata": {},
   "source": [
    "A variable that grows at a constant growth rate increases by larger and larger increments over time. Take a varible x that grows over time at a constant growth rate, say at 3% per year:   \n",
    "- Start in year 0 and assume that x = 2. So a 3% increas in x represents ans increase of 0.06. \n",
    "- In year 20, x is now equal to $2*1.03^{20} = 3.61$\n",
    "- In year 100, x is equal to 38.4. A 3% increase represents an increase of 1.15 (0.03* 38.4), so an increase about 20 times larger than in year 0. \n"
   ]
  },
  {
   "cell_type": "code",
   "execution_count": 107,
   "metadata": {},
   "outputs": [
    {
     "name": "stdout",
     "output_type": "stream",
     "text": [
      "0.06\n",
      "3.6122224693388296\n",
      "38.437263961712596\n",
      "1.1531179188513778\n",
      "19.218631980856298\n"
     ]
    }
   ],
   "source": [
    "x = 2\n",
    "growth = 0.03\n",
    "year_0 = growth*x\n",
    "print(year_0)\n",
    "year_20 = x*(1+growth)**20\n",
    "print(year_20)\n",
    "year_100 = (x*(1+growth)**100)\n",
    "print(year_100)\n",
    "print(growth*year_100)\n",
    "print(growth*year_100/year_0)"
   ]
  },
  {
   "cell_type": "markdown",
   "metadata": {},
   "source": [
    "If we plot x against time using a standard (linear) vertical scale, the plot looks exponential. The increase in x becomes larger and larger over time.   \n",
    "Another way of representing the evolution of x is to use a *logarithmic scale* to measure x on the vertical axis. The property of the lograithmic scale is that the same proportional increase in this variable is represented by the same vertical distance on the scale. Since the growth rate is constant in this example, it becomes a perfect linear line. "
   ]
  },
  {
   "cell_type": "code",
   "execution_count": 127,
   "metadata": {},
   "outputs": [
    {
     "data": {
      "image/png": "[encoded data removed]",
      "text/plain": [
       "<Figure size 432x288 with 1 Axes>"
      ]
     },
     "metadata": {},
     "output_type": "display_data"
    }
   ],
   "source": [
    "from matplotlib import pyplot\n",
    "import numpy as np\n",
    "import math\n",
    "\n",
    "a = np.arange(0,200)\n",
    "x = 2\n",
    "growth = 0.03\n",
    "value = x * (1+growth)**a\n",
    "\n",
    "pyplot.subplot(1,1,1)\n",
    "pyplot.plot(value, color='blue', lw=1)\n",
    "pyplot.show()"
   ]
  },
  {
   "cell_type": "code",
   "execution_count": 128,
   "metadata": {},
   "outputs": [
    {
     "data": {
      "image/png": "[encoded data removed]",
      "text/plain": [
       "<Figure size 432x288 with 1 Axes>"
      ]
     },
     "metadata": {},
     "output_type": "display_data"
    }
   ],
   "source": [
    "pyplot.subplot(1,1,1)\n",
    "pyplot.plot(value, color='blue', lw=1)\n",
    "pyplot.yscale('log')\n",
    "pyplot.show()"
   ]
  },
  {
   "cell_type": "code",
   "execution_count": 157,
   "metadata": {},
   "outputs": [
    {
     "data": {
      "image/png": "[encoded data removed]",
      "text/plain": [
       "<Figure size 432x288 with 1 Axes>"
      ]
     },
     "metadata": {},
     "output_type": "display_data"
    },
    {
     "name": "stdout",
     "output_type": "stream",
     "text": [
      "6.551080335043404\n"
     ]
    }
   ],
   "source": [
    "pyplot.subplot(1,1,1)\n",
    "pyplot.plot(np.log(value), color='blue', lw=1)\n",
    "pyplot.show()\n",
    "print(np.log(700)) # see chart above, for 200 years the value is about 700 (eyeballing)"
   ]
  },
  {
   "cell_type": "markdown",
   "metadata": {},
   "source": [
    "In contrast to our examples, economic varibales such as GDP do not grow at a constant growth rate every year. Their growth rate may be higher in some decades, and lower in others. Yet, when looking at their evolution over time, it is often more informative to use a logarithmic scale than a linear scale. GDP is several times bigger now than 100 years ago. The curve becomes steeper and steeper and it is very difficult to see whether the economy is growing faster or slower than it was 50 or a 100 years ago. "
   ]
  },
  {
   "cell_type": "code",
   "execution_count": 158,
   "metadata": {},
   "outputs": [],
   "source": [
    "# include terminal chart of SPX index with and without log scale "
   ]
  },
  {
   "cell_type": "markdown",
   "metadata": {},
   "source": [
    " - see Kwan forecasting course homework 1 \n",
    "taking logs approximates normal distirbution easier - beneficial for properties of many econometirc models   \n",
    "homoskedsticity is more likely    "
   ]
  },
  {
   "cell_type": "code",
   "execution_count": 48,
   "metadata": {},
   "outputs": [
    {
     "data": {
      "text/plain": [
       "7.24422751560335"
      ]
     },
     "execution_count": 48,
     "metadata": {},
     "output_type": "execute_result"
    }
   ],
   "source": [
    "np.log(1400)"
   ]
  },
  {
   "cell_type": "markdown",
   "metadata": {},
   "source": [
    "Homoskedastic\n",
    "Often, measurements are seen to vary on a percentage basis, for example, by 10% say. In such a case, something with a typical value of 80 might jump around within a range of +-8 while something with a typical value of 150 might jump around within a range of +-15. Even if it's not on an exact percentage basis, often groups that tend to have larger values also tend to have greater within-group variability. A logarithmic transformation will often make the within-group variability more similar across groups. If the measurement does vary on a percentage basis, the variability will be constant in the logarithmic scale. "
   ]
  },
  {
   "cell_type": "markdown",
   "metadata": {},
   "source": [
    "# A variable x has a log-normal distribution if log(x) is normally distributed.   \n",
    "where \\mu is the mean and \\sigma is the standard deviation of the normally distributed logarithm of the variable. A log-normal distribution results if a random variable is the product of a large number of independent, identically-distributed variables in the same way that a normal distribution results if the variable is the sum of a large number of independent, identically-distributed variables.  \n",
    "[Log-Normal Distribution](https://en.wikipedia.org/wiki/Log-normal_distribution)"
   ]
  },
  {
   "cell_type": "code",
   "execution_count": 198,
   "metadata": {},
   "outputs": [
    {
     "data": {
      "image/png": "[encoded data removed]",
      "text/plain": [
       "<Figure size 432x288 with 1 Axes>"
      ]
     },
     "metadata": {},
     "output_type": "display_data"
    }
   ],
   "source": [
    "mu, sigma = 30, 0.5 # mean and standard deviation\n",
    "s = np.random.lognormal(mu, sigma, 1000)\n",
    "import matplotlib.pyplot as plt\n",
    "count, bins, ignored = plt.hist(s, 50, density=True, align='mid')\n"
   ]
  },
  {
   "cell_type": "code",
   "execution_count": 199,
   "metadata": {},
   "outputs": [
    {
     "name": "stderr",
     "output_type": "stream",
     "text": [
      "C:\\Users\\alexa\\Anaconda3\\lib\\site-packages\\matplotlib\\axes\\_axes.py:6462: UserWarning: The 'normed' kwarg is deprecated, and has been replaced by the 'density' kwarg.\n",
      "  warnings.warn(\"The 'normed' kwarg is deprecated, and has been \"\n"
     ]
    },
    {
     "data": {
      "text/plain": [
       "<matplotlib.axes._subplots.AxesSubplot at 0x1e80369acc0>"
      ]
     },
     "execution_count": 199,
     "metadata": {},
     "output_type": "execute_result"
    },
    {
     "data": {
      "image/png": "[encoded data removed]",
      "text/plain": [
       "<Figure size 432x288 with 1 Axes>"
      ]
     },
     "metadata": {},
     "output_type": "display_data"
    }
   ],
   "source": [
    "sns.distplot (s)"
   ]
  },
  {
   "cell_type": "code",
   "execution_count": 200,
   "metadata": {},
   "outputs": [
    {
     "data": {
      "image/png": "[encoded data removed]",
      "text/plain": [
       "<Figure size 432x288 with 1 Axes>"
      ]
     },
     "metadata": {},
     "output_type": "display_data"
    }
   ],
   "source": [
    "s_log = np.log(s)\n",
    "count, bins, ignored = plt.hist(s_log, 50, align='mid')"
   ]
  },
  {
   "cell_type": "markdown",
   "metadata": {},
   "source": [
    "[Shapiro-Wilk Test for Normality](https://en.wikipedia.org/wiki/Shapiro%E2%80%93Wilk_test)   \n",
    "If your p-value <= 0.05, then you would reject the NULL hypothesis that the samples came from a Normal distribution. To put it loosely, there is a rare chance that the samples came from a normal distribution."
   ]
  },
  {
   "cell_type": "code",
   "execution_count": 202,
   "metadata": {},
   "outputs": [
    {
     "data": {
      "text/plain": [
       "(0.9971720576286316, 0.07594924420118332)"
      ]
     },
     "execution_count": 202,
     "metadata": {},
     "output_type": "execute_result"
    }
   ],
   "source": [
    "from scipy import stats\n",
    "stats.shapiro(s_log)"
   ]
  },
  {
   "cell_type": "code",
   "execution_count": 169,
   "metadata": {},
   "outputs": [
    {
     "name": "stderr",
     "output_type": "stream",
     "text": [
      "C:\\Users\\alexa\\Anaconda3\\lib\\site-packages\\matplotlib\\axes\\_axes.py:6462: UserWarning: The 'normed' kwarg is deprecated, and has been replaced by the 'density' kwarg.\n",
      "  warnings.warn(\"The 'normed' kwarg is deprecated, and has been \"\n"
     ]
    },
    {
     "data": {
      "text/plain": [
       "<matplotlib.axes._subplots.AxesSubplot at 0x1e8038269b0>"
      ]
     },
     "execution_count": 169,
     "metadata": {},
     "output_type": "execute_result"
    },
    {
     "data": {
      "image/png": "[encoded data removed]",
      "text/plain": [
       "<Figure size 432x288 with 1 Axes>"
      ]
     },
     "metadata": {},
     "output_type": "display_data"
    }
   ],
   "source": [
    "sns.distplot(s_log)"
   ]
  },
  {
   "cell_type": "markdown",
   "metadata": {},
   "source": [
    "Demonstrate that taking the products of random samples from a uniform distribution can be fit well by a log-normal probability density function."
   ]
  },
  {
   "cell_type": "markdown",
   "metadata": {},
   "source": [
    "${\\displaystyle \\mu =\\ln \\left({\\frac {m}{\\sqrt {1+{\\frac {v}{m^{2}}}}}}\\right),\\qquad \\sigma ^{2}=\\ln \\left(1+{\\frac {v}{m^{2}}}\\right).}$"
   ]
  },
  {
   "cell_type": "code",
   "execution_count": 190,
   "metadata": {},
   "outputs": [
    {
     "name": "stdout",
     "output_type": "stream",
     "text": [
      "0.2778115198838728 1.0958789734851402\n"
     ]
    },
    {
     "data": {
      "image/png": "[encoded data removed]",
      "text/plain": [
       "<Figure size 432x288 with 1 Axes>"
      ]
     },
     "metadata": {},
     "output_type": "display_data"
    }
   ],
   "source": [
    "# Generate 10 thousand samples: each is the product of 100 random values, drawn from a normal distribution.\n",
    "b = []\n",
    "for i in range(10000):\n",
    "   a = 10 + np.random.random(100)\n",
    "   b.append(np.product(a))\n",
    "b = np.array(b) / np.min(b) # scale values to be positive\n",
    "count, bins, ignored = plt.hist(b, 100, align='mid')\n",
    "sigma = np.std(np.log(b))\n",
    "mu = np.mean(np.log(b))\n",
    "print(sigma, mu) # mean and standard deviation"
   ]
  },
  {
   "cell_type": "markdown",
   "metadata": {},
   "source": [
    "The probability density function for the log-normal distribution is:  \n",
    "\n",
    "$  p(x) = \\frac{1}{\\sigma x \\sqrt{2\\pi}}e^{\\Bigg(-\\frac{(ln(x)-\\mu)^2}{2\\sigma^2}\\Bigg)}$    \n",
    "where $\\mu$ is the mean and $\\sigma$ is the standard deviation of the normally distributed logarithm of the variable.\n",
    "\n"
   ]
  },
  {
   "cell_type": "code",
   "execution_count": 191,
   "metadata": {},
   "outputs": [
    {
     "data": {
      "image/png": "[encoded data removed]",
      "text/plain": [
       "<Figure size 432x288 with 1 Axes>"
      ]
     },
     "metadata": {},
     "output_type": "display_data"
    }
   ],
   "source": [
    "x = np.linspace(min(bins), max(bins), 10000)\n",
    "pdf = (np.exp(-(np.log(x) - mu)**2 / (2 * sigma**2))/ (x * sigma * np.sqrt(2 * np.pi)))\n",
    "plt.plot(x, pdf, color='r', linewidth=2)\n",
    "plt.show()"
   ]
  },
  {
   "cell_type": "code",
   "execution_count": 195,
   "metadata": {},
   "outputs": [
    {
     "data": {
      "image/png": "[encoded data removed]",
      "text/plain": [
       "<Figure size 432x288 with 1 Axes>"
      ]
     },
     "metadata": {},
     "output_type": "display_data"
    }
   ],
   "source": [
    "count, bins, ignored = plt.hist(np.log(b),100, align='mid') # again taking the log of the variables makes it almost normal"
   ]
  },
  {
   "cell_type": "markdown",
   "metadata": {},
   "source": [
    "Symmetry\n",
    "\n",
    "A logarithmic transformation will reduce positive skewness because it compresses the upper end (tail) of the distribution while stretching out the lower end. This is because the distances between 0.1 and 1, 1 and 10, 10 and 100, and 100 and 1000 are the same in the logarithmic scale"
   ]
  },
  {
   "cell_type": "code",
   "execution_count": 216,
   "metadata": {},
   "outputs": [],
   "source": [
    "asymmetric = (0.1,1,10,100,1000)\n",
    "symmetric = np.log(asymmetric)"
   ]
  },
  {
   "cell_type": "code",
   "execution_count": 217,
   "metadata": {},
   "outputs": [
    {
     "data": {
      "text/plain": [
       "[<matplotlib.lines.Line2D at 0x1e803f06668>]"
      ]
     },
     "execution_count": 217,
     "metadata": {},
     "output_type": "execute_result"
    },
    {
     "data": {
      "image/png": "[encoded data removed]",
      "text/plain": [
       "<Figure size 432x288 with 1 Axes>"
      ]
     },
     "metadata": {},
     "output_type": "display_data"
    }
   ],
   "source": [
    "pyplot.plot(asymmetric)"
   ]
  },
  {
   "cell_type": "code",
   "execution_count": 218,
   "metadata": {},
   "outputs": [
    {
     "data": {
      "text/plain": [
       "[<matplotlib.lines.Line2D at 0x1e802f6ac88>]"
      ]
     },
     "execution_count": 218,
     "metadata": {},
     "output_type": "execute_result"
    },
    {
     "data": {
      "image/png": "[encoded data removed]",
      "text/plain": [
       "<Figure size 432x288 with 1 Axes>"
      ]
     },
     "metadata": {},
     "output_type": "display_data"
    }
   ],
   "source": [
    "pyplot.plot(symmetric)"
   ]
  },
  {
   "cell_type": "markdown",
   "metadata": {},
   "source": [
    "For example, if you apply any logarithmic transformation to a set of data, the mean (average) of the logs is approximately equal to the log of the original mean, whatever type of logarithms you use. However, only for natural logs is the measure of spread called the standard deviation (SD) approximately equal to the coefficient of variation (the ratio of the SD to the mean) in the original scale."
   ]
  },
  {
   "cell_type": "code",
   "execution_count": null,
   "metadata": {},
   "outputs": [],
   "source": []
  }
 ],
 "metadata": {
  "kernelspec": {
   "display_name": "Python 3",
   "language": "python",
   "name": "python3"
  },
  "language_info": {
   "codemirror_mode": {
    "name": "ipython",
    "version": 3
   },
   "file_extension": ".py",
   "mimetype": "text/x-python",
   "name": "python",
   "nbconvert_exporter": "python",
   "pygments_lexer": "ipython3",
   "version": "3.6.5"
  }
 },
 "nbformat": 4,
 "nbformat_minor": 2
}
